{
 "cells": [
  {
   "cell_type": "markdown",
   "id": "ecf4065c",
   "metadata": {},
   "source": [
    "## Step 1 - Project Statement"
   ]
  },
  {
   "cell_type": "raw",
   "id": "47c9b81e",
   "metadata": {},
   "source": [
    "Precision agriculture is a trend now a days. \n",
    "It helps farmer to select a best suitable crop to grow in particular farm\n",
    "based on features like N(Nitrogen),P(Phosphorus) and K(Potassium) content of the soil \n",
    "and ph value of soil as well as the environment condition like tempreture,humidity and rainfall"
   ]
  },
  {
   "cell_type": "markdown",
   "id": "eb56bcf9",
   "metadata": {},
   "source": [
    "## Step 2 - Data Gathering"
   ]
  },
  {
   "cell_type": "markdown",
   "id": "575efcd9",
   "metadata": {},
   "source": [
    "### Import Libraries"
   ]
  },
  {
   "cell_type": "code",
   "execution_count": 1,
   "id": "01fcaeac",
   "metadata": {},
   "outputs": [],
   "source": [
    "import pandas as pd\n",
    "import numpy as np\n",
    "import matplotlib.pyplot as plt\n",
    "import seaborn as sns\n",
    "from sklearn.model_selection import train_test_split,RandomizedSearchCV\n",
    "from sklearn.linear_model import LinearRegression,LogisticRegression\n",
    "from sklearn.neighbors import KNeighborsClassifier,KNeighborsRegressor\n",
    "from sklearn.tree import DecisionTreeRegressor,DecisionTreeClassifier,plot_tree\n",
    "from sklearn.ensemble import RandomForestClassifier,RandomForestRegressor\n",
    "from sklearn.svm import SVC,SVR\n",
    "from sklearn.metrics import accuracy_score,confusion_matrix, classification_report\n",
    "from sklearn.metrics import r2_score,mean_absolute_error,mean_squared_error\n",
    "from sklearn.preprocessing import LabelEncoder"
   ]
  },
  {
   "cell_type": "code",
   "execution_count": 2,
   "id": "d9140db7",
   "metadata": {},
   "outputs": [
    {
     "data": {
      "text/html": [
       "<div>\n",
       "<style scoped>\n",
       "    .dataframe tbody tr th:only-of-type {\n",
       "        vertical-align: middle;\n",
       "    }\n",
       "\n",
       "    .dataframe tbody tr th {\n",
       "        vertical-align: top;\n",
       "    }\n",
       "\n",
       "    .dataframe thead th {\n",
       "        text-align: right;\n",
       "    }\n",
       "</style>\n",
       "<table border=\"1\" class=\"dataframe\">\n",
       "  <thead>\n",
       "    <tr style=\"text-align: right;\">\n",
       "      <th></th>\n",
       "      <th>N</th>\n",
       "      <th>P</th>\n",
       "      <th>K</th>\n",
       "      <th>temperature</th>\n",
       "      <th>humidity</th>\n",
       "      <th>ph</th>\n",
       "      <th>rainfall</th>\n",
       "      <th>label</th>\n",
       "    </tr>\n",
       "  </thead>\n",
       "  <tbody>\n",
       "    <tr>\n",
       "      <th>0</th>\n",
       "      <td>90</td>\n",
       "      <td>42</td>\n",
       "      <td>43</td>\n",
       "      <td>20.879744</td>\n",
       "      <td>82.002744</td>\n",
       "      <td>6.502985</td>\n",
       "      <td>202.935536</td>\n",
       "      <td>rice</td>\n",
       "    </tr>\n",
       "    <tr>\n",
       "      <th>1</th>\n",
       "      <td>85</td>\n",
       "      <td>58</td>\n",
       "      <td>41</td>\n",
       "      <td>21.770462</td>\n",
       "      <td>80.319644</td>\n",
       "      <td>7.038096</td>\n",
       "      <td>226.655537</td>\n",
       "      <td>rice</td>\n",
       "    </tr>\n",
       "    <tr>\n",
       "      <th>2</th>\n",
       "      <td>60</td>\n",
       "      <td>55</td>\n",
       "      <td>44</td>\n",
       "      <td>23.004459</td>\n",
       "      <td>82.320763</td>\n",
       "      <td>7.840207</td>\n",
       "      <td>263.964248</td>\n",
       "      <td>rice</td>\n",
       "    </tr>\n",
       "    <tr>\n",
       "      <th>3</th>\n",
       "      <td>74</td>\n",
       "      <td>35</td>\n",
       "      <td>40</td>\n",
       "      <td>26.491096</td>\n",
       "      <td>80.158363</td>\n",
       "      <td>6.980401</td>\n",
       "      <td>242.864034</td>\n",
       "      <td>rice</td>\n",
       "    </tr>\n",
       "    <tr>\n",
       "      <th>4</th>\n",
       "      <td>78</td>\n",
       "      <td>42</td>\n",
       "      <td>42</td>\n",
       "      <td>20.130175</td>\n",
       "      <td>81.604873</td>\n",
       "      <td>7.628473</td>\n",
       "      <td>262.717340</td>\n",
       "      <td>rice</td>\n",
       "    </tr>\n",
       "    <tr>\n",
       "      <th>...</th>\n",
       "      <td>...</td>\n",
       "      <td>...</td>\n",
       "      <td>...</td>\n",
       "      <td>...</td>\n",
       "      <td>...</td>\n",
       "      <td>...</td>\n",
       "      <td>...</td>\n",
       "      <td>...</td>\n",
       "    </tr>\n",
       "    <tr>\n",
       "      <th>2195</th>\n",
       "      <td>107</td>\n",
       "      <td>34</td>\n",
       "      <td>32</td>\n",
       "      <td>26.774637</td>\n",
       "      <td>66.413269</td>\n",
       "      <td>6.780064</td>\n",
       "      <td>177.774507</td>\n",
       "      <td>coffee</td>\n",
       "    </tr>\n",
       "    <tr>\n",
       "      <th>2196</th>\n",
       "      <td>99</td>\n",
       "      <td>15</td>\n",
       "      <td>27</td>\n",
       "      <td>27.417112</td>\n",
       "      <td>56.636362</td>\n",
       "      <td>6.086922</td>\n",
       "      <td>127.924610</td>\n",
       "      <td>coffee</td>\n",
       "    </tr>\n",
       "    <tr>\n",
       "      <th>2197</th>\n",
       "      <td>118</td>\n",
       "      <td>33</td>\n",
       "      <td>30</td>\n",
       "      <td>24.131797</td>\n",
       "      <td>67.225123</td>\n",
       "      <td>6.362608</td>\n",
       "      <td>173.322839</td>\n",
       "      <td>coffee</td>\n",
       "    </tr>\n",
       "    <tr>\n",
       "      <th>2198</th>\n",
       "      <td>117</td>\n",
       "      <td>32</td>\n",
       "      <td>34</td>\n",
       "      <td>26.272418</td>\n",
       "      <td>52.127394</td>\n",
       "      <td>6.758793</td>\n",
       "      <td>127.175293</td>\n",
       "      <td>coffee</td>\n",
       "    </tr>\n",
       "    <tr>\n",
       "      <th>2199</th>\n",
       "      <td>104</td>\n",
       "      <td>18</td>\n",
       "      <td>30</td>\n",
       "      <td>23.603016</td>\n",
       "      <td>60.396475</td>\n",
       "      <td>6.779833</td>\n",
       "      <td>140.937041</td>\n",
       "      <td>coffee</td>\n",
       "    </tr>\n",
       "  </tbody>\n",
       "</table>\n",
       "<p>2200 rows × 8 columns</p>\n",
       "</div>"
      ],
      "text/plain": [
       "        N   P   K  temperature   humidity        ph    rainfall   label\n",
       "0      90  42  43    20.879744  82.002744  6.502985  202.935536    rice\n",
       "1      85  58  41    21.770462  80.319644  7.038096  226.655537    rice\n",
       "2      60  55  44    23.004459  82.320763  7.840207  263.964248    rice\n",
       "3      74  35  40    26.491096  80.158363  6.980401  242.864034    rice\n",
       "4      78  42  42    20.130175  81.604873  7.628473  262.717340    rice\n",
       "...   ...  ..  ..          ...        ...       ...         ...     ...\n",
       "2195  107  34  32    26.774637  66.413269  6.780064  177.774507  coffee\n",
       "2196   99  15  27    27.417112  56.636362  6.086922  127.924610  coffee\n",
       "2197  118  33  30    24.131797  67.225123  6.362608  173.322839  coffee\n",
       "2198  117  32  34    26.272418  52.127394  6.758793  127.175293  coffee\n",
       "2199  104  18  30    23.603016  60.396475  6.779833  140.937041  coffee\n",
       "\n",
       "[2200 rows x 8 columns]"
      ]
     },
     "execution_count": 2,
     "metadata": {},
     "output_type": "execute_result"
    }
   ],
   "source": [
    "df = pd.read_csv(r\"D:\\Prashant\\Project\\ML 2nd Project\\Crop_recommendation.csv\")\n",
    "df"
   ]
  },
  {
   "cell_type": "markdown",
   "id": "f04b5569",
   "metadata": {},
   "source": [
    "## Features"
   ]
  },
  {
   "cell_type": "raw",
   "id": "b7ae2358",
   "metadata": {},
   "source": [
    "N - ratio of Nitrogen content in soil\n",
    "P - ratio of Phosphorous content in soil\n",
    "K - ratio of Potassium content in soil\n",
    "temperature - temperature in degree Celsius\n",
    "humidity - relative humidity in %\n",
    "ph - ph value of the soil\n",
    "rainfall - rainfall in mm"
   ]
  },
  {
   "cell_type": "code",
   "execution_count": 3,
   "id": "98808331",
   "metadata": {},
   "outputs": [
    {
     "data": {
      "text/plain": [
       "rice           100\n",
       "maize          100\n",
       "jute           100\n",
       "cotton         100\n",
       "coconut        100\n",
       "papaya         100\n",
       "orange         100\n",
       "apple          100\n",
       "muskmelon      100\n",
       "watermelon     100\n",
       "grapes         100\n",
       "mango          100\n",
       "banana         100\n",
       "pomegranate    100\n",
       "lentil         100\n",
       "blackgram      100\n",
       "mungbean       100\n",
       "mothbeans      100\n",
       "pigeonpeas     100\n",
       "kidneybeans    100\n",
       "chickpea       100\n",
       "coffee         100\n",
       "Name: label, dtype: int64"
      ]
     },
     "execution_count": 3,
     "metadata": {},
     "output_type": "execute_result"
    }
   ],
   "source": [
    "df[\"label\"].value_counts() # check the crop list"
   ]
  },
  {
   "cell_type": "code",
   "execution_count": 4,
   "id": "36cd992d",
   "metadata": {},
   "outputs": [
    {
     "data": {
      "text/plain": [
       "22"
      ]
     },
     "execution_count": 4,
     "metadata": {},
     "output_type": "execute_result"
    }
   ],
   "source": [
    "df[\"label\"].nunique() # number of crop mentioned in dataset"
   ]
  },
  {
   "cell_type": "code",
   "execution_count": 5,
   "id": "dd0a5ce3",
   "metadata": {},
   "outputs": [
    {
     "data": {
      "text/plain": [
       "(2200, 8)"
      ]
     },
     "execution_count": 5,
     "metadata": {},
     "output_type": "execute_result"
    }
   ],
   "source": [
    "df.shape # shape of dataframe"
   ]
  },
  {
   "cell_type": "markdown",
   "id": "ab4bd59f",
   "metadata": {},
   "source": [
    "## Step 3- Data Cleaning"
   ]
  },
  {
   "cell_type": "code",
   "execution_count": 6,
   "id": "1aa983e1",
   "metadata": {},
   "outputs": [
    {
     "data": {
      "text/plain": [
       "False    2200\n",
       "dtype: int64"
      ]
     },
     "execution_count": 6,
     "metadata": {},
     "output_type": "execute_result"
    }
   ],
   "source": [
    "df.duplicated(keep = \"first\").value_counts() # check out the duplicate value in dataset"
   ]
  },
  {
   "cell_type": "code",
   "execution_count": 7,
   "id": "7566ef27",
   "metadata": {},
   "outputs": [],
   "source": [
    "# It shows only False quantity (False=2200 and rows also 2200)\n",
    "# so we can say,there is no duplicate value available in data set."
   ]
  },
  {
   "cell_type": "code",
   "execution_count": 8,
   "id": "3e083afe",
   "metadata": {},
   "outputs": [
    {
     "data": {
      "text/plain": [
       "N              0\n",
       "P              0\n",
       "K              0\n",
       "temperature    0\n",
       "humidity       0\n",
       "ph             0\n",
       "rainfall       0\n",
       "label          0\n",
       "dtype: int64"
      ]
     },
     "execution_count": 8,
     "metadata": {},
     "output_type": "execute_result"
    }
   ],
   "source": [
    "df.isna().sum() # check null value count of every feature"
   ]
  },
  {
   "cell_type": "markdown",
   "id": "e2801109",
   "metadata": {},
   "source": [
    "## Data Splitting"
   ]
  },
  {
   "cell_type": "code",
   "execution_count": 9,
   "id": "a491d290",
   "metadata": {},
   "outputs": [],
   "source": [
    "# split the dataset into dependent and independent feature\n",
    "\n",
    "x = df.drop(\"label\", axis = 1)\n",
    "y = df[\"label\"]"
   ]
  },
  {
   "cell_type": "code",
   "execution_count": 10,
   "id": "ce53b093",
   "metadata": {},
   "outputs": [
    {
     "data": {
      "text/html": [
       "<div>\n",
       "<style scoped>\n",
       "    .dataframe tbody tr th:only-of-type {\n",
       "        vertical-align: middle;\n",
       "    }\n",
       "\n",
       "    .dataframe tbody tr th {\n",
       "        vertical-align: top;\n",
       "    }\n",
       "\n",
       "    .dataframe thead th {\n",
       "        text-align: right;\n",
       "    }\n",
       "</style>\n",
       "<table border=\"1\" class=\"dataframe\">\n",
       "  <thead>\n",
       "    <tr style=\"text-align: right;\">\n",
       "      <th></th>\n",
       "      <th>N</th>\n",
       "      <th>P</th>\n",
       "      <th>K</th>\n",
       "      <th>temperature</th>\n",
       "      <th>humidity</th>\n",
       "      <th>ph</th>\n",
       "      <th>rainfall</th>\n",
       "    </tr>\n",
       "  </thead>\n",
       "  <tbody>\n",
       "    <tr>\n",
       "      <th>0</th>\n",
       "      <td>90</td>\n",
       "      <td>42</td>\n",
       "      <td>43</td>\n",
       "      <td>20.879744</td>\n",
       "      <td>82.002744</td>\n",
       "      <td>6.502985</td>\n",
       "      <td>202.935536</td>\n",
       "    </tr>\n",
       "    <tr>\n",
       "      <th>1</th>\n",
       "      <td>85</td>\n",
       "      <td>58</td>\n",
       "      <td>41</td>\n",
       "      <td>21.770462</td>\n",
       "      <td>80.319644</td>\n",
       "      <td>7.038096</td>\n",
       "      <td>226.655537</td>\n",
       "    </tr>\n",
       "    <tr>\n",
       "      <th>2</th>\n",
       "      <td>60</td>\n",
       "      <td>55</td>\n",
       "      <td>44</td>\n",
       "      <td>23.004459</td>\n",
       "      <td>82.320763</td>\n",
       "      <td>7.840207</td>\n",
       "      <td>263.964248</td>\n",
       "    </tr>\n",
       "    <tr>\n",
       "      <th>3</th>\n",
       "      <td>74</td>\n",
       "      <td>35</td>\n",
       "      <td>40</td>\n",
       "      <td>26.491096</td>\n",
       "      <td>80.158363</td>\n",
       "      <td>6.980401</td>\n",
       "      <td>242.864034</td>\n",
       "    </tr>\n",
       "    <tr>\n",
       "      <th>4</th>\n",
       "      <td>78</td>\n",
       "      <td>42</td>\n",
       "      <td>42</td>\n",
       "      <td>20.130175</td>\n",
       "      <td>81.604873</td>\n",
       "      <td>7.628473</td>\n",
       "      <td>262.717340</td>\n",
       "    </tr>\n",
       "    <tr>\n",
       "      <th>...</th>\n",
       "      <td>...</td>\n",
       "      <td>...</td>\n",
       "      <td>...</td>\n",
       "      <td>...</td>\n",
       "      <td>...</td>\n",
       "      <td>...</td>\n",
       "      <td>...</td>\n",
       "    </tr>\n",
       "    <tr>\n",
       "      <th>2195</th>\n",
       "      <td>107</td>\n",
       "      <td>34</td>\n",
       "      <td>32</td>\n",
       "      <td>26.774637</td>\n",
       "      <td>66.413269</td>\n",
       "      <td>6.780064</td>\n",
       "      <td>177.774507</td>\n",
       "    </tr>\n",
       "    <tr>\n",
       "      <th>2196</th>\n",
       "      <td>99</td>\n",
       "      <td>15</td>\n",
       "      <td>27</td>\n",
       "      <td>27.417112</td>\n",
       "      <td>56.636362</td>\n",
       "      <td>6.086922</td>\n",
       "      <td>127.924610</td>\n",
       "    </tr>\n",
       "    <tr>\n",
       "      <th>2197</th>\n",
       "      <td>118</td>\n",
       "      <td>33</td>\n",
       "      <td>30</td>\n",
       "      <td>24.131797</td>\n",
       "      <td>67.225123</td>\n",
       "      <td>6.362608</td>\n",
       "      <td>173.322839</td>\n",
       "    </tr>\n",
       "    <tr>\n",
       "      <th>2198</th>\n",
       "      <td>117</td>\n",
       "      <td>32</td>\n",
       "      <td>34</td>\n",
       "      <td>26.272418</td>\n",
       "      <td>52.127394</td>\n",
       "      <td>6.758793</td>\n",
       "      <td>127.175293</td>\n",
       "    </tr>\n",
       "    <tr>\n",
       "      <th>2199</th>\n",
       "      <td>104</td>\n",
       "      <td>18</td>\n",
       "      <td>30</td>\n",
       "      <td>23.603016</td>\n",
       "      <td>60.396475</td>\n",
       "      <td>6.779833</td>\n",
       "      <td>140.937041</td>\n",
       "    </tr>\n",
       "  </tbody>\n",
       "</table>\n",
       "<p>2200 rows × 7 columns</p>\n",
       "</div>"
      ],
      "text/plain": [
       "        N   P   K  temperature   humidity        ph    rainfall\n",
       "0      90  42  43    20.879744  82.002744  6.502985  202.935536\n",
       "1      85  58  41    21.770462  80.319644  7.038096  226.655537\n",
       "2      60  55  44    23.004459  82.320763  7.840207  263.964248\n",
       "3      74  35  40    26.491096  80.158363  6.980401  242.864034\n",
       "4      78  42  42    20.130175  81.604873  7.628473  262.717340\n",
       "...   ...  ..  ..          ...        ...       ...         ...\n",
       "2195  107  34  32    26.774637  66.413269  6.780064  177.774507\n",
       "2196   99  15  27    27.417112  56.636362  6.086922  127.924610\n",
       "2197  118  33  30    24.131797  67.225123  6.362608  173.322839\n",
       "2198  117  32  34    26.272418  52.127394  6.758793  127.175293\n",
       "2199  104  18  30    23.603016  60.396475  6.779833  140.937041\n",
       "\n",
       "[2200 rows x 7 columns]"
      ]
     },
     "execution_count": 10,
     "metadata": {},
     "output_type": "execute_result"
    }
   ],
   "source": [
    "x # independent feature"
   ]
  },
  {
   "cell_type": "code",
   "execution_count": 11,
   "id": "284a847e",
   "metadata": {},
   "outputs": [
    {
     "data": {
      "text/plain": [
       "0         rice\n",
       "1         rice\n",
       "2         rice\n",
       "3         rice\n",
       "4         rice\n",
       "         ...  \n",
       "2195    coffee\n",
       "2196    coffee\n",
       "2197    coffee\n",
       "2198    coffee\n",
       "2199    coffee\n",
       "Name: label, Length: 2200, dtype: object"
      ]
     },
     "execution_count": 11,
     "metadata": {},
     "output_type": "execute_result"
    }
   ],
   "source": [
    "y # dependent feature"
   ]
  },
  {
   "cell_type": "code",
   "execution_count": 12,
   "id": "b14ceb9e",
   "metadata": {},
   "outputs": [],
   "source": [
    "# Split the dependent as well as independent feature as a train and test data\n",
    "\n",
    "x_train,x_test,y_train,y_test = train_test_split(x,y,test_size=0.25,random_state=1,stratify=y)"
   ]
  },
  {
   "cell_type": "code",
   "execution_count": 13,
   "id": "3126398a",
   "metadata": {},
   "outputs": [
    {
     "name": "stdout",
     "output_type": "stream",
     "text": [
      "(1650, 7) (550, 7) (1650,) (550,)\n"
     ]
    }
   ],
   "source": [
    "print(x_train.shape,x_test.shape,y_train.shape,y_test.shape)"
   ]
  },
  {
   "cell_type": "markdown",
   "id": "a35132a9",
   "metadata": {},
   "source": [
    "## Step 4 - EDA"
   ]
  },
  {
   "cell_type": "code",
   "execution_count": 14,
   "id": "47442450",
   "metadata": {},
   "outputs": [
    {
     "data": {
      "text/plain": [
       "(2200, 8)"
      ]
     },
     "execution_count": 14,
     "metadata": {},
     "output_type": "execute_result"
    }
   ],
   "source": [
    "df.shape # Shape of dataset"
   ]
  },
  {
   "cell_type": "code",
   "execution_count": 15,
   "id": "19ae495f",
   "metadata": {},
   "outputs": [
    {
     "data": {
      "text/html": [
       "<div>\n",
       "<style scoped>\n",
       "    .dataframe tbody tr th:only-of-type {\n",
       "        vertical-align: middle;\n",
       "    }\n",
       "\n",
       "    .dataframe tbody tr th {\n",
       "        vertical-align: top;\n",
       "    }\n",
       "\n",
       "    .dataframe thead th {\n",
       "        text-align: right;\n",
       "    }\n",
       "</style>\n",
       "<table border=\"1\" class=\"dataframe\">\n",
       "  <thead>\n",
       "    <tr style=\"text-align: right;\">\n",
       "      <th></th>\n",
       "      <th>N</th>\n",
       "      <th>P</th>\n",
       "      <th>K</th>\n",
       "      <th>temperature</th>\n",
       "      <th>humidity</th>\n",
       "      <th>ph</th>\n",
       "      <th>rainfall</th>\n",
       "    </tr>\n",
       "  </thead>\n",
       "  <tbody>\n",
       "    <tr>\n",
       "      <th>count</th>\n",
       "      <td>2200.000000</td>\n",
       "      <td>2200.000000</td>\n",
       "      <td>2200.000000</td>\n",
       "      <td>2200.000000</td>\n",
       "      <td>2200.000000</td>\n",
       "      <td>2200.000000</td>\n",
       "      <td>2200.000000</td>\n",
       "    </tr>\n",
       "    <tr>\n",
       "      <th>mean</th>\n",
       "      <td>50.551818</td>\n",
       "      <td>53.362727</td>\n",
       "      <td>48.149091</td>\n",
       "      <td>25.616244</td>\n",
       "      <td>71.481779</td>\n",
       "      <td>6.469480</td>\n",
       "      <td>103.463655</td>\n",
       "    </tr>\n",
       "    <tr>\n",
       "      <th>std</th>\n",
       "      <td>36.917334</td>\n",
       "      <td>32.985883</td>\n",
       "      <td>50.647931</td>\n",
       "      <td>5.063749</td>\n",
       "      <td>22.263812</td>\n",
       "      <td>0.773938</td>\n",
       "      <td>54.958389</td>\n",
       "    </tr>\n",
       "    <tr>\n",
       "      <th>min</th>\n",
       "      <td>0.000000</td>\n",
       "      <td>5.000000</td>\n",
       "      <td>5.000000</td>\n",
       "      <td>8.825675</td>\n",
       "      <td>14.258040</td>\n",
       "      <td>3.504752</td>\n",
       "      <td>20.211267</td>\n",
       "    </tr>\n",
       "    <tr>\n",
       "      <th>25%</th>\n",
       "      <td>21.000000</td>\n",
       "      <td>28.000000</td>\n",
       "      <td>20.000000</td>\n",
       "      <td>22.769375</td>\n",
       "      <td>60.261953</td>\n",
       "      <td>5.971693</td>\n",
       "      <td>64.551686</td>\n",
       "    </tr>\n",
       "    <tr>\n",
       "      <th>50%</th>\n",
       "      <td>37.000000</td>\n",
       "      <td>51.000000</td>\n",
       "      <td>32.000000</td>\n",
       "      <td>25.598693</td>\n",
       "      <td>80.473146</td>\n",
       "      <td>6.425045</td>\n",
       "      <td>94.867624</td>\n",
       "    </tr>\n",
       "    <tr>\n",
       "      <th>75%</th>\n",
       "      <td>84.250000</td>\n",
       "      <td>68.000000</td>\n",
       "      <td>49.000000</td>\n",
       "      <td>28.561654</td>\n",
       "      <td>89.948771</td>\n",
       "      <td>6.923643</td>\n",
       "      <td>124.267508</td>\n",
       "    </tr>\n",
       "    <tr>\n",
       "      <th>max</th>\n",
       "      <td>140.000000</td>\n",
       "      <td>145.000000</td>\n",
       "      <td>205.000000</td>\n",
       "      <td>43.675493</td>\n",
       "      <td>99.981876</td>\n",
       "      <td>9.935091</td>\n",
       "      <td>298.560117</td>\n",
       "    </tr>\n",
       "  </tbody>\n",
       "</table>\n",
       "</div>"
      ],
      "text/plain": [
       "                 N            P            K  temperature     humidity  \\\n",
       "count  2200.000000  2200.000000  2200.000000  2200.000000  2200.000000   \n",
       "mean     50.551818    53.362727    48.149091    25.616244    71.481779   \n",
       "std      36.917334    32.985883    50.647931     5.063749    22.263812   \n",
       "min       0.000000     5.000000     5.000000     8.825675    14.258040   \n",
       "25%      21.000000    28.000000    20.000000    22.769375    60.261953   \n",
       "50%      37.000000    51.000000    32.000000    25.598693    80.473146   \n",
       "75%      84.250000    68.000000    49.000000    28.561654    89.948771   \n",
       "max     140.000000   145.000000   205.000000    43.675493    99.981876   \n",
       "\n",
       "                ph     rainfall  \n",
       "count  2200.000000  2200.000000  \n",
       "mean      6.469480   103.463655  \n",
       "std       0.773938    54.958389  \n",
       "min       3.504752    20.211267  \n",
       "25%       5.971693    64.551686  \n",
       "50%       6.425045    94.867624  \n",
       "75%       6.923643   124.267508  \n",
       "max       9.935091   298.560117  "
      ]
     },
     "execution_count": 15,
     "metadata": {},
     "output_type": "execute_result"
    }
   ],
   "source": [
    "# df.describe()\n",
    "# Check out the discription of dataset,\n",
    "# it shows the count, mean and standard deviation of all features separately with \n",
    "# minimum and maximum value available in that feature\n",
    "\n",
    "df.describe() "
   ]
  },
  {
   "cell_type": "code",
   "execution_count": 16,
   "id": "7e143ae6",
   "metadata": {},
   "outputs": [
    {
     "name": "stdout",
     "output_type": "stream",
     "text": [
      "<class 'pandas.core.frame.DataFrame'>\n",
      "RangeIndex: 2200 entries, 0 to 2199\n",
      "Data columns (total 8 columns):\n",
      " #   Column       Non-Null Count  Dtype  \n",
      "---  ------       --------------  -----  \n",
      " 0   N            2200 non-null   int64  \n",
      " 1   P            2200 non-null   int64  \n",
      " 2   K            2200 non-null   int64  \n",
      " 3   temperature  2200 non-null   float64\n",
      " 4   humidity     2200 non-null   float64\n",
      " 5   ph           2200 non-null   float64\n",
      " 6   rainfall     2200 non-null   float64\n",
      " 7   label        2200 non-null   object \n",
      "dtypes: float64(4), int64(3), object(1)\n",
      "memory usage: 137.6+ KB\n"
     ]
    }
   ],
   "source": [
    "# df.info()\n",
    "# It gives the information of dataset\n",
    "# It shows the non null count and datatypes of every feature\n",
    "\n",
    "df.info()"
   ]
  },
  {
   "cell_type": "code",
   "execution_count": 17,
   "id": "30444ce3",
   "metadata": {},
   "outputs": [
    {
     "data": {
      "text/plain": [
       "N              0\n",
       "P              0\n",
       "K              0\n",
       "temperature    0\n",
       "humidity       0\n",
       "ph             0\n",
       "rainfall       0\n",
       "label          0\n",
       "dtype: int64"
      ]
     },
     "execution_count": 17,
     "metadata": {},
     "output_type": "execute_result"
    }
   ],
   "source": [
    "df.isna().sum() # check null value count of every feature"
   ]
  },
  {
   "cell_type": "code",
   "execution_count": 18,
   "id": "47518992",
   "metadata": {},
   "outputs": [
    {
     "name": "stdout",
     "output_type": "stream",
     "text": [
      "<class 'pandas.core.frame.DataFrame'>\n",
      "RangeIndex: 2200 entries, 0 to 2199\n",
      "Data columns (total 7 columns):\n",
      " #   Column       Non-Null Count  Dtype  \n",
      "---  ------       --------------  -----  \n",
      " 0   N            2200 non-null   int64  \n",
      " 1   P            2200 non-null   int64  \n",
      " 2   K            2200 non-null   int64  \n",
      " 3   temperature  2200 non-null   float64\n",
      " 4   humidity     2200 non-null   float64\n",
      " 5   ph           2200 non-null   float64\n",
      " 6   rainfall     2200 non-null   float64\n",
      "dtypes: float64(4), int64(3)\n",
      "memory usage: 120.4 KB\n"
     ]
    }
   ],
   "source": [
    "x.info()"
   ]
  },
  {
   "cell_type": "code",
   "execution_count": 19,
   "id": "7ae71a62",
   "metadata": {},
   "outputs": [],
   "source": [
    "# as we see the info of independent features(x.info())\n",
    "# no features have null values in it and \n",
    "# all features have int/float data type means all are in numerical format\n",
    "# no one in object datatype \n",
    "# so there is no need of data preprocessing to independent data type"
   ]
  },
  {
   "cell_type": "code",
   "execution_count": 20,
   "id": "8ef3acb9",
   "metadata": {},
   "outputs": [
    {
     "name": "stdout",
     "output_type": "stream",
     "text": [
      "<class 'pandas.core.series.Series'>\n",
      "RangeIndex: 2200 entries, 0 to 2199\n",
      "Series name: label\n",
      "Non-Null Count  Dtype \n",
      "--------------  ----- \n",
      "2200 non-null   object\n",
      "dtypes: object(1)\n",
      "memory usage: 17.3+ KB\n"
     ]
    }
   ],
   "source": [
    "y.info()"
   ]
  },
  {
   "cell_type": "code",
   "execution_count": 21,
   "id": "09bcc1c5",
   "metadata": {},
   "outputs": [
    {
     "data": {
      "text/plain": [
       "1851        coconut\n",
       "821          lentil\n",
       "1170          mango\n",
       "132           maize\n",
       "1012         banana\n",
       "           ...     \n",
       "1024         banana\n",
       "335     kidneybeans\n",
       "1891        coconut\n",
       "1562          apple\n",
       "1657         orange\n",
       "Name: label, Length: 1650, dtype: object"
      ]
     },
     "execution_count": 21,
     "metadata": {},
     "output_type": "execute_result"
    }
   ],
   "source": [
    "y_train"
   ]
  },
  {
   "cell_type": "code",
   "execution_count": 22,
   "id": "0d7c2b02",
   "metadata": {},
   "outputs": [
    {
     "data": {
      "text/plain": [
       "1377     watermelon\n",
       "2089           jute\n",
       "1213         grapes\n",
       "958     pomegranate\n",
       "2151         coffee\n",
       "           ...     \n",
       "1314     watermelon\n",
       "1030         banana\n",
       "418      pigeonpeas\n",
       "1790         papaya\n",
       "461      pigeonpeas\n",
       "Name: label, Length: 550, dtype: object"
      ]
     },
     "execution_count": 22,
     "metadata": {},
     "output_type": "execute_result"
    }
   ],
   "source": [
    "y_test"
   ]
  },
  {
   "cell_type": "markdown",
   "id": "73ab37b9",
   "metadata": {},
   "source": [
    "## Label Encodeing"
   ]
  },
  {
   "cell_type": "code",
   "execution_count": 23,
   "id": "0752427a",
   "metadata": {},
   "outputs": [],
   "source": [
    "# Whenever we have ordinal dataset we use label encoding"
   ]
  },
  {
   "cell_type": "code",
   "execution_count": 24,
   "id": "1772ef72",
   "metadata": {},
   "outputs": [
    {
     "data": {
      "text/plain": [
       "array([ 4, 10, 12, ...,  4,  0, 16])"
      ]
     },
     "execution_count": 24,
     "metadata": {},
     "output_type": "execute_result"
    }
   ],
   "source": [
    "encoder = LabelEncoder()\n",
    "y_train = encoder.fit_transform(y_train)\n",
    "y_train"
   ]
  },
  {
   "cell_type": "code",
   "execution_count": 25,
   "id": "81dfaf97",
   "metadata": {},
   "outputs": [
    {
     "data": {
      "text/plain": [
       "array([21,  8,  7, 19,  5, 16,  9, 17,  6,  3, 21, 16, 16,  6, 16,  1, 20,\n",
       "        0, 12, 20, 18, 15,  9, 20, 13, 18,  9,  2,  2,  2, 16,  6, 18,  0,\n",
       "        4,  5, 14,  6,  8,  3,  6,  4,  3, 11, 11, 13,  0, 18, 14, 17,  3,\n",
       "        1,  0, 15, 21, 10, 12, 17, 18,  9,  1, 15,  3, 19,  7,  6, 14, 18,\n",
       "        3, 15, 19, 13,  9,  0, 14, 10, 12, 21,  8,  4, 15, 21, 18, 16,  8,\n",
       "       12, 20, 11, 21,  0, 18,  5, 19,  9,  2,  8, 19, 16, 19, 17, 13,  3,\n",
       "        7,  5, 10, 14,  0,  6,  2,  6,  8,  5, 13, 20, 10, 17, 14,  1,  3,\n",
       "       19,  2, 14, 16,  4,  7, 21, 19, 16, 18,  5, 11, 11,  5,  6, 14,  7,\n",
       "        1,  6, 11, 13, 11,  4,  0, 16, 10,  0,  1,  1,  6, 10, 10,  3, 12,\n",
       "        8,  8, 19,  0, 12, 12, 16, 14,  8, 14, 10,  5,  3, 17, 17, 12, 13,\n",
       "       15,  1, 17,  2, 18, 20, 10, 21,  1, 20, 20,  8,  3, 14,  5, 14,  9,\n",
       "       14, 21, 21, 20, 16, 19,  0, 20,  7, 12, 13,  6, 21,  2,  3,  7, 18,\n",
       "        2,  8, 21, 10, 12,  1, 17, 19,  6,  3,  5, 21,  5,  4,  4, 12, 20,\n",
       "       15, 10,  9, 17, 19,  9, 20, 15, 15,  4,  7,  3, 11,  2, 12, 14, 18,\n",
       "        7, 21,  1,  9, 15,  9,  9, 17, 11, 20,  0, 17,  5, 21, 20,  2,  0,\n",
       "       21, 11, 17,  2,  4, 15, 20,  1, 10,  5, 19,  4, 13,  8,  2, 15,  0,\n",
       "       13,  4, 13, 17, 12, 16,  1,  6, 13, 20,  3, 14, 16,  7,  4, 11, 11,\n",
       "       16, 16,  9, 15, 11,  2,  1,  9, 20, 10, 16,  0,  4,  8,  5, 21, 18,\n",
       "        8, 20, 15, 10, 21, 19,  5,  7,  7, 12, 10,  6, 12,  1,  4, 13,  4,\n",
       "        0,  3, 14,  4, 10,  3, 10, 17,  3, 11,  8, 12, 17, 13, 19,  3,  8,\n",
       "       15, 21,  6,  5,  7,  7, 18,  7,  6,  9, 19,  5, 15,  0, 15,  5, 18,\n",
       "        2, 20, 11,  0,  7, 20, 12,  6, 16, 18,  4,  9, 13,  5, 19, 12,  0,\n",
       "       12,  9,  8,  9, 21, 13, 19, 11,  1, 21,  5,  9,  4,  3, 12, 15,  1,\n",
       "        2, 18, 15, 20, 10, 13, 18, 17, 12, 17,  7,  9,  2, 21,  0, 18,  7,\n",
       "       14, 17, 20, 19,  3,  7, 12, 14,  4, 19,  6, 19,  4, 10, 13, 14,  4,\n",
       "        6, 11, 16,  5,  7,  2,  8,  9, 16, 19, 11, 14,  8,  9,  7, 13, 21,\n",
       "        4,  2, 16, 12, 20, 19,  7,  8, 11,  1,  4,  2,  6, 14,  9, 14, 11,\n",
       "        2,  8,  9,  8, 16,  6, 15, 12, 16, 15, 15, 14, 18, 10, 17, 11, 18,\n",
       "       10,  5, 10,  6,  0,  8, 21,  4,  6,  1,  2,  2,  3, 18, 14,  2, 13,\n",
       "       10, 13, 11,  0, 17,  1,  1, 11,  5,  3,  6, 15,  5,  2,  1,  7,  7,\n",
       "        1, 13, 15, 20, 14, 16, 10, 11, 13,  7, 17,  5, 15,  4, 17, 12,  3,\n",
       "       10,  0,  0,  1, 16, 11, 19,  3,  8, 19, 13,  8, 17, 20, 18,  9,  0,\n",
       "       13, 21,  1, 18, 17, 18])"
      ]
     },
     "execution_count": 25,
     "metadata": {},
     "output_type": "execute_result"
    }
   ],
   "source": [
    "encoder = LabelEncoder()\n",
    "y_test = encoder.fit_transform(y_test)\n",
    "y_test"
   ]
  },
  {
   "cell_type": "code",
   "execution_count": 26,
   "id": "c96cadad",
   "metadata": {},
   "outputs": [
    {
     "data": {
      "text/plain": [
       "array(['apple', 'banana', 'blackgram', 'chickpea', 'coconut', 'coffee',\n",
       "       'cotton', 'grapes', 'jute', 'kidneybeans', 'lentil', 'maize',\n",
       "       'mango', 'mothbeans', 'mungbean', 'muskmelon', 'orange', 'papaya',\n",
       "       'pigeonpeas', 'pomegranate', 'rice', 'watermelon'], dtype=object)"
      ]
     },
     "execution_count": 26,
     "metadata": {},
     "output_type": "execute_result"
    }
   ],
   "source": [
    "class_list = encoder.classes_\n",
    "class_list"
   ]
  },
  {
   "cell_type": "markdown",
   "id": "5d6cb64b",
   "metadata": {},
   "source": [
    "## Graphs"
   ]
  },
  {
   "cell_type": "markdown",
   "id": "8974f0fb",
   "metadata": {},
   "source": [
    "## 1. heatmap"
   ]
  },
  {
   "cell_type": "code",
   "execution_count": 27,
   "id": "97a8d0df",
   "metadata": {},
   "outputs": [
    {
     "data": {
      "text/plain": [
       "<AxesSubplot:>"
      ]
     },
     "execution_count": 27,
     "metadata": {},
     "output_type": "execute_result"
    },
    {
     "data": {
      "image/png": "[encoded data removed]",
      "text/plain": [
       "<Figure size 432x288 with 2 Axes>"
      ]
     },
     "metadata": {
      "needs_background": "light"
     },
     "output_type": "display_data"
    }
   ],
   "source": [
    "sns.heatmap(df.corr(), annot = True)"
   ]
  },
  {
   "cell_type": "markdown",
   "id": "d8f0cc02",
   "metadata": {},
   "source": [
    "## Step 5 - Feature Engineering"
   ]
  },
  {
   "cell_type": "markdown",
   "id": "289281ce",
   "metadata": {},
   "source": [
    "## 1. Data Balancing"
   ]
  },
  {
   "cell_type": "code",
   "execution_count": 28,
   "id": "b7dece14",
   "metadata": {},
   "outputs": [],
   "source": [
    "import warnings\n",
    "warnings.filterwarnings('ignore')"
   ]
  },
  {
   "cell_type": "code",
   "execution_count": 29,
   "id": "e13fe179",
   "metadata": {},
   "outputs": [
    {
     "data": {
      "text/plain": [
       "<AxesSubplot:xlabel='label', ylabel='count'>"
      ]
     },
     "execution_count": 29,
     "metadata": {},
     "output_type": "execute_result"
    },
    {
     "data": {
      "image/png": "[encoded data removed]",
      "text/plain": [
       "<Figure size 432x288 with 1 Axes>"
      ]
     },
     "metadata": {
      "needs_background": "light"
     },
     "output_type": "display_data"
    }
   ],
   "source": [
    "sns.countplot(df['label'])"
   ]
  },
  {
   "cell_type": "code",
   "execution_count": 30,
   "id": "a961b161",
   "metadata": {},
   "outputs": [
    {
     "data": {
      "text/plain": [
       "rice           100\n",
       "maize          100\n",
       "jute           100\n",
       "cotton         100\n",
       "coconut        100\n",
       "papaya         100\n",
       "orange         100\n",
       "apple          100\n",
       "muskmelon      100\n",
       "watermelon     100\n",
       "grapes         100\n",
       "mango          100\n",
       "banana         100\n",
       "pomegranate    100\n",
       "lentil         100\n",
       "blackgram      100\n",
       "mungbean       100\n",
       "mothbeans      100\n",
       "pigeonpeas     100\n",
       "kidneybeans    100\n",
       "chickpea       100\n",
       "coffee         100\n",
       "Name: label, dtype: int64"
      ]
     },
     "execution_count": 30,
     "metadata": {},
     "output_type": "execute_result"
    }
   ],
   "source": [
    "df[\"label\"].value_counts() # check out the count of each value in feature."
   ]
  },
  {
   "cell_type": "code",
   "execution_count": 31,
   "id": "225ad218",
   "metadata": {},
   "outputs": [],
   "source": [
    "# from countplot/value count as we calculated above \n",
    "# we can say that data is already balanced data \n",
    "# so no need of further balancing"
   ]
  },
  {
   "cell_type": "markdown",
   "id": "9698b2d3",
   "metadata": {},
   "source": [
    "## 2.Outlier Handling"
   ]
  },
  {
   "cell_type": "markdown",
   "id": "44e606db",
   "metadata": {},
   "source": [
    "### 2.1 Column 1[N]"
   ]
  },
  {
   "cell_type": "code",
   "execution_count": 32,
   "id": "a95f8a6d",
   "metadata": {},
   "outputs": [
    {
     "data": {
      "text/plain": [
       "<AxesSubplot:xlabel='N'>"
      ]
     },
     "execution_count": 32,
     "metadata": {},
     "output_type": "execute_result"
    },
    {
     "data": {
      "image/png": "[encoded data removed]",
      "text/plain": [
       "<Figure size 432x288 with 1 Axes>"
      ]
     },
     "metadata": {
      "needs_background": "light"
     },
     "output_type": "display_data"
    }
   ],
   "source": [
    "sns.boxplot(x_train[\"N\"])"
   ]
  },
  {
   "cell_type": "code",
   "execution_count": 33,
   "id": "d8312007",
   "metadata": {},
   "outputs": [
    {
     "data": {
      "text/plain": [
       "<AxesSubplot:xlabel='N'>"
      ]
     },
     "execution_count": 33,
     "metadata": {},
     "output_type": "execute_result"
    },
    {
     "data": {
      "image/png": "[encoded data removed]",
      "text/plain": [
       "<Figure size 432x288 with 1 Axes>"
      ]
     },
     "metadata": {
      "needs_background": "light"
     },
     "output_type": "display_data"
    }
   ],
   "source": [
    "sns.boxplot(x_test[\"N\"])"
   ]
  },
  {
   "cell_type": "code",
   "execution_count": 34,
   "id": "d598fc69",
   "metadata": {},
   "outputs": [],
   "source": [
    "# Above boxplots clearly indicate that there is no outlier available in it."
   ]
  },
  {
   "cell_type": "markdown",
   "id": "201e1223",
   "metadata": {},
   "source": [
    "### 2.2 Column 2 [P]"
   ]
  },
  {
   "cell_type": "code",
   "execution_count": 35,
   "id": "adb9c0ba",
   "metadata": {},
   "outputs": [
    {
     "data": {
      "text/plain": [
       "<AxesSubplot:xlabel='P'>"
      ]
     },
     "execution_count": 35,
     "metadata": {},
     "output_type": "execute_result"
    },
    {
     "data": {
      "image/png": "[encoded data removed]",
      "text/plain": [
       "<Figure size 432x288 with 1 Axes>"
      ]
     },
     "metadata": {
      "needs_background": "light"
     },
     "output_type": "display_data"
    }
   ],
   "source": [
    "sns.boxplot(x_train[\"P\"])"
   ]
  },
  {
   "cell_type": "code",
   "execution_count": 36,
   "id": "488df844",
   "metadata": {},
   "outputs": [
    {
     "data": {
      "text/plain": [
       "<AxesSubplot:xlabel='P'>"
      ]
     },
     "execution_count": 36,
     "metadata": {},
     "output_type": "execute_result"
    },
    {
     "data": {
      "image/png": "[encoded data removed]",
      "text/plain": [
       "<Figure size 432x288 with 1 Axes>"
      ]
     },
     "metadata": {
      "needs_background": "light"
     },
     "output_type": "display_data"
    }
   ],
   "source": [
    "sns.boxplot(x_test[\"P\"])"
   ]
  },
  {
   "cell_type": "code",
   "execution_count": 37,
   "id": "882fce7d",
   "metadata": {},
   "outputs": [],
   "source": [
    "# The critical value of phosphorus depends on soil parameters like \n",
    "# type of soils and type of clay minerals"
   ]
  },
  {
   "cell_type": "markdown",
   "id": "78e5727a",
   "metadata": {},
   "source": [
    "### 2.3 Column 3 [K]"
   ]
  },
  {
   "cell_type": "code",
   "execution_count": 38,
   "id": "04aec810",
   "metadata": {},
   "outputs": [
    {
     "data": {
      "text/plain": [
       "<AxesSubplot:xlabel='K'>"
      ]
     },
     "execution_count": 38,
     "metadata": {},
     "output_type": "execute_result"
    },
    {
     "data": {
      "image/png": "[encoded data removed]",
      "text/plain": [
       "<Figure size 432x288 with 1 Axes>"
      ]
     },
     "metadata": {
      "needs_background": "light"
     },
     "output_type": "display_data"
    }
   ],
   "source": [
    "sns.boxplot(x_train[\"K\"])"
   ]
  },
  {
   "cell_type": "code",
   "execution_count": 39,
   "id": "a7cfd921",
   "metadata": {},
   "outputs": [
    {
     "data": {
      "text/plain": [
       "<AxesSubplot:xlabel='K'>"
      ]
     },
     "execution_count": 39,
     "metadata": {},
     "output_type": "execute_result"
    },
    {
     "data": {
      "image/png": "[encoded data removed]",
      "text/plain": [
       "<Figure size 432x288 with 1 Axes>"
      ]
     },
     "metadata": {
      "needs_background": "light"
     },
     "output_type": "display_data"
    }
   ],
   "source": [
    "sns.boxplot(x_test[\"K\"])"
   ]
  },
  {
   "cell_type": "code",
   "execution_count": 40,
   "id": "22e5681d",
   "metadata": {},
   "outputs": [],
   "source": [
    "# The critical value of potassium depends on soil parameters like \n",
    "# type of soils and type of clay minerals"
   ]
  },
  {
   "cell_type": "markdown",
   "id": "4fa95aba",
   "metadata": {},
   "source": [
    "### 2.4 Column 4 [temperature]"
   ]
  },
  {
   "cell_type": "code",
   "execution_count": 41,
   "id": "15f9023b",
   "metadata": {},
   "outputs": [
    {
     "data": {
      "text/plain": [
       "<AxesSubplot:xlabel='temperature'>"
      ]
     },
     "execution_count": 41,
     "metadata": {},
     "output_type": "execute_result"
    },
    {
     "data": {
      "image/png": "[encoded data removed]",
      "text/plain": [
       "<Figure size 432x288 with 1 Axes>"
      ]
     },
     "metadata": {
      "needs_background": "light"
     },
     "output_type": "display_data"
    }
   ],
   "source": [
    "sns.boxplot(x_train[\"temperature\"])"
   ]
  },
  {
   "cell_type": "code",
   "execution_count": 42,
   "id": "28219224",
   "metadata": {},
   "outputs": [
    {
     "data": {
      "text/plain": [
       "<AxesSubplot:xlabel='temperature'>"
      ]
     },
     "execution_count": 42,
     "metadata": {},
     "output_type": "execute_result"
    },
    {
     "data": {
      "image/png": "[encoded data removed]",
      "text/plain": [
       "<Figure size 432x288 with 1 Axes>"
      ]
     },
     "metadata": {
      "needs_background": "light"
     },
     "output_type": "display_data"
    }
   ],
   "source": [
    "sns.boxplot(x_test[\"temperature\"])"
   ]
  },
  {
   "cell_type": "code",
   "execution_count": 43,
   "id": "727b7026",
   "metadata": {},
   "outputs": [],
   "source": [
    "# 10 degree celcius to 45 degree celcius tempreture is normal "
   ]
  },
  {
   "cell_type": "markdown",
   "id": "2f0cf1ae",
   "metadata": {},
   "source": [
    "### 2.5 Column 5 [humidity]"
   ]
  },
  {
   "cell_type": "code",
   "execution_count": 44,
   "id": "66de023f",
   "metadata": {},
   "outputs": [
    {
     "data": {
      "text/plain": [
       "<AxesSubplot:xlabel='humidity'>"
      ]
     },
     "execution_count": 44,
     "metadata": {},
     "output_type": "execute_result"
    },
    {
     "data": {
      "image/png": "[encoded data removed]",
      "text/plain": [
       "<Figure size 432x288 with 1 Axes>"
      ]
     },
     "metadata": {
      "needs_background": "light"
     },
     "output_type": "display_data"
    }
   ],
   "source": [
    "sns.boxplot(x_train[\"humidity\"])"
   ]
  },
  {
   "cell_type": "code",
   "execution_count": 45,
   "id": "b4d993fc",
   "metadata": {},
   "outputs": [
    {
     "data": {
      "text/plain": [
       "<AxesSubplot:xlabel='humidity'>"
      ]
     },
     "execution_count": 45,
     "metadata": {},
     "output_type": "execute_result"
    },
    {
     "data": {
      "image/png": "[encoded data removed]",
      "text/plain": [
       "<Figure size 432x288 with 1 Axes>"
      ]
     },
     "metadata": {
      "needs_background": "light"
     },
     "output_type": "display_data"
    }
   ],
   "source": [
    "sns.boxplot(x_test[\"humidity\"])"
   ]
  },
  {
   "cell_type": "code",
   "execution_count": 46,
   "id": "68cc7057",
   "metadata": {},
   "outputs": [],
   "source": [
    "# Above boxplots indicates that there is no outlier"
   ]
  },
  {
   "cell_type": "markdown",
   "id": "633491c0",
   "metadata": {},
   "source": [
    "### 2.6 Column 6 [ph]"
   ]
  },
  {
   "cell_type": "code",
   "execution_count": 47,
   "id": "9caaee4a",
   "metadata": {},
   "outputs": [
    {
     "data": {
      "text/plain": [
       "<AxesSubplot:xlabel='ph'>"
      ]
     },
     "execution_count": 47,
     "metadata": {},
     "output_type": "execute_result"
    },
    {
     "data": {
      "image/png": "[encoded data removed]",
      "text/plain": [
       "<Figure size 432x288 with 1 Axes>"
      ]
     },
     "metadata": {
      "needs_background": "light"
     },
     "output_type": "display_data"
    }
   ],
   "source": [
    "sns.boxplot(x_train[\"ph\"])"
   ]
  },
  {
   "cell_type": "code",
   "execution_count": 48,
   "id": "0335e6bb",
   "metadata": {},
   "outputs": [
    {
     "data": {
      "text/plain": [
       "<AxesSubplot:xlabel='ph'>"
      ]
     },
     "execution_count": 48,
     "metadata": {},
     "output_type": "execute_result"
    },
    {
     "data": {
      "image/png": "[encoded data removed]",
      "text/plain": [
       "<Figure size 432x288 with 1 Axes>"
      ]
     },
     "metadata": {
      "needs_background": "light"
     },
     "output_type": "display_data"
    }
   ],
   "source": [
    "sns.boxplot(x_test[\"ph\"])"
   ]
  },
  {
   "cell_type": "code",
   "execution_count": 49,
   "id": "dbb2fb59",
   "metadata": {},
   "outputs": [],
   "source": [
    "# Most soils have pH values between 3.5 and 10. \n",
    "# In higher rainfall areas the natural pH of soils typically ranges from 5 to 7, \n",
    "# while in drier areas the range is 6.5 to 9.\n",
    "# Acid soils have a pH below 7 and alkaline soils have a pH above 7. \n",
    "# Ultra-acidic soils (pH < 3.5) and very strongly alkaline soils (pH > 9) are rare."
   ]
  },
  {
   "cell_type": "markdown",
   "id": "0131e6c6",
   "metadata": {},
   "source": [
    "### 2.7 Column 7 [rainfall]"
   ]
  },
  {
   "cell_type": "code",
   "execution_count": 50,
   "id": "e55c4e84",
   "metadata": {},
   "outputs": [
    {
     "data": {
      "text/plain": [
       "<AxesSubplot:xlabel='rainfall'>"
      ]
     },
     "execution_count": 50,
     "metadata": {},
     "output_type": "execute_result"
    },
    {
     "data": {
      "image/png": "[encoded data removed]",
      "text/plain": [
       "<Figure size 432x288 with 1 Axes>"
      ]
     },
     "metadata": {
      "needs_background": "light"
     },
     "output_type": "display_data"
    }
   ],
   "source": [
    "sns.boxplot(x_train[\"rainfall\"])"
   ]
  },
  {
   "cell_type": "code",
   "execution_count": 51,
   "id": "2db61382",
   "metadata": {},
   "outputs": [
    {
     "data": {
      "text/plain": [
       "<AxesSubplot:xlabel='rainfall'>"
      ]
     },
     "execution_count": 51,
     "metadata": {},
     "output_type": "execute_result"
    },
    {
     "data": {
      "image/png": "[encoded data removed]",
      "text/plain": [
       "<Figure size 432x288 with 1 Axes>"
      ]
     },
     "metadata": {
      "needs_background": "light"
     },
     "output_type": "display_data"
    }
   ],
   "source": [
    "sns.boxplot(x_test[\"rainfall\"])"
   ]
  },
  {
   "cell_type": "code",
   "execution_count": 52,
   "id": "403a212a",
   "metadata": {},
   "outputs": [],
   "source": [
    "# The highest rainfall of 156.3 cm (1563 mm) was recorded in Cherrapunji on June 16, 1995.\n",
    "# Mawsynram, which receives the highest rainfall in India, \n",
    "# also in East Khasi Hills recorded 71 cm (710 mm), \n",
    "# the fifth-highest rainfall for 24 hours, on June 15 2022. \n",
    "# The highest rainfall record for Mawsynram is 94.5 cm (945 mm) (June 7, 1966)."
   ]
  },
  {
   "cell_type": "markdown",
   "id": "2df1c074",
   "metadata": {},
   "source": [
    "## Step 6 - Feature Selection"
   ]
  },
  {
   "cell_type": "markdown",
   "id": "5d89e175",
   "metadata": {},
   "source": [
    "## Filter Method"
   ]
  },
  {
   "cell_type": "markdown",
   "id": "af0bf727",
   "metadata": {},
   "source": [
    "### 1. Information Gain"
   ]
  },
  {
   "cell_type": "code",
   "execution_count": 53,
   "id": "613e5416",
   "metadata": {},
   "outputs": [],
   "source": [
    "from sklearn.feature_selection import mutual_info_classif"
   ]
  },
  {
   "cell_type": "code",
   "execution_count": 54,
   "id": "c6fb3de0",
   "metadata": {},
   "outputs": [
    {
     "data": {
      "text/plain": [
       "ph             0.686067\n",
       "N              0.976447\n",
       "temperature    1.017901\n",
       "P              1.297922\n",
       "rainfall       1.637358\n",
       "K              1.642993\n",
       "humidity       1.729954\n",
       "dtype: float64"
      ]
     },
     "execution_count": 54,
     "metadata": {},
     "output_type": "execute_result"
    }
   ],
   "source": [
    "arr = mutual_info_classif(x,y)\n",
    "s1 = pd.Series(arr, index=x.columns)\n",
    "s1.sort_values()"
   ]
  },
  {
   "cell_type": "code",
   "execution_count": 55,
   "id": "08046d40",
   "metadata": {},
   "outputs": [
    {
     "data": {
      "text/plain": [
       "<AxesSubplot:>"
      ]
     },
     "execution_count": 55,
     "metadata": {},
     "output_type": "execute_result"
    },
    {
     "data": {
      "image/png": "[encoded data removed]",
      "text/plain": [
       "<Figure size 432x288 with 1 Axes>"
      ]
     },
     "metadata": {
      "needs_background": "light"
     },
     "output_type": "display_data"
    }
   ],
   "source": [
    "s1.sort_values().plot(kind='bar')"
   ]
  },
  {
   "cell_type": "markdown",
   "id": "ba2eaaa1",
   "metadata": {},
   "source": [
    "### 2. Fisher's Score"
   ]
  },
  {
   "cell_type": "code",
   "execution_count": 56,
   "id": "76ed03d1",
   "metadata": {},
   "outputs": [],
   "source": [
    "from skfeature.function.similarity_based import fisher_score"
   ]
  },
  {
   "cell_type": "code",
   "execution_count": 57,
   "id": "79db6815",
   "metadata": {},
   "outputs": [
    {
     "name": "stdout",
     "output_type": "stream",
     "text": [
      "[4 2 5 6 0 3 1]\n"
     ]
    }
   ],
   "source": [
    "array = fisher_score.fisher_score(x.values,y)\n",
    "print(array)"
   ]
  },
  {
   "cell_type": "code",
   "execution_count": 58,
   "id": "a45bf519",
   "metadata": {},
   "outputs": [
    {
     "data": {
      "text/plain": [
       "<AxesSubplot:>"
      ]
     },
     "execution_count": 58,
     "metadata": {},
     "output_type": "execute_result"
    },
    {
     "data": {
      "image/png": "[encoded data removed]",
      "text/plain": [
       "<Figure size 432x288 with 1 Axes>"
      ]
     },
     "metadata": {
      "needs_background": "light"
     },
     "output_type": "display_data"
    }
   ],
   "source": [
    "s1 = pd.Series(array, index=x_train.columns)\n",
    "s1.sort_values().plot(kind='bar')"
   ]
  },
  {
   "cell_type": "markdown",
   "id": "294d578e",
   "metadata": {},
   "source": [
    "### 3. ANOVA Test"
   ]
  },
  {
   "cell_type": "code",
   "execution_count": 59,
   "id": "89d497be",
   "metadata": {},
   "outputs": [],
   "source": [
    "from sklearn.feature_selection import f_classif"
   ]
  },
  {
   "cell_type": "code",
   "execution_count": 60,
   "id": "3228208b",
   "metadata": {},
   "outputs": [
    {
     "data": {
      "text/plain": [
       "array([  897.56818633,  1885.65785918, 27238.36206708,   102.18698123,\n",
       "        3103.70889122,    60.34403353,   605.52796614])"
      ]
     },
     "execution_count": 60,
     "metadata": {},
     "output_type": "execute_result"
    }
   ],
   "source": [
    "f_val, p_val =  f_classif(x,y)\n",
    "f_val"
   ]
  },
  {
   "cell_type": "code",
   "execution_count": 61,
   "id": "a560af74",
   "metadata": {},
   "outputs": [
    {
     "data": {
      "text/html": [
       "<div>\n",
       "<style scoped>\n",
       "    .dataframe tbody tr th:only-of-type {\n",
       "        vertical-align: middle;\n",
       "    }\n",
       "\n",
       "    .dataframe tbody tr th {\n",
       "        vertical-align: top;\n",
       "    }\n",
       "\n",
       "    .dataframe thead th {\n",
       "        text-align: right;\n",
       "    }\n",
       "</style>\n",
       "<table border=\"1\" class=\"dataframe\">\n",
       "  <thead>\n",
       "    <tr style=\"text-align: right;\">\n",
       "      <th></th>\n",
       "      <th>Features</th>\n",
       "      <th>F-Val</th>\n",
       "      <th>p_val</th>\n",
       "    </tr>\n",
       "  </thead>\n",
       "  <tbody>\n",
       "    <tr>\n",
       "      <th>5</th>\n",
       "      <td>ph</td>\n",
       "      <td>60.344034</td>\n",
       "      <td>6.493162e-199</td>\n",
       "    </tr>\n",
       "    <tr>\n",
       "      <th>3</th>\n",
       "      <td>temperature</td>\n",
       "      <td>102.186981</td>\n",
       "      <td>4.019324e-305</td>\n",
       "    </tr>\n",
       "    <tr>\n",
       "      <th>6</th>\n",
       "      <td>rainfall</td>\n",
       "      <td>605.527966</td>\n",
       "      <td>0.000000e+00</td>\n",
       "    </tr>\n",
       "    <tr>\n",
       "      <th>0</th>\n",
       "      <td>N</td>\n",
       "      <td>897.568186</td>\n",
       "      <td>0.000000e+00</td>\n",
       "    </tr>\n",
       "    <tr>\n",
       "      <th>1</th>\n",
       "      <td>P</td>\n",
       "      <td>1885.657859</td>\n",
       "      <td>0.000000e+00</td>\n",
       "    </tr>\n",
       "    <tr>\n",
       "      <th>4</th>\n",
       "      <td>humidity</td>\n",
       "      <td>3103.708891</td>\n",
       "      <td>0.000000e+00</td>\n",
       "    </tr>\n",
       "    <tr>\n",
       "      <th>2</th>\n",
       "      <td>K</td>\n",
       "      <td>27238.362067</td>\n",
       "      <td>0.000000e+00</td>\n",
       "    </tr>\n",
       "  </tbody>\n",
       "</table>\n",
       "</div>"
      ],
      "text/plain": [
       "      Features         F-Val          p_val\n",
       "5           ph     60.344034  6.493162e-199\n",
       "3  temperature    102.186981  4.019324e-305\n",
       "6     rainfall    605.527966   0.000000e+00\n",
       "0            N    897.568186   0.000000e+00\n",
       "1            P   1885.657859   0.000000e+00\n",
       "4     humidity   3103.708891   0.000000e+00\n",
       "2            K  27238.362067   0.000000e+00"
      ]
     },
     "execution_count": 61,
     "metadata": {},
     "output_type": "execute_result"
    }
   ],
   "source": [
    "df_anova = pd.DataFrame({\"Features\":x.columns,\"F-Val\":f_val,\"p_val\":p_val})\n",
    "df_anova.sort_values('F-Val')"
   ]
  },
  {
   "cell_type": "code",
   "execution_count": 62,
   "id": "7bd2df8d",
   "metadata": {},
   "outputs": [
    {
     "data": {
      "text/plain": [
       "<AxesSubplot:>"
      ]
     },
     "execution_count": 62,
     "metadata": {},
     "output_type": "execute_result"
    },
    {
     "data": {
      "image/png": "[encoded data removed]",
      "text/plain": [
       "<Figure size 432x288 with 1 Axes>"
      ]
     },
     "metadata": {
      "needs_background": "light"
     },
     "output_type": "display_data"
    }
   ],
   "source": [
    "arr = pd.Series(f_val,index= x.columns)\n",
    "arr.sort_values().plot(kind='bar')"
   ]
  },
  {
   "cell_type": "markdown",
   "id": "9c91d081",
   "metadata": {},
   "source": [
    "### 4. Mean Absolute difference (MAD)"
   ]
  },
  {
   "cell_type": "code",
   "execution_count": 63,
   "id": "6c65a65e",
   "metadata": {},
   "outputs": [
    {
     "data": {
      "text/html": [
       "<div>\n",
       "<style scoped>\n",
       "    .dataframe tbody tr th:only-of-type {\n",
       "        vertical-align: middle;\n",
       "    }\n",
       "\n",
       "    .dataframe tbody tr th {\n",
       "        vertical-align: top;\n",
       "    }\n",
       "\n",
       "    .dataframe thead th {\n",
       "        text-align: right;\n",
       "    }\n",
       "</style>\n",
       "<table border=\"1\" class=\"dataframe\">\n",
       "  <thead>\n",
       "    <tr style=\"text-align: right;\">\n",
       "      <th></th>\n",
       "      <th>N</th>\n",
       "      <th>P</th>\n",
       "      <th>K</th>\n",
       "      <th>temperature</th>\n",
       "      <th>humidity</th>\n",
       "      <th>ph</th>\n",
       "      <th>rainfall</th>\n",
       "    </tr>\n",
       "  </thead>\n",
       "  <tbody>\n",
       "    <tr>\n",
       "      <th>0</th>\n",
       "      <td>39.448182</td>\n",
       "      <td>11.362727</td>\n",
       "      <td>5.149091</td>\n",
       "      <td>4.736500</td>\n",
       "      <td>10.520965</td>\n",
       "      <td>0.033505</td>\n",
       "      <td>99.471881</td>\n",
       "    </tr>\n",
       "    <tr>\n",
       "      <th>1</th>\n",
       "      <td>34.448182</td>\n",
       "      <td>4.637273</td>\n",
       "      <td>7.149091</td>\n",
       "      <td>3.845782</td>\n",
       "      <td>8.837865</td>\n",
       "      <td>0.568616</td>\n",
       "      <td>123.191882</td>\n",
       "    </tr>\n",
       "    <tr>\n",
       "      <th>2</th>\n",
       "      <td>9.448182</td>\n",
       "      <td>1.637273</td>\n",
       "      <td>4.149091</td>\n",
       "      <td>2.611785</td>\n",
       "      <td>10.838984</td>\n",
       "      <td>1.370727</td>\n",
       "      <td>160.500592</td>\n",
       "    </tr>\n",
       "    <tr>\n",
       "      <th>3</th>\n",
       "      <td>23.448182</td>\n",
       "      <td>18.362727</td>\n",
       "      <td>8.149091</td>\n",
       "      <td>0.874852</td>\n",
       "      <td>8.676583</td>\n",
       "      <td>0.510921</td>\n",
       "      <td>139.400379</td>\n",
       "    </tr>\n",
       "    <tr>\n",
       "      <th>4</th>\n",
       "      <td>27.448182</td>\n",
       "      <td>11.362727</td>\n",
       "      <td>6.149091</td>\n",
       "      <td>5.486069</td>\n",
       "      <td>10.123094</td>\n",
       "      <td>1.158993</td>\n",
       "      <td>159.253685</td>\n",
       "    </tr>\n",
       "    <tr>\n",
       "      <th>...</th>\n",
       "      <td>...</td>\n",
       "      <td>...</td>\n",
       "      <td>...</td>\n",
       "      <td>...</td>\n",
       "      <td>...</td>\n",
       "      <td>...</td>\n",
       "      <td>...</td>\n",
       "    </tr>\n",
       "    <tr>\n",
       "      <th>2195</th>\n",
       "      <td>56.448182</td>\n",
       "      <td>19.362727</td>\n",
       "      <td>16.149091</td>\n",
       "      <td>1.158393</td>\n",
       "      <td>5.068511</td>\n",
       "      <td>0.310584</td>\n",
       "      <td>74.310852</td>\n",
       "    </tr>\n",
       "    <tr>\n",
       "      <th>2196</th>\n",
       "      <td>48.448182</td>\n",
       "      <td>38.362727</td>\n",
       "      <td>21.149091</td>\n",
       "      <td>1.800869</td>\n",
       "      <td>14.845417</td>\n",
       "      <td>0.382558</td>\n",
       "      <td>24.460955</td>\n",
       "    </tr>\n",
       "    <tr>\n",
       "      <th>2197</th>\n",
       "      <td>67.448182</td>\n",
       "      <td>20.362727</td>\n",
       "      <td>18.149091</td>\n",
       "      <td>1.484447</td>\n",
       "      <td>4.256656</td>\n",
       "      <td>0.106872</td>\n",
       "      <td>69.859183</td>\n",
       "    </tr>\n",
       "    <tr>\n",
       "      <th>2198</th>\n",
       "      <td>66.448182</td>\n",
       "      <td>21.362727</td>\n",
       "      <td>14.149091</td>\n",
       "      <td>0.656175</td>\n",
       "      <td>19.354385</td>\n",
       "      <td>0.289312</td>\n",
       "      <td>23.711637</td>\n",
       "    </tr>\n",
       "    <tr>\n",
       "      <th>2199</th>\n",
       "      <td>53.448182</td>\n",
       "      <td>35.362727</td>\n",
       "      <td>18.149091</td>\n",
       "      <td>2.013228</td>\n",
       "      <td>11.085304</td>\n",
       "      <td>0.310353</td>\n",
       "      <td>37.473386</td>\n",
       "    </tr>\n",
       "  </tbody>\n",
       "</table>\n",
       "<p>2200 rows × 7 columns</p>\n",
       "</div>"
      ],
      "text/plain": [
       "              N          P          K  temperature   humidity        ph  \\\n",
       "0     39.448182  11.362727   5.149091     4.736500  10.520965  0.033505   \n",
       "1     34.448182   4.637273   7.149091     3.845782   8.837865  0.568616   \n",
       "2      9.448182   1.637273   4.149091     2.611785  10.838984  1.370727   \n",
       "3     23.448182  18.362727   8.149091     0.874852   8.676583  0.510921   \n",
       "4     27.448182  11.362727   6.149091     5.486069  10.123094  1.158993   \n",
       "...         ...        ...        ...          ...        ...       ...   \n",
       "2195  56.448182  19.362727  16.149091     1.158393   5.068511  0.310584   \n",
       "2196  48.448182  38.362727  21.149091     1.800869  14.845417  0.382558   \n",
       "2197  67.448182  20.362727  18.149091     1.484447   4.256656  0.106872   \n",
       "2198  66.448182  21.362727  14.149091     0.656175  19.354385  0.289312   \n",
       "2199  53.448182  35.362727  18.149091     2.013228  11.085304  0.310353   \n",
       "\n",
       "        rainfall  \n",
       "0      99.471881  \n",
       "1     123.191882  \n",
       "2     160.500592  \n",
       "3     139.400379  \n",
       "4     159.253685  \n",
       "...          ...  \n",
       "2195   74.310852  \n",
       "2196   24.460955  \n",
       "2197   69.859183  \n",
       "2198   23.711637  \n",
       "2199   37.473386  \n",
       "\n",
       "[2200 rows x 7 columns]"
      ]
     },
     "execution_count": 63,
     "metadata": {},
     "output_type": "execute_result"
    }
   ],
   "source": [
    "mad = np.abs(x-np.mean(x))\n",
    "mad"
   ]
  },
  {
   "cell_type": "code",
   "execution_count": 64,
   "id": "08b36f8c",
   "metadata": {},
   "outputs": [
    {
     "data": {
      "text/plain": [
       "N              32.583560\n",
       "P              24.878796\n",
       "K              31.431412\n",
       "temperature     3.799006\n",
       "humidity       18.172998\n",
       "ph              0.586927\n",
       "rainfall       42.438337\n",
       "dtype: float64"
      ]
     },
     "execution_count": 64,
     "metadata": {},
     "output_type": "execute_result"
    }
   ],
   "source": [
    "array = mad.mean()\n",
    "array"
   ]
  },
  {
   "cell_type": "code",
   "execution_count": 65,
   "id": "6ce61cff",
   "metadata": {},
   "outputs": [
    {
     "data": {
      "text/plain": [
       "<BarContainer object of 7 artists>"
      ]
     },
     "execution_count": 65,
     "metadata": {},
     "output_type": "execute_result"
    },
    {
     "data": {
      "image/png": "[encoded data removed]",
      "text/plain": [
       "<Figure size 432x288 with 1 Axes>"
      ]
     },
     "metadata": {
      "needs_background": "light"
     },
     "output_type": "display_data"
    }
   ],
   "source": [
    "plt.bar(x_train.columns,array)"
   ]
  },
  {
   "cell_type": "markdown",
   "id": "707b9b4b",
   "metadata": {},
   "source": [
    "## Step 7 - Model Training & Model Evaluation"
   ]
  },
  {
   "cell_type": "code",
   "execution_count": 66,
   "id": "95b38bea",
   "metadata": {},
   "outputs": [],
   "source": [
    "def train_model(model_name, x_train,x_test,y_train,y_test):\n",
    "    \"\"\"This function is for model trainingn\"\"\"    \n",
    "    model_name.fit(x_train,y_train)   ### Model Training\n",
    "    \n",
    "    \n",
    "    ############### model evaluation \n",
    "    \n",
    "    ########### Test Data Evaluation \n",
    "    print('#'*50)\n",
    "    print(f\"TESTING DATA EVALUATION\")\n",
    "    y_pred_test = model_name.predict(x_test)\n",
    "    acc_score = accuracy_score(y_test,y_pred_test)\n",
    "    cnf_matrix = confusion_matrix(y_test,y_pred_test)\n",
    "    clf_report = classification_report(y_test,y_pred_test)\n",
    "    \n",
    "    print(f\"Accuracy_Score = {acc_score}\")\n",
    "    print(f\"Confusion Matrix = \\n{cnf_matrix}\")\n",
    "    print(f\"Classification Report = \\n{clf_report}\")\n",
    "    \n",
    "    print('#'*50)\n",
    "    print(f\"TRAINING DATA EVALUATION\")\n",
    "    print()\n",
    "    print()\n",
    "    ########### training Data Evaluation \n",
    "    y_pred_train = model_name.predict(x_train)\n",
    "    acc_score = accuracy_score(y_train,y_pred_train)\n",
    "    cnf_matrix = confusion_matrix(y_train,y_pred_train)\n",
    "    clf_report = classification_report(y_train,y_pred_train)\n",
    "    \n",
    "    print(f\"Accuracy_Score = {acc_score}\")\n",
    "    print(f\"Confusion Matrix = \\n{cnf_matrix}\")\n",
    "    print(f\"Classification Report = \\n{clf_report}\")\n",
    "    \n",
    "    return \"Success\""
   ]
  },
  {
   "cell_type": "markdown",
   "id": "8dcfa174",
   "metadata": {},
   "source": [
    "## Step 8 - Model Evaluation"
   ]
  },
  {
   "cell_type": "markdown",
   "id": "2a7cbbd1",
   "metadata": {},
   "source": [
    "### 1. Logestic Regression"
   ]
  },
  {
   "cell_type": "code",
   "execution_count": 67,
   "id": "8e2f18b6",
   "metadata": {},
   "outputs": [
    {
     "name": "stdout",
     "output_type": "stream",
     "text": [
      "##################################################\n",
      "TESTING DATA EVALUATION\n",
      "Accuracy_Score = 0.9690909090909091\n",
      "Confusion Matrix = \n",
      "[[25  0  0  0  0  0  0  0  0  0  0  0  0  0  0  0  0  0  0  0  0  0]\n",
      " [ 0 25  0  0  0  0  0  0  0  0  0  0  0  0  0  0  0  0  0  0  0  0]\n",
      " [ 0  0 24  0  0  0  0  0  0  0  0  0  0  1  0  0  0  0  0  0  0  0]\n",
      " [ 0  0  0 25  0  0  0  0  0  0  0  0  0  0  0  0  0  0  0  0  0  0]\n",
      " [ 0  0  0  0 25  0  0  0  0  0  0  0  0  0  0  0  0  0  0  0  0  0]\n",
      " [ 0  0  0  0  0 25  0  0  0  0  0  0  0  0  0  0  0  0  0  0  0  0]\n",
      " [ 0  0  0  0  0  0 22  0  0  0  0  3  0  0  0  0  0  0  0  0  0  0]\n",
      " [ 0  0  0  0  0  0  0 25  0  0  0  0  0  0  0  0  0  0  0  0  0  0]\n",
      " [ 0  0  0  0  0  0  0  0 21  0  0  0  0  0  0  0  0  0  0  0  4  0]\n",
      " [ 0  0  0  0  0  0  0  0  0 25  0  0  0  0  0  0  0  0  0  0  0  0]\n",
      " [ 0  0  0  0  0  0  0  0  0  0 25  0  0  0  0  0  0  0  0  0  0  0]\n",
      " [ 0  0  0  0  0  0  3  0  0  0  0 22  0  0  0  0  0  0  0  0  0  0]\n",
      " [ 0  0  0  0  0  0  0  0  0  0  0  0 25  0  0  0  0  0  0  0  0  0]\n",
      " [ 0  0  1  0  0  0  0  0  0  0  0  0  0 24  0  0  0  0  0  0  0  0]\n",
      " [ 0  0  0  0  0  0  0  0  0  0  0  0  0  0 25  0  0  0  0  0  0  0]\n",
      " [ 0  0  0  0  0  0  0  0  0  0  0  0  0  0  0 25  0  0  0  0  0  0]\n",
      " [ 0  0  0  0  0  0  0  0  0  0  0  0  0  0  0  0 25  0  0  0  0  0]\n",
      " [ 0  0  0  0  0  0  0  0  1  0  0  0  0  0  1  0  0 22  0  0  1  0]\n",
      " [ 0  0  1  0  0  0  0  0  0  0  0  0  0  0  0  0  0  0 24  0  0  0]\n",
      " [ 0  0  0  0  0  0  0  0  0  0  0  0  0  0  0  0  0  0  0 25  0  0]\n",
      " [ 0  0  0  0  0  0  0  0  1  0  0  0  0  0  0  0  0  0  0  0 24  0]\n",
      " [ 0  0  0  0  0  0  0  0  0  0  0  0  0  0  0  0  0  0  0  0  0 25]]\n",
      "Classification Report = \n",
      "              precision    recall  f1-score   support\n",
      "\n",
      "           0       1.00      1.00      1.00        25\n",
      "           1       1.00      1.00      1.00        25\n",
      "           2       0.92      0.96      0.94        25\n",
      "           3       1.00      1.00      1.00        25\n",
      "           4       1.00      1.00      1.00        25\n",
      "           5       1.00      1.00      1.00        25\n",
      "           6       0.88      0.88      0.88        25\n",
      "           7       1.00      1.00      1.00        25\n",
      "           8       0.91      0.84      0.87        25\n",
      "           9       1.00      1.00      1.00        25\n",
      "          10       1.00      1.00      1.00        25\n",
      "          11       0.88      0.88      0.88        25\n",
      "          12       1.00      1.00      1.00        25\n",
      "          13       0.96      0.96      0.96        25\n",
      "          14       0.96      1.00      0.98        25\n",
      "          15       1.00      1.00      1.00        25\n",
      "          16       1.00      1.00      1.00        25\n",
      "          17       1.00      0.88      0.94        25\n",
      "          18       1.00      0.96      0.98        25\n",
      "          19       1.00      1.00      1.00        25\n",
      "          20       0.83      0.96      0.89        25\n",
      "          21       1.00      1.00      1.00        25\n",
      "\n",
      "    accuracy                           0.97       550\n",
      "   macro avg       0.97      0.97      0.97       550\n",
      "weighted avg       0.97      0.97      0.97       550\n",
      "\n",
      "##################################################\n",
      "TRAINING DATA EVALUATION\n",
      "\n",
      "\n",
      "Accuracy_Score = 0.98\n",
      "Confusion Matrix = \n",
      "[[75  0  0  0  0  0  0  0  0  0  0  0  0  0  0  0  0  0  0  0  0  0]\n",
      " [ 0 75  0  0  0  0  0  0  0  0  0  0  0  0  0  0  0  0  0  0  0  0]\n",
      " [ 0  0 69  0  0  0  0  0  0  0  1  0  0  5  0  0  0  0  0  0  0  0]\n",
      " [ 0  0  0 75  0  0  0  0  0  0  0  0  0  0  0  0  0  0  0  0  0  0]\n",
      " [ 0  0  0  0 75  0  0  0  0  0  0  0  0  0  0  0  0  0  0  0  0  0]\n",
      " [ 0  0  0  0  0 75  0  0  0  0  0  0  0  0  0  0  0  0  0  0  0  0]\n",
      " [ 0  0  0  0  0  0 73  0  0  0  0  2  0  0  0  0  0  0  0  0  0  0]\n",
      " [ 0  0  0  0  0  0  0 75  0  0  0  0  0  0  0  0  0  0  0  0  0  0]\n",
      " [ 0  0  0  0  0  1  0  0 71  0  0  0  0  0  0  0  0  0  0  0  3  0]\n",
      " [ 0  0  0  0  0  0  0  0  0 75  0  0  0  0  0  0  0  0  0  0  0  0]\n",
      " [ 0  0  1  0  0  0  0  0  0  0 72  0  0  2  0  0  0  0  0  0  0  0]\n",
      " [ 0  0  0  0  0  0  4  0  0  0  0 71  0  0  0  0  0  0  0  0  0  0]\n",
      " [ 0  0  0  0  0  0  0  0  0  0  0  0 75  0  0  0  0  0  0  0  0  0]\n",
      " [ 0  0  4  0  0  0  0  0  0  0  1  0  0 70  0  0  0  0  0  0  0  0]\n",
      " [ 0  0  0  0  0  0  0  0  0  0  0  0  0  0 75  0  0  0  0  0  0  0]\n",
      " [ 0  0  0  0  0  0  0  0  0  0  0  0  0  0  0 75  0  0  0  0  0  0]\n",
      " [ 0  0  0  0  0  0  0  0  0  0  0  0  0  0  0  0 75  0  0  0  0  0]\n",
      " [ 0  0  0  0  0  0  0  0  0  0  0  0  0  0  0  0  0 75  0  0  0  0]\n",
      " [ 0  0  0  0  0  0  0  0  0  0  0  0  0  0  0  0  0  0 75  0  0  0]\n",
      " [ 0  0  0  0  0  0  0  0  0  0  0  0  0  0  0  0  0  0  0 75  0  0]\n",
      " [ 0  0  0  0  0  0  0  0  9  0  0  0  0  0  0  0  0  0  0  0 66  0]\n",
      " [ 0  0  0  0  0  0  0  0  0  0  0  0  0  0  0  0  0  0  0  0  0 75]]\n",
      "Classification Report = \n",
      "              precision    recall  f1-score   support\n",
      "\n",
      "           0       1.00      1.00      1.00        75\n",
      "           1       1.00      1.00      1.00        75\n",
      "           2       0.93      0.92      0.93        75\n",
      "           3       1.00      1.00      1.00        75\n",
      "           4       1.00      1.00      1.00        75\n",
      "           5       0.99      1.00      0.99        75\n",
      "           6       0.95      0.97      0.96        75\n",
      "           7       1.00      1.00      1.00        75\n",
      "           8       0.89      0.95      0.92        75\n",
      "           9       1.00      1.00      1.00        75\n",
      "          10       0.97      0.96      0.97        75\n",
      "          11       0.97      0.95      0.96        75\n",
      "          12       1.00      1.00      1.00        75\n",
      "          13       0.91      0.93      0.92        75\n",
      "          14       1.00      1.00      1.00        75\n",
      "          15       1.00      1.00      1.00        75\n",
      "          16       1.00      1.00      1.00        75\n",
      "          17       1.00      1.00      1.00        75\n",
      "          18       1.00      1.00      1.00        75\n",
      "          19       1.00      1.00      1.00        75\n",
      "          20       0.96      0.88      0.92        75\n",
      "          21       1.00      1.00      1.00        75\n",
      "\n",
      "    accuracy                           0.98      1650\n",
      "   macro avg       0.98      0.98      0.98      1650\n",
      "weighted avg       0.98      0.98      0.98      1650\n",
      "\n"
     ]
    },
    {
     "data": {
      "text/plain": [
       "'Success'"
      ]
     },
     "execution_count": 67,
     "metadata": {},
     "output_type": "execute_result"
    }
   ],
   "source": [
    "lgr_model = LogisticRegression(max_iter=1000)\n",
    "\n",
    "train_model(lgr_model,x_train, x_test, y_train,y_test)"
   ]
  },
  {
   "cell_type": "markdown",
   "id": "82345147",
   "metadata": {},
   "source": [
    "### 2. K Nearest Neighbour (KNN)"
   ]
  },
  {
   "cell_type": "code",
   "execution_count": 68,
   "id": "fceacf7e",
   "metadata": {},
   "outputs": [
    {
     "name": "stdout",
     "output_type": "stream",
     "text": [
      "##################################################\n",
      "TESTING DATA EVALUATION\n",
      "Accuracy_Score = 0.98\n",
      "Confusion Matrix = \n",
      "[[25  0  0  0  0  0  0  0  0  0  0  0  0  0  0  0  0  0  0  0  0  0]\n",
      " [ 0 25  0  0  0  0  0  0  0  0  0  0  0  0  0  0  0  0  0  0  0  0]\n",
      " [ 0  0 25  0  0  0  0  0  0  0  0  0  0  0  0  0  0  0  0  0  0  0]\n",
      " [ 0  0  0 25  0  0  0  0  0  0  0  0  0  0  0  0  0  0  0  0  0  0]\n",
      " [ 0  0  0  0 25  0  0  0  0  0  0  0  0  0  0  0  0  0  0  0  0  0]\n",
      " [ 0  0  0  0  0 25  0  0  0  0  0  0  0  0  0  0  0  0  0  0  0  0]\n",
      " [ 0  0  0  0  0  0 25  0  0  0  0  0  0  0  0  0  0  0  0  0  0  0]\n",
      " [ 0  0  0  0  0  0  0 25  0  0  0  0  0  0  0  0  0  0  0  0  0  0]\n",
      " [ 0  0  0  0  0  0  0  0 21  0  0  0  0  0  0  0  0  0  0  0  4  0]\n",
      " [ 0  0  0  0  0  0  0  0  0 25  0  0  0  0  0  0  0  0  0  0  0  0]\n",
      " [ 0  0  1  0  0  0  0  0  0  0 24  0  0  0  0  0  0  0  0  0  0  0]\n",
      " [ 0  0  0  0  0  0  1  0  0  0  0 24  0  0  0  0  0  0  0  0  0  0]\n",
      " [ 0  0  0  0  0  0  0  0  0  0  0  0 25  0  0  0  0  0  0  0  0  0]\n",
      " [ 0  0  1  0  0  0  0  0  0  0  0  0  0 24  0  0  0  0  0  0  0  0]\n",
      " [ 0  0  0  0  0  0  0  0  0  0  0  0  0  0 25  0  0  0  0  0  0  0]\n",
      " [ 0  0  0  0  0  0  0  0  0  0  0  0  0  0  0 25  0  0  0  0  0  0]\n",
      " [ 0  0  0  0  0  0  0  0  0  0  0  0  0  0  0  0 25  0  0  0  0  0]\n",
      " [ 0  0  0  0  0  0  0  0  0  0  0  0  0  0  0  0  0 25  0  0  0  0]\n",
      " [ 0  0  1  0  0  0  0  0  0  2  0  0  0  0  0  0  0  0 22  0  0  0]\n",
      " [ 0  0  0  0  0  0  0  0  0  0  0  0  0  0  0  0  0  0  0 25  0  0]\n",
      " [ 0  0  0  0  0  0  0  0  1  0  0  0  0  0  0  0  0  0  0  0 24  0]\n",
      " [ 0  0  0  0  0  0  0  0  0  0  0  0  0  0  0  0  0  0  0  0  0 25]]\n",
      "Classification Report = \n",
      "              precision    recall  f1-score   support\n",
      "\n",
      "           0       1.00      1.00      1.00        25\n",
      "           1       1.00      1.00      1.00        25\n",
      "           2       0.89      1.00      0.94        25\n",
      "           3       1.00      1.00      1.00        25\n",
      "           4       1.00      1.00      1.00        25\n",
      "           5       1.00      1.00      1.00        25\n",
      "           6       0.96      1.00      0.98        25\n",
      "           7       1.00      1.00      1.00        25\n",
      "           8       0.95      0.84      0.89        25\n",
      "           9       0.93      1.00      0.96        25\n",
      "          10       1.00      0.96      0.98        25\n",
      "          11       1.00      0.96      0.98        25\n",
      "          12       1.00      1.00      1.00        25\n",
      "          13       1.00      0.96      0.98        25\n",
      "          14       1.00      1.00      1.00        25\n",
      "          15       1.00      1.00      1.00        25\n",
      "          16       1.00      1.00      1.00        25\n",
      "          17       1.00      1.00      1.00        25\n",
      "          18       1.00      0.88      0.94        25\n",
      "          19       1.00      1.00      1.00        25\n",
      "          20       0.86      0.96      0.91        25\n",
      "          21       1.00      1.00      1.00        25\n",
      "\n",
      "    accuracy                           0.98       550\n",
      "   macro avg       0.98      0.98      0.98       550\n",
      "weighted avg       0.98      0.98      0.98       550\n",
      "\n",
      "##################################################\n",
      "TRAINING DATA EVALUATION\n",
      "\n",
      "\n",
      "Accuracy_Score = 0.9890909090909091\n",
      "Confusion Matrix = \n",
      "[[75  0  0  0  0  0  0  0  0  0  0  0  0  0  0  0  0  0  0  0  0  0]\n",
      " [ 0 75  0  0  0  0  0  0  0  0  0  0  0  0  0  0  0  0  0  0  0  0]\n",
      " [ 0  0 75  0  0  0  0  0  0  0  0  0  0  0  0  0  0  0  0  0  0  0]\n",
      " [ 0  0  0 75  0  0  0  0  0  0  0  0  0  0  0  0  0  0  0  0  0  0]\n",
      " [ 0  0  0  0 75  0  0  0  0  0  0  0  0  0  0  0  0  0  0  0  0  0]\n",
      " [ 0  0  0  0  0 74  0  0  1  0  0  0  0  0  0  0  0  0  0  0  0  0]\n",
      " [ 0  0  0  0  0  0 75  0  0  0  0  0  0  0  0  0  0  0  0  0  0  0]\n",
      " [ 0  0  0  0  0  0  0 75  0  0  0  0  0  0  0  0  0  0  0  0  0  0]\n",
      " [ 0  0  0  0  0  0  0  0 72  0  0  0  0  0  0  0  0  0  0  0  3  0]\n",
      " [ 0  0  0  0  0  0  0  0  0 75  0  0  0  0  0  0  0  0  0  0  0  0]\n",
      " [ 0  0  0  0  0  0  0  0  0  0 74  0  0  1  0  0  0  0  0  0  0  0]\n",
      " [ 0  0  0  0  0  0  1  0  0  0  0 74  0  0  0  0  0  0  0  0  0  0]\n",
      " [ 0  0  0  0  0  0  0  0  0  0  0  0 75  0  0  0  0  0  0  0  0  0]\n",
      " [ 0  0  0  0  0  0  0  0  0  0  1  0  0 74  0  0  0  0  0  0  0  0]\n",
      " [ 0  0  0  0  0  0  0  0  0  0  0  0  0  0 75  0  0  0  0  0  0  0]\n",
      " [ 0  0  0  0  0  0  0  0  0  0  0  0  0  0  0 75  0  0  0  0  0  0]\n",
      " [ 0  0  0  0  0  0  0  0  0  0  0  0  0  0  0  0 75  0  0  0  0  0]\n",
      " [ 0  0  0  0  0  0  0  0  1  0  0  0  0  0  0  0  0 74  0  0  0  0]\n",
      " [ 0  0  0  0  0  0  0  0  0  2  0  0  0  0  0  0  0  0 73  0  0  0]\n",
      " [ 0  0  0  0  0  0  0  0  0  0  0  0  0  0  0  0  0  0  0 75  0  0]\n",
      " [ 0  0  0  0  0  0  0  0  8  0  0  0  0  0  0  0  0  0  0  0 67  0]\n",
      " [ 0  0  0  0  0  0  0  0  0  0  0  0  0  0  0  0  0  0  0  0  0 75]]\n",
      "Classification Report = \n",
      "              precision    recall  f1-score   support\n",
      "\n",
      "           0       1.00      1.00      1.00        75\n",
      "           1       1.00      1.00      1.00        75\n",
      "           2       1.00      1.00      1.00        75\n",
      "           3       1.00      1.00      1.00        75\n",
      "           4       1.00      1.00      1.00        75\n",
      "           5       1.00      0.99      0.99        75\n",
      "           6       0.99      1.00      0.99        75\n",
      "           7       1.00      1.00      1.00        75\n",
      "           8       0.88      0.96      0.92        75\n",
      "           9       0.97      1.00      0.99        75\n",
      "          10       0.99      0.99      0.99        75\n",
      "          11       1.00      0.99      0.99        75\n",
      "          12       1.00      1.00      1.00        75\n",
      "          13       0.99      0.99      0.99        75\n",
      "          14       1.00      1.00      1.00        75\n",
      "          15       1.00      1.00      1.00        75\n",
      "          16       1.00      1.00      1.00        75\n",
      "          17       1.00      0.99      0.99        75\n",
      "          18       1.00      0.97      0.99        75\n",
      "          19       1.00      1.00      1.00        75\n",
      "          20       0.96      0.89      0.92        75\n",
      "          21       1.00      1.00      1.00        75\n",
      "\n",
      "    accuracy                           0.99      1650\n",
      "   macro avg       0.99      0.99      0.99      1650\n",
      "weighted avg       0.99      0.99      0.99      1650\n",
      "\n"
     ]
    },
    {
     "data": {
      "text/plain": [
       "'Success'"
      ]
     },
     "execution_count": 68,
     "metadata": {},
     "output_type": "execute_result"
    }
   ],
   "source": [
    "knn_model = KNeighborsClassifier()\n",
    "train_model(knn_model,x_train, x_test, y_train,y_test)"
   ]
  },
  {
   "cell_type": "markdown",
   "id": "335e2b98",
   "metadata": {},
   "source": [
    "### 2.1 Hyper Parameter - K Nearest Neighbour"
   ]
  },
  {
   "cell_type": "code",
   "execution_count": 69,
   "id": "6787031c",
   "metadata": {},
   "outputs": [
    {
     "data": {
      "text/html": [
       "<style>#sk-container-id-1 {color: black;background-color: white;}#sk-container-id-1 pre{padding: 0;}#sk-container-id-1 div.sk-toggleable {background-color: white;}#sk-container-id-1 label.sk-toggleable__label {cursor: pointer;display: block;width: 100%;margin-bottom: 0;padding: 0.3em;box-sizing: border-box;text-align: center;}#sk-container-id-1 label.sk-toggleable__label-arrow:before {content: \"▸\";float: left;margin-right: 0.25em;color: #696969;}#sk-container-id-1 label.sk-toggleable__label-arrow:hover:before {color: black;}#sk-container-id-1 div.sk-estimator:hover label.sk-toggleable__label-arrow:before {color: black;}#sk-container-id-1 div.sk-toggleable__content {max-height: 0;max-width: 0;overflow: hidden;text-align: left;background-color: #f0f8ff;}#sk-container-id-1 div.sk-toggleable__content pre {margin: 0.2em;color: black;border-radius: 0.25em;background-color: #f0f8ff;}#sk-container-id-1 input.sk-toggleable__control:checked~div.sk-toggleable__content {max-height: 200px;max-width: 100%;overflow: auto;}#sk-container-id-1 input.sk-toggleable__control:checked~label.sk-toggleable__label-arrow:before {content: \"▾\";}#sk-container-id-1 div.sk-estimator input.sk-toggleable__control:checked~label.sk-toggleable__label {background-color: #d4ebff;}#sk-container-id-1 div.sk-label input.sk-toggleable__control:checked~label.sk-toggleable__label {background-color: #d4ebff;}#sk-container-id-1 input.sk-hidden--visually {border: 0;clip: rect(1px 1px 1px 1px);clip: rect(1px, 1px, 1px, 1px);height: 1px;margin: -1px;overflow: hidden;padding: 0;position: absolute;width: 1px;}#sk-container-id-1 div.sk-estimator {font-family: monospace;background-color: #f0f8ff;border: 1px dotted black;border-radius: 0.25em;box-sizing: border-box;margin-bottom: 0.5em;}#sk-container-id-1 div.sk-estimator:hover {background-color: #d4ebff;}#sk-container-id-1 div.sk-parallel-item::after {content: \"\";width: 100%;border-bottom: 1px solid gray;flex-grow: 1;}#sk-container-id-1 div.sk-label:hover label.sk-toggleable__label {background-color: #d4ebff;}#sk-container-id-1 div.sk-serial::before {content: \"\";position: absolute;border-left: 1px solid gray;box-sizing: border-box;top: 0;bottom: 0;left: 50%;z-index: 0;}#sk-container-id-1 div.sk-serial {display: flex;flex-direction: column;align-items: center;background-color: white;padding-right: 0.2em;padding-left: 0.2em;position: relative;}#sk-container-id-1 div.sk-item {position: relative;z-index: 1;}#sk-container-id-1 div.sk-parallel {display: flex;align-items: stretch;justify-content: center;background-color: white;position: relative;}#sk-container-id-1 div.sk-item::before, #sk-container-id-1 div.sk-parallel-item::before {content: \"\";position: absolute;border-left: 1px solid gray;box-sizing: border-box;top: 0;bottom: 0;left: 50%;z-index: -1;}#sk-container-id-1 div.sk-parallel-item {display: flex;flex-direction: column;z-index: 1;position: relative;background-color: white;}#sk-container-id-1 div.sk-parallel-item:first-child::after {align-self: flex-end;width: 50%;}#sk-container-id-1 div.sk-parallel-item:last-child::after {align-self: flex-start;width: 50%;}#sk-container-id-1 div.sk-parallel-item:only-child::after {width: 0;}#sk-container-id-1 div.sk-dashed-wrapped {border: 1px dashed gray;margin: 0 0.4em 0.5em 0.4em;box-sizing: border-box;padding-bottom: 0.4em;background-color: white;}#sk-container-id-1 div.sk-label label {font-family: monospace;font-weight: bold;display: inline-block;line-height: 1.2em;}#sk-container-id-1 div.sk-label-container {text-align: center;}#sk-container-id-1 div.sk-container {/* jupyter's `normalize.less` sets `[hidden] { display: none; }` but bootstrap.min.css set `[hidden] { display: none !important; }` so we also need the `!important` here to be able to override the default hidden behavior on the sphinx rendered scikit-learn.org. See: https://github.com/scikit-learn/scikit-learn/issues/21755 */display: inline-block !important;position: relative;}#sk-container-id-1 div.sk-text-repr-fallback {display: none;}</style><div id=\"sk-container-id-1\" class=\"sk-top-container\"><div class=\"sk-text-repr-fallback\"><pre>RandomizedSearchCV(cv=5, estimator=KNeighborsClassifier(),\n",
       "                   param_distributions={&#x27;n_neighbors&#x27;: array([ 3,  4,  5,  6,  7,  8,  9, 10, 11, 12, 13, 14, 15, 16, 17, 18, 19]),\n",
       "                                        &#x27;p&#x27;: [1, 2]},\n",
       "                   random_state=1)</pre><b>In a Jupyter environment, please rerun this cell to show the HTML representation or trust the notebook. <br />On GitHub, the HTML representation is unable to render, please try loading this page with nbviewer.org.</b></div><div class=\"sk-container\" hidden><div class=\"sk-item sk-dashed-wrapped\"><div class=\"sk-label-container\"><div class=\"sk-label sk-toggleable\"><input class=\"sk-toggleable__control sk-hidden--visually\" id=\"sk-estimator-id-1\" type=\"checkbox\" ><label for=\"sk-estimator-id-1\" class=\"sk-toggleable__label sk-toggleable__label-arrow\">RandomizedSearchCV</label><div class=\"sk-toggleable__content\"><pre>RandomizedSearchCV(cv=5, estimator=KNeighborsClassifier(),\n",
       "                   param_distributions={&#x27;n_neighbors&#x27;: array([ 3,  4,  5,  6,  7,  8,  9, 10, 11, 12, 13, 14, 15, 16, 17, 18, 19]),\n",
       "                                        &#x27;p&#x27;: [1, 2]},\n",
       "                   random_state=1)</pre></div></div></div><div class=\"sk-parallel\"><div class=\"sk-parallel-item\"><div class=\"sk-item\"><div class=\"sk-label-container\"><div class=\"sk-label sk-toggleable\"><input class=\"sk-toggleable__control sk-hidden--visually\" id=\"sk-estimator-id-2\" type=\"checkbox\" ><label for=\"sk-estimator-id-2\" class=\"sk-toggleable__label sk-toggleable__label-arrow\">estimator: KNeighborsClassifier</label><div class=\"sk-toggleable__content\"><pre>KNeighborsClassifier()</pre></div></div></div><div class=\"sk-serial\"><div class=\"sk-item\"><div class=\"sk-estimator sk-toggleable\"><input class=\"sk-toggleable__control sk-hidden--visually\" id=\"sk-estimator-id-3\" type=\"checkbox\" ><label for=\"sk-estimator-id-3\" class=\"sk-toggleable__label sk-toggleable__label-arrow\">KNeighborsClassifier</label><div class=\"sk-toggleable__content\"><pre>KNeighborsClassifier()</pre></div></div></div></div></div></div></div></div></div></div>"
      ],
      "text/plain": [
       "RandomizedSearchCV(cv=5, estimator=KNeighborsClassifier(),\n",
       "                   param_distributions={'n_neighbors': array([ 3,  4,  5,  6,  7,  8,  9, 10, 11, 12, 13, 14, 15, 16, 17, 18, 19]),\n",
       "                                        'p': [1, 2]},\n",
       "                   random_state=1)"
      ]
     },
     "execution_count": 69,
     "metadata": {},
     "output_type": "execute_result"
    }
   ],
   "source": [
    "hyp= {'n_neighbors':np.arange(3,20),'p':[1,2]}\n",
    "\n",
    "rscv_knn = RandomizedSearchCV(knn_model,hyp, cv=5,random_state=1)\n",
    "rscv_knn.fit(x_train,y_train)"
   ]
  },
  {
   "cell_type": "code",
   "execution_count": 70,
   "id": "e59dacb7",
   "metadata": {},
   "outputs": [
    {
     "data": {
      "text/html": [
       "<style>#sk-container-id-2 {color: black;background-color: white;}#sk-container-id-2 pre{padding: 0;}#sk-container-id-2 div.sk-toggleable {background-color: white;}#sk-container-id-2 label.sk-toggleable__label {cursor: pointer;display: block;width: 100%;margin-bottom: 0;padding: 0.3em;box-sizing: border-box;text-align: center;}#sk-container-id-2 label.sk-toggleable__label-arrow:before {content: \"▸\";float: left;margin-right: 0.25em;color: #696969;}#sk-container-id-2 label.sk-toggleable__label-arrow:hover:before {color: black;}#sk-container-id-2 div.sk-estimator:hover label.sk-toggleable__label-arrow:before {color: black;}#sk-container-id-2 div.sk-toggleable__content {max-height: 0;max-width: 0;overflow: hidden;text-align: left;background-color: #f0f8ff;}#sk-container-id-2 div.sk-toggleable__content pre {margin: 0.2em;color: black;border-radius: 0.25em;background-color: #f0f8ff;}#sk-container-id-2 input.sk-toggleable__control:checked~div.sk-toggleable__content {max-height: 200px;max-width: 100%;overflow: auto;}#sk-container-id-2 input.sk-toggleable__control:checked~label.sk-toggleable__label-arrow:before {content: \"▾\";}#sk-container-id-2 div.sk-estimator input.sk-toggleable__control:checked~label.sk-toggleable__label {background-color: #d4ebff;}#sk-container-id-2 div.sk-label input.sk-toggleable__control:checked~label.sk-toggleable__label {background-color: #d4ebff;}#sk-container-id-2 input.sk-hidden--visually {border: 0;clip: rect(1px 1px 1px 1px);clip: rect(1px, 1px, 1px, 1px);height: 1px;margin: -1px;overflow: hidden;padding: 0;position: absolute;width: 1px;}#sk-container-id-2 div.sk-estimator {font-family: monospace;background-color: #f0f8ff;border: 1px dotted black;border-radius: 0.25em;box-sizing: border-box;margin-bottom: 0.5em;}#sk-container-id-2 div.sk-estimator:hover {background-color: #d4ebff;}#sk-container-id-2 div.sk-parallel-item::after {content: \"\";width: 100%;border-bottom: 1px solid gray;flex-grow: 1;}#sk-container-id-2 div.sk-label:hover label.sk-toggleable__label {background-color: #d4ebff;}#sk-container-id-2 div.sk-serial::before {content: \"\";position: absolute;border-left: 1px solid gray;box-sizing: border-box;top: 0;bottom: 0;left: 50%;z-index: 0;}#sk-container-id-2 div.sk-serial {display: flex;flex-direction: column;align-items: center;background-color: white;padding-right: 0.2em;padding-left: 0.2em;position: relative;}#sk-container-id-2 div.sk-item {position: relative;z-index: 1;}#sk-container-id-2 div.sk-parallel {display: flex;align-items: stretch;justify-content: center;background-color: white;position: relative;}#sk-container-id-2 div.sk-item::before, #sk-container-id-2 div.sk-parallel-item::before {content: \"\";position: absolute;border-left: 1px solid gray;box-sizing: border-box;top: 0;bottom: 0;left: 50%;z-index: -1;}#sk-container-id-2 div.sk-parallel-item {display: flex;flex-direction: column;z-index: 1;position: relative;background-color: white;}#sk-container-id-2 div.sk-parallel-item:first-child::after {align-self: flex-end;width: 50%;}#sk-container-id-2 div.sk-parallel-item:last-child::after {align-self: flex-start;width: 50%;}#sk-container-id-2 div.sk-parallel-item:only-child::after {width: 0;}#sk-container-id-2 div.sk-dashed-wrapped {border: 1px dashed gray;margin: 0 0.4em 0.5em 0.4em;box-sizing: border-box;padding-bottom: 0.4em;background-color: white;}#sk-container-id-2 div.sk-label label {font-family: monospace;font-weight: bold;display: inline-block;line-height: 1.2em;}#sk-container-id-2 div.sk-label-container {text-align: center;}#sk-container-id-2 div.sk-container {/* jupyter's `normalize.less` sets `[hidden] { display: none; }` but bootstrap.min.css set `[hidden] { display: none !important; }` so we also need the `!important` here to be able to override the default hidden behavior on the sphinx rendered scikit-learn.org. See: https://github.com/scikit-learn/scikit-learn/issues/21755 */display: inline-block !important;position: relative;}#sk-container-id-2 div.sk-text-repr-fallback {display: none;}</style><div id=\"sk-container-id-2\" class=\"sk-top-container\"><div class=\"sk-text-repr-fallback\"><pre>KNeighborsClassifier(n_neighbors=10, p=1)</pre><b>In a Jupyter environment, please rerun this cell to show the HTML representation or trust the notebook. <br />On GitHub, the HTML representation is unable to render, please try loading this page with nbviewer.org.</b></div><div class=\"sk-container\" hidden><div class=\"sk-item\"><div class=\"sk-estimator sk-toggleable\"><input class=\"sk-toggleable__control sk-hidden--visually\" id=\"sk-estimator-id-4\" type=\"checkbox\" checked><label for=\"sk-estimator-id-4\" class=\"sk-toggleable__label sk-toggleable__label-arrow\">KNeighborsClassifier</label><div class=\"sk-toggleable__content\"><pre>KNeighborsClassifier(n_neighbors=10, p=1)</pre></div></div></div></div></div>"
      ],
      "text/plain": [
       "KNeighborsClassifier(n_neighbors=10, p=1)"
      ]
     },
     "execution_count": 70,
     "metadata": {},
     "output_type": "execute_result"
    }
   ],
   "source": [
    "knn_model_hyp = rscv_knn.best_estimator_\n",
    "knn_model_hyp.fit(x_train,y_train)"
   ]
  },
  {
   "cell_type": "code",
   "execution_count": 71,
   "id": "9d0e02eb",
   "metadata": {},
   "outputs": [
    {
     "name": "stdout",
     "output_type": "stream",
     "text": [
      "##################################################\n",
      "TESTING DATA EVALUATION\n",
      "Accuracy_Score = 0.98\n",
      "Confusion Matrix = \n",
      "[[25  0  0  0  0  0  0  0  0  0  0  0  0  0  0  0  0  0  0  0  0  0]\n",
      " [ 0 25  0  0  0  0  0  0  0  0  0  0  0  0  0  0  0  0  0  0  0  0]\n",
      " [ 0  0 25  0  0  0  0  0  0  0  0  0  0  0  0  0  0  0  0  0  0  0]\n",
      " [ 0  0  0 25  0  0  0  0  0  0  0  0  0  0  0  0  0  0  0  0  0  0]\n",
      " [ 0  0  0  0 25  0  0  0  0  0  0  0  0  0  0  0  0  0  0  0  0  0]\n",
      " [ 0  0  0  0  0 25  0  0  0  0  0  0  0  0  0  0  0  0  0  0  0  0]\n",
      " [ 0  0  0  0  0  0 25  0  0  0  0  0  0  0  0  0  0  0  0  0  0  0]\n",
      " [ 0  0  0  0  0  0  0 25  0  0  0  0  0  0  0  0  0  0  0  0  0  0]\n",
      " [ 0  0  0  0  0  0  0  0 24  0  0  0  0  0  0  0  0  0  0  0  1  0]\n",
      " [ 0  0  0  0  0  0  0  0  0 25  0  0  0  0  0  0  0  0  0  0  0  0]\n",
      " [ 0  0  1  0  0  0  0  0  0  0 24  0  0  0  0  0  0  0  0  0  0  0]\n",
      " [ 0  0  0  0  0  0  2  0  0  0  0 23  0  0  0  0  0  0  0  0  0  0]\n",
      " [ 0  0  0  0  0  0  0  0  0  0  0  0 25  0  0  0  0  0  0  0  0  0]\n",
      " [ 0  0  1  0  0  0  0  0  0  0  1  0  0 23  0  0  0  0  0  0  0  0]\n",
      " [ 0  0  0  0  0  0  0  0  0  0  0  0  0  0 25  0  0  0  0  0  0  0]\n",
      " [ 0  0  0  0  0  0  0  0  0  0  0  0  0  0  0 25  0  0  0  0  0  0]\n",
      " [ 0  0  0  0  0  0  0  0  0  0  0  0  0  0  0  0 25  0  0  0  0  0]\n",
      " [ 0  0  0  0  0  0  0  0  1  0  0  0  0  0  0  0  0 24  0  0  0  0]\n",
      " [ 0  0  1  0  0  0  0  0  0  2  0  0  0  0  0  0  0  0 22  0  0  0]\n",
      " [ 0  0  0  0  0  0  0  0  0  0  0  0  0  0  0  0  0  0  0 25  0  0]\n",
      " [ 0  0  0  0  0  0  0  0  1  0  0  0  0  0  0  0  0  0  0  0 24  0]\n",
      " [ 0  0  0  0  0  0  0  0  0  0  0  0  0  0  0  0  0  0  0  0  0 25]]\n",
      "Classification Report = \n",
      "              precision    recall  f1-score   support\n",
      "\n",
      "           0       1.00      1.00      1.00        25\n",
      "           1       1.00      1.00      1.00        25\n",
      "           2       0.89      1.00      0.94        25\n",
      "           3       1.00      1.00      1.00        25\n",
      "           4       1.00      1.00      1.00        25\n",
      "           5       1.00      1.00      1.00        25\n",
      "           6       0.93      1.00      0.96        25\n",
      "           7       1.00      1.00      1.00        25\n",
      "           8       0.92      0.96      0.94        25\n",
      "           9       0.93      1.00      0.96        25\n",
      "          10       0.96      0.96      0.96        25\n",
      "          11       1.00      0.92      0.96        25\n",
      "          12       1.00      1.00      1.00        25\n",
      "          13       1.00      0.92      0.96        25\n",
      "          14       1.00      1.00      1.00        25\n",
      "          15       1.00      1.00      1.00        25\n",
      "          16       1.00      1.00      1.00        25\n",
      "          17       1.00      0.96      0.98        25\n",
      "          18       1.00      0.88      0.94        25\n",
      "          19       1.00      1.00      1.00        25\n",
      "          20       0.96      0.96      0.96        25\n",
      "          21       1.00      1.00      1.00        25\n",
      "\n",
      "    accuracy                           0.98       550\n",
      "   macro avg       0.98      0.98      0.98       550\n",
      "weighted avg       0.98      0.98      0.98       550\n",
      "\n",
      "##################################################\n",
      "TRAINING DATA EVALUATION\n",
      "\n",
      "\n",
      "Accuracy_Score = 0.9836363636363636\n",
      "Confusion Matrix = \n",
      "[[75  0  0  0  0  0  0  0  0  0  0  0  0  0  0  0  0  0  0  0  0  0]\n",
      " [ 0 75  0  0  0  0  0  0  0  0  0  0  0  0  0  0  0  0  0  0  0  0]\n",
      " [ 0  0 75  0  0  0  0  0  0  0  0  0  0  0  0  0  0  0  0  0  0  0]\n",
      " [ 0  0  0 75  0  0  0  0  0  0  0  0  0  0  0  0  0  0  0  0  0  0]\n",
      " [ 0  0  0  0 75  0  0  0  0  0  0  0  0  0  0  0  0  0  0  0  0  0]\n",
      " [ 0  0  0  0  0 74  0  0  1  0  0  0  0  0  0  0  0  0  0  0  0  0]\n",
      " [ 0  0  0  0  0  0 75  0  0  0  0  0  0  0  0  0  0  0  0  0  0  0]\n",
      " [ 0  0  0  0  0  0  0 75  0  0  0  0  0  0  0  0  0  0  0  0  0  0]\n",
      " [ 0  0  0  0  0  0  0  0 75  0  0  0  0  0  0  0  0  0  0  0  0  0]\n",
      " [ 0  0  0  0  0  0  0  0  0 75  0  0  0  0  0  0  0  0  0  0  0  0]\n",
      " [ 0  0  0  0  0  0  0  0  0  0 75  0  0  0  0  0  0  0  0  0  0  0]\n",
      " [ 0  0  0  0  0  0  2  0  0  0  0 73  0  0  0  0  0  0  0  0  0  0]\n",
      " [ 0  0  0  0  0  0  0  0  0  0  0  0 75  0  0  0  0  0  0  0  0  0]\n",
      " [ 0  0  0  0  0  0  0  0  0  0  3  0  0 72  0  0  0  0  0  0  0  0]\n",
      " [ 0  0  0  0  0  0  0  0  0  0  0  0  0  0 75  0  0  0  0  0  0  0]\n",
      " [ 0  0  0  0  0  0  0  0  0  0  0  0  0  0  0 75  0  0  0  0  0  0]\n",
      " [ 0  0  0  0  0  0  0  0  0  0  0  0  0  0  0  0 75  0  0  0  0  0]\n",
      " [ 0  0  0  0  0  0  0  0  1  0  0  0  0  0  0  0  0 74  0  0  0  0]\n",
      " [ 0  0  0  0  0  0  0  0  0  6  0  0  0  0  0  0  0  0 69  0  0  0]\n",
      " [ 0  0  0  0  0  0  0  0  0  0  0  0  0  0  0  0  0  0  0 75  0  0]\n",
      " [ 0  0  0  0  0  0  0  0 14  0  0  0  0  0  0  0  0  0  0  0 61  0]\n",
      " [ 0  0  0  0  0  0  0  0  0  0  0  0  0  0  0  0  0  0  0  0  0 75]]\n",
      "Classification Report = \n",
      "              precision    recall  f1-score   support\n",
      "\n",
      "           0       1.00      1.00      1.00        75\n",
      "           1       1.00      1.00      1.00        75\n",
      "           2       1.00      1.00      1.00        75\n",
      "           3       1.00      1.00      1.00        75\n",
      "           4       1.00      1.00      1.00        75\n",
      "           5       1.00      0.99      0.99        75\n",
      "           6       0.97      1.00      0.99        75\n",
      "           7       1.00      1.00      1.00        75\n",
      "           8       0.82      1.00      0.90        75\n",
      "           9       0.93      1.00      0.96        75\n",
      "          10       0.96      1.00      0.98        75\n",
      "          11       1.00      0.97      0.99        75\n",
      "          12       1.00      1.00      1.00        75\n",
      "          13       1.00      0.96      0.98        75\n",
      "          14       1.00      1.00      1.00        75\n",
      "          15       1.00      1.00      1.00        75\n",
      "          16       1.00      1.00      1.00        75\n",
      "          17       1.00      0.99      0.99        75\n",
      "          18       1.00      0.92      0.96        75\n",
      "          19       1.00      1.00      1.00        75\n",
      "          20       1.00      0.81      0.90        75\n",
      "          21       1.00      1.00      1.00        75\n",
      "\n",
      "    accuracy                           0.98      1650\n",
      "   macro avg       0.99      0.98      0.98      1650\n",
      "weighted avg       0.99      0.98      0.98      1650\n",
      "\n"
     ]
    },
    {
     "data": {
      "text/plain": [
       "'Success'"
      ]
     },
     "execution_count": 71,
     "metadata": {},
     "output_type": "execute_result"
    }
   ],
   "source": [
    "train_model(knn_model_hyp,x_train, x_test, y_train,y_test)"
   ]
  },
  {
   "cell_type": "markdown",
   "id": "e38383a0",
   "metadata": {},
   "source": [
    "### 3. Decision Tree"
   ]
  },
  {
   "cell_type": "code",
   "execution_count": 72,
   "id": "69451a70",
   "metadata": {},
   "outputs": [
    {
     "name": "stdout",
     "output_type": "stream",
     "text": [
      "##################################################\n",
      "TESTING DATA EVALUATION\n",
      "Accuracy_Score = 0.990909090909091\n",
      "Confusion Matrix = \n",
      "[[25  0  0  0  0  0  0  0  0  0  0  0  0  0  0  0  0  0  0  0  0  0]\n",
      " [ 0 25  0  0  0  0  0  0  0  0  0  0  0  0  0  0  0  0  0  0  0  0]\n",
      " [ 0  0 25  0  0  0  0  0  0  0  0  0  0  0  0  0  0  0  0  0  0  0]\n",
      " [ 0  0  0 25  0  0  0  0  0  0  0  0  0  0  0  0  0  0  0  0  0  0]\n",
      " [ 0  0  0  0 24  0  0  0  0  0  0  0  0  0  0  0  1  0  0  0  0  0]\n",
      " [ 0  0  1  0  0 24  0  0  0  0  0  0  0  0  0  0  0  0  0  0  0  0]\n",
      " [ 0  0  0  0  0  0 25  0  0  0  0  0  0  0  0  0  0  0  0  0  0  0]\n",
      " [ 0  0  0  0  0  0  0 25  0  0  0  0  0  0  0  0  0  0  0  0  0  0]\n",
      " [ 0  0  0  0  0  0  0  0 24  0  0  0  0  0  0  0  0  0  0  0  1  0]\n",
      " [ 0  0  0  0  0  0  0  0  0 25  0  0  0  0  0  0  0  0  0  0  0  0]\n",
      " [ 0  0  0  0  0  0  0  0  0  0 25  0  0  0  0  0  0  0  0  0  0  0]\n",
      " [ 0  0  0  0  0  0  1  0  0  0  0 24  0  0  0  0  0  0  0  0  0  0]\n",
      " [ 0  0  0  0  0  0  0  0  0  0  0  0 25  0  0  0  0  0  0  0  0  0]\n",
      " [ 0  0  1  0  0  0  0  0  0  0  0  0  0 24  0  0  0  0  0  0  0  0]\n",
      " [ 0  0  0  0  0  0  0  0  0  0  0  0  0  0 25  0  0  0  0  0  0  0]\n",
      " [ 0  0  0  0  0  0  0  0  0  0  0  0  0  0  0 25  0  0  0  0  0  0]\n",
      " [ 0  0  0  0  0  0  0  0  0  0  0  0  0  0  0  0 25  0  0  0  0  0]\n",
      " [ 0  0  0  0  0  0  0  0  0  0  0  0  0  0  0  0  0 25  0  0  0  0]\n",
      " [ 0  0  0  0  0  0  0  0  0  0  0  0  0  0  0  0  0  0 25  0  0  0]\n",
      " [ 0  0  0  0  0  0  0  0  0  0  0  0  0  0  0  0  0  0  0 25  0  0]\n",
      " [ 0  0  0  0  0  0  0  0  0  0  0  0  0  0  0  0  0  0  0  0 25  0]\n",
      " [ 0  0  0  0  0  0  0  0  0  0  0  0  0  0  0  0  0  0  0  0  0 25]]\n",
      "Classification Report = \n",
      "              precision    recall  f1-score   support\n",
      "\n",
      "           0       1.00      1.00      1.00        25\n",
      "           1       1.00      1.00      1.00        25\n",
      "           2       0.93      1.00      0.96        25\n",
      "           3       1.00      1.00      1.00        25\n",
      "           4       1.00      0.96      0.98        25\n",
      "           5       1.00      0.96      0.98        25\n",
      "           6       0.96      1.00      0.98        25\n",
      "           7       1.00      1.00      1.00        25\n",
      "           8       1.00      0.96      0.98        25\n",
      "           9       1.00      1.00      1.00        25\n",
      "          10       1.00      1.00      1.00        25\n",
      "          11       1.00      0.96      0.98        25\n",
      "          12       1.00      1.00      1.00        25\n",
      "          13       1.00      0.96      0.98        25\n",
      "          14       1.00      1.00      1.00        25\n",
      "          15       1.00      1.00      1.00        25\n",
      "          16       0.96      1.00      0.98        25\n",
      "          17       1.00      1.00      1.00        25\n",
      "          18       1.00      1.00      1.00        25\n",
      "          19       1.00      1.00      1.00        25\n",
      "          20       0.96      1.00      0.98        25\n",
      "          21       1.00      1.00      1.00        25\n",
      "\n",
      "    accuracy                           0.99       550\n",
      "   macro avg       0.99      0.99      0.99       550\n",
      "weighted avg       0.99      0.99      0.99       550\n",
      "\n",
      "##################################################\n",
      "TRAINING DATA EVALUATION\n",
      "\n",
      "\n",
      "Accuracy_Score = 1.0\n",
      "Confusion Matrix = \n",
      "[[75  0  0  0  0  0  0  0  0  0  0  0  0  0  0  0  0  0  0  0  0  0]\n",
      " [ 0 75  0  0  0  0  0  0  0  0  0  0  0  0  0  0  0  0  0  0  0  0]\n",
      " [ 0  0 75  0  0  0  0  0  0  0  0  0  0  0  0  0  0  0  0  0  0  0]\n",
      " [ 0  0  0 75  0  0  0  0  0  0  0  0  0  0  0  0  0  0  0  0  0  0]\n",
      " [ 0  0  0  0 75  0  0  0  0  0  0  0  0  0  0  0  0  0  0  0  0  0]\n",
      " [ 0  0  0  0  0 75  0  0  0  0  0  0  0  0  0  0  0  0  0  0  0  0]\n",
      " [ 0  0  0  0  0  0 75  0  0  0  0  0  0  0  0  0  0  0  0  0  0  0]\n",
      " [ 0  0  0  0  0  0  0 75  0  0  0  0  0  0  0  0  0  0  0  0  0  0]\n",
      " [ 0  0  0  0  0  0  0  0 75  0  0  0  0  0  0  0  0  0  0  0  0  0]\n",
      " [ 0  0  0  0  0  0  0  0  0 75  0  0  0  0  0  0  0  0  0  0  0  0]\n",
      " [ 0  0  0  0  0  0  0  0  0  0 75  0  0  0  0  0  0  0  0  0  0  0]\n",
      " [ 0  0  0  0  0  0  0  0  0  0  0 75  0  0  0  0  0  0  0  0  0  0]\n",
      " [ 0  0  0  0  0  0  0  0  0  0  0  0 75  0  0  0  0  0  0  0  0  0]\n",
      " [ 0  0  0  0  0  0  0  0  0  0  0  0  0 75  0  0  0  0  0  0  0  0]\n",
      " [ 0  0  0  0  0  0  0  0  0  0  0  0  0  0 75  0  0  0  0  0  0  0]\n",
      " [ 0  0  0  0  0  0  0  0  0  0  0  0  0  0  0 75  0  0  0  0  0  0]\n",
      " [ 0  0  0  0  0  0  0  0  0  0  0  0  0  0  0  0 75  0  0  0  0  0]\n",
      " [ 0  0  0  0  0  0  0  0  0  0  0  0  0  0  0  0  0 75  0  0  0  0]\n",
      " [ 0  0  0  0  0  0  0  0  0  0  0  0  0  0  0  0  0  0 75  0  0  0]\n",
      " [ 0  0  0  0  0  0  0  0  0  0  0  0  0  0  0  0  0  0  0 75  0  0]\n",
      " [ 0  0  0  0  0  0  0  0  0  0  0  0  0  0  0  0  0  0  0  0 75  0]\n",
      " [ 0  0  0  0  0  0  0  0  0  0  0  0  0  0  0  0  0  0  0  0  0 75]]\n",
      "Classification Report = \n",
      "              precision    recall  f1-score   support\n",
      "\n",
      "           0       1.00      1.00      1.00        75\n",
      "           1       1.00      1.00      1.00        75\n",
      "           2       1.00      1.00      1.00        75\n",
      "           3       1.00      1.00      1.00        75\n",
      "           4       1.00      1.00      1.00        75\n",
      "           5       1.00      1.00      1.00        75\n",
      "           6       1.00      1.00      1.00        75\n",
      "           7       1.00      1.00      1.00        75\n",
      "           8       1.00      1.00      1.00        75\n",
      "           9       1.00      1.00      1.00        75\n",
      "          10       1.00      1.00      1.00        75\n",
      "          11       1.00      1.00      1.00        75\n",
      "          12       1.00      1.00      1.00        75\n",
      "          13       1.00      1.00      1.00        75\n",
      "          14       1.00      1.00      1.00        75\n",
      "          15       1.00      1.00      1.00        75\n",
      "          16       1.00      1.00      1.00        75\n",
      "          17       1.00      1.00      1.00        75\n",
      "          18       1.00      1.00      1.00        75\n",
      "          19       1.00      1.00      1.00        75\n",
      "          20       1.00      1.00      1.00        75\n",
      "          21       1.00      1.00      1.00        75\n",
      "\n",
      "    accuracy                           1.00      1650\n",
      "   macro avg       1.00      1.00      1.00      1650\n",
      "weighted avg       1.00      1.00      1.00      1650\n",
      "\n"
     ]
    },
    {
     "data": {
      "text/plain": [
       "'Success'"
      ]
     },
     "execution_count": 72,
     "metadata": {},
     "output_type": "execute_result"
    }
   ],
   "source": [
    "dt_model = DecisionTreeClassifier(random_state=2)\n",
    "train_model(dt_model,x_train, x_test, y_train,y_test)"
   ]
  },
  {
   "cell_type": "markdown",
   "id": "a7f3385c",
   "metadata": {},
   "source": [
    "### 3.1 Hyper Parameter - Decision Tree"
   ]
  },
  {
   "cell_type": "code",
   "execution_count": 73,
   "id": "33d41462",
   "metadata": {},
   "outputs": [
    {
     "data": {
      "text/html": [
       "<style>#sk-container-id-3 {color: black;background-color: white;}#sk-container-id-3 pre{padding: 0;}#sk-container-id-3 div.sk-toggleable {background-color: white;}#sk-container-id-3 label.sk-toggleable__label {cursor: pointer;display: block;width: 100%;margin-bottom: 0;padding: 0.3em;box-sizing: border-box;text-align: center;}#sk-container-id-3 label.sk-toggleable__label-arrow:before {content: \"▸\";float: left;margin-right: 0.25em;color: #696969;}#sk-container-id-3 label.sk-toggleable__label-arrow:hover:before {color: black;}#sk-container-id-3 div.sk-estimator:hover label.sk-toggleable__label-arrow:before {color: black;}#sk-container-id-3 div.sk-toggleable__content {max-height: 0;max-width: 0;overflow: hidden;text-align: left;background-color: #f0f8ff;}#sk-container-id-3 div.sk-toggleable__content pre {margin: 0.2em;color: black;border-radius: 0.25em;background-color: #f0f8ff;}#sk-container-id-3 input.sk-toggleable__control:checked~div.sk-toggleable__content {max-height: 200px;max-width: 100%;overflow: auto;}#sk-container-id-3 input.sk-toggleable__control:checked~label.sk-toggleable__label-arrow:before {content: \"▾\";}#sk-container-id-3 div.sk-estimator input.sk-toggleable__control:checked~label.sk-toggleable__label {background-color: #d4ebff;}#sk-container-id-3 div.sk-label input.sk-toggleable__control:checked~label.sk-toggleable__label {background-color: #d4ebff;}#sk-container-id-3 input.sk-hidden--visually {border: 0;clip: rect(1px 1px 1px 1px);clip: rect(1px, 1px, 1px, 1px);height: 1px;margin: -1px;overflow: hidden;padding: 0;position: absolute;width: 1px;}#sk-container-id-3 div.sk-estimator {font-family: monospace;background-color: #f0f8ff;border: 1px dotted black;border-radius: 0.25em;box-sizing: border-box;margin-bottom: 0.5em;}#sk-container-id-3 div.sk-estimator:hover {background-color: #d4ebff;}#sk-container-id-3 div.sk-parallel-item::after {content: \"\";width: 100%;border-bottom: 1px solid gray;flex-grow: 1;}#sk-container-id-3 div.sk-label:hover label.sk-toggleable__label {background-color: #d4ebff;}#sk-container-id-3 div.sk-serial::before {content: \"\";position: absolute;border-left: 1px solid gray;box-sizing: border-box;top: 0;bottom: 0;left: 50%;z-index: 0;}#sk-container-id-3 div.sk-serial {display: flex;flex-direction: column;align-items: center;background-color: white;padding-right: 0.2em;padding-left: 0.2em;position: relative;}#sk-container-id-3 div.sk-item {position: relative;z-index: 1;}#sk-container-id-3 div.sk-parallel {display: flex;align-items: stretch;justify-content: center;background-color: white;position: relative;}#sk-container-id-3 div.sk-item::before, #sk-container-id-3 div.sk-parallel-item::before {content: \"\";position: absolute;border-left: 1px solid gray;box-sizing: border-box;top: 0;bottom: 0;left: 50%;z-index: -1;}#sk-container-id-3 div.sk-parallel-item {display: flex;flex-direction: column;z-index: 1;position: relative;background-color: white;}#sk-container-id-3 div.sk-parallel-item:first-child::after {align-self: flex-end;width: 50%;}#sk-container-id-3 div.sk-parallel-item:last-child::after {align-self: flex-start;width: 50%;}#sk-container-id-3 div.sk-parallel-item:only-child::after {width: 0;}#sk-container-id-3 div.sk-dashed-wrapped {border: 1px dashed gray;margin: 0 0.4em 0.5em 0.4em;box-sizing: border-box;padding-bottom: 0.4em;background-color: white;}#sk-container-id-3 div.sk-label label {font-family: monospace;font-weight: bold;display: inline-block;line-height: 1.2em;}#sk-container-id-3 div.sk-label-container {text-align: center;}#sk-container-id-3 div.sk-container {/* jupyter's `normalize.less` sets `[hidden] { display: none; }` but bootstrap.min.css set `[hidden] { display: none !important; }` so we also need the `!important` here to be able to override the default hidden behavior on the sphinx rendered scikit-learn.org. See: https://github.com/scikit-learn/scikit-learn/issues/21755 */display: inline-block !important;position: relative;}#sk-container-id-3 div.sk-text-repr-fallback {display: none;}</style><div id=\"sk-container-id-3\" class=\"sk-top-container\"><div class=\"sk-text-repr-fallback\"><pre>RandomizedSearchCV(cv=5, estimator=DecisionTreeClassifier(random_state=2),\n",
       "                   param_distributions={&#x27;criterion&#x27;: [&#x27;gini&#x27;, &#x27;entropy&#x27;],\n",
       "                                        &#x27;max_depth&#x27;: array([ 3,  4,  5,  6,  7,  8,  9, 10, 11, 12, 13, 14, 15, 16, 17, 18, 19,\n",
       "       20, 21, 22, 23, 24, 25, 26, 27, 28, 29]),\n",
       "                                        &#x27;min_samples_leaf&#x27;: array([2, 3, 4, 5, 6, 7, 8, 9]),\n",
       "                                        &#x27;min_samples_split&#x27;: array([ 2,  3,  4,  5,  6,  7,  8,  9, 10, 11, 12, 13, 14, 15, 16, 17, 18,\n",
       "       19, 20, 21, 22, 23, 24, 25, 26, 27, 28, 29])})</pre><b>In a Jupyter environment, please rerun this cell to show the HTML representation or trust the notebook. <br />On GitHub, the HTML representation is unable to render, please try loading this page with nbviewer.org.</b></div><div class=\"sk-container\" hidden><div class=\"sk-item sk-dashed-wrapped\"><div class=\"sk-label-container\"><div class=\"sk-label sk-toggleable\"><input class=\"sk-toggleable__control sk-hidden--visually\" id=\"sk-estimator-id-5\" type=\"checkbox\" ><label for=\"sk-estimator-id-5\" class=\"sk-toggleable__label sk-toggleable__label-arrow\">RandomizedSearchCV</label><div class=\"sk-toggleable__content\"><pre>RandomizedSearchCV(cv=5, estimator=DecisionTreeClassifier(random_state=2),\n",
       "                   param_distributions={&#x27;criterion&#x27;: [&#x27;gini&#x27;, &#x27;entropy&#x27;],\n",
       "                                        &#x27;max_depth&#x27;: array([ 3,  4,  5,  6,  7,  8,  9, 10, 11, 12, 13, 14, 15, 16, 17, 18, 19,\n",
       "       20, 21, 22, 23, 24, 25, 26, 27, 28, 29]),\n",
       "                                        &#x27;min_samples_leaf&#x27;: array([2, 3, 4, 5, 6, 7, 8, 9]),\n",
       "                                        &#x27;min_samples_split&#x27;: array([ 2,  3,  4,  5,  6,  7,  8,  9, 10, 11, 12, 13, 14, 15, 16, 17, 18,\n",
       "       19, 20, 21, 22, 23, 24, 25, 26, 27, 28, 29])})</pre></div></div></div><div class=\"sk-parallel\"><div class=\"sk-parallel-item\"><div class=\"sk-item\"><div class=\"sk-label-container\"><div class=\"sk-label sk-toggleable\"><input class=\"sk-toggleable__control sk-hidden--visually\" id=\"sk-estimator-id-6\" type=\"checkbox\" ><label for=\"sk-estimator-id-6\" class=\"sk-toggleable__label sk-toggleable__label-arrow\">estimator: DecisionTreeClassifier</label><div class=\"sk-toggleable__content\"><pre>DecisionTreeClassifier(random_state=2)</pre></div></div></div><div class=\"sk-serial\"><div class=\"sk-item\"><div class=\"sk-estimator sk-toggleable\"><input class=\"sk-toggleable__control sk-hidden--visually\" id=\"sk-estimator-id-7\" type=\"checkbox\" ><label for=\"sk-estimator-id-7\" class=\"sk-toggleable__label sk-toggleable__label-arrow\">DecisionTreeClassifier</label><div class=\"sk-toggleable__content\"><pre>DecisionTreeClassifier(random_state=2)</pre></div></div></div></div></div></div></div></div></div></div>"
      ],
      "text/plain": [
       "RandomizedSearchCV(cv=5, estimator=DecisionTreeClassifier(random_state=2),\n",
       "                   param_distributions={'criterion': ['gini', 'entropy'],\n",
       "                                        'max_depth': array([ 3,  4,  5,  6,  7,  8,  9, 10, 11, 12, 13, 14, 15, 16, 17, 18, 19,\n",
       "       20, 21, 22, 23, 24, 25, 26, 27, 28, 29]),\n",
       "                                        'min_samples_leaf': array([2, 3, 4, 5, 6, 7, 8, 9]),\n",
       "                                        'min_samples_split': array([ 2,  3,  4,  5,  6,  7,  8,  9, 10, 11, 12, 13, 14, 15, 16, 17, 18,\n",
       "       19, 20, 21, 22, 23, 24, 25, 26, 27, 28, 29])})"
      ]
     },
     "execution_count": 73,
     "metadata": {},
     "output_type": "execute_result"
    }
   ],
   "source": [
    "hyp= {'criterion':[\"gini\",\"entropy\"],\n",
    "     'max_depth':np.arange(3,30),\n",
    "     'min_samples_split':np.arange(2,30),\n",
    "     'min_samples_leaf':np.arange(2,10)\n",
    "     }\n",
    "\n",
    "rscv = RandomizedSearchCV(dt_model,hyp, cv= 5)\n",
    "rscv.fit(x_train,y_train)"
   ]
  },
  {
   "cell_type": "code",
   "execution_count": 74,
   "id": "b9720812",
   "metadata": {},
   "outputs": [
    {
     "data": {
      "text/html": [
       "<style>#sk-container-id-4 {color: black;background-color: white;}#sk-container-id-4 pre{padding: 0;}#sk-container-id-4 div.sk-toggleable {background-color: white;}#sk-container-id-4 label.sk-toggleable__label {cursor: pointer;display: block;width: 100%;margin-bottom: 0;padding: 0.3em;box-sizing: border-box;text-align: center;}#sk-container-id-4 label.sk-toggleable__label-arrow:before {content: \"▸\";float: left;margin-right: 0.25em;color: #696969;}#sk-container-id-4 label.sk-toggleable__label-arrow:hover:before {color: black;}#sk-container-id-4 div.sk-estimator:hover label.sk-toggleable__label-arrow:before {color: black;}#sk-container-id-4 div.sk-toggleable__content {max-height: 0;max-width: 0;overflow: hidden;text-align: left;background-color: #f0f8ff;}#sk-container-id-4 div.sk-toggleable__content pre {margin: 0.2em;color: black;border-radius: 0.25em;background-color: #f0f8ff;}#sk-container-id-4 input.sk-toggleable__control:checked~div.sk-toggleable__content {max-height: 200px;max-width: 100%;overflow: auto;}#sk-container-id-4 input.sk-toggleable__control:checked~label.sk-toggleable__label-arrow:before {content: \"▾\";}#sk-container-id-4 div.sk-estimator input.sk-toggleable__control:checked~label.sk-toggleable__label {background-color: #d4ebff;}#sk-container-id-4 div.sk-label input.sk-toggleable__control:checked~label.sk-toggleable__label {background-color: #d4ebff;}#sk-container-id-4 input.sk-hidden--visually {border: 0;clip: rect(1px 1px 1px 1px);clip: rect(1px, 1px, 1px, 1px);height: 1px;margin: -1px;overflow: hidden;padding: 0;position: absolute;width: 1px;}#sk-container-id-4 div.sk-estimator {font-family: monospace;background-color: #f0f8ff;border: 1px dotted black;border-radius: 0.25em;box-sizing: border-box;margin-bottom: 0.5em;}#sk-container-id-4 div.sk-estimator:hover {background-color: #d4ebff;}#sk-container-id-4 div.sk-parallel-item::after {content: \"\";width: 100%;border-bottom: 1px solid gray;flex-grow: 1;}#sk-container-id-4 div.sk-label:hover label.sk-toggleable__label {background-color: #d4ebff;}#sk-container-id-4 div.sk-serial::before {content: \"\";position: absolute;border-left: 1px solid gray;box-sizing: border-box;top: 0;bottom: 0;left: 50%;z-index: 0;}#sk-container-id-4 div.sk-serial {display: flex;flex-direction: column;align-items: center;background-color: white;padding-right: 0.2em;padding-left: 0.2em;position: relative;}#sk-container-id-4 div.sk-item {position: relative;z-index: 1;}#sk-container-id-4 div.sk-parallel {display: flex;align-items: stretch;justify-content: center;background-color: white;position: relative;}#sk-container-id-4 div.sk-item::before, #sk-container-id-4 div.sk-parallel-item::before {content: \"\";position: absolute;border-left: 1px solid gray;box-sizing: border-box;top: 0;bottom: 0;left: 50%;z-index: -1;}#sk-container-id-4 div.sk-parallel-item {display: flex;flex-direction: column;z-index: 1;position: relative;background-color: white;}#sk-container-id-4 div.sk-parallel-item:first-child::after {align-self: flex-end;width: 50%;}#sk-container-id-4 div.sk-parallel-item:last-child::after {align-self: flex-start;width: 50%;}#sk-container-id-4 div.sk-parallel-item:only-child::after {width: 0;}#sk-container-id-4 div.sk-dashed-wrapped {border: 1px dashed gray;margin: 0 0.4em 0.5em 0.4em;box-sizing: border-box;padding-bottom: 0.4em;background-color: white;}#sk-container-id-4 div.sk-label label {font-family: monospace;font-weight: bold;display: inline-block;line-height: 1.2em;}#sk-container-id-4 div.sk-label-container {text-align: center;}#sk-container-id-4 div.sk-container {/* jupyter's `normalize.less` sets `[hidden] { display: none; }` but bootstrap.min.css set `[hidden] { display: none !important; }` so we also need the `!important` here to be able to override the default hidden behavior on the sphinx rendered scikit-learn.org. See: https://github.com/scikit-learn/scikit-learn/issues/21755 */display: inline-block !important;position: relative;}#sk-container-id-4 div.sk-text-repr-fallback {display: none;}</style><div id=\"sk-container-id-4\" class=\"sk-top-container\"><div class=\"sk-text-repr-fallback\"><pre>DecisionTreeClassifier(max_depth=18, min_samples_leaf=2, min_samples_split=19,\n",
       "                       random_state=2)</pre><b>In a Jupyter environment, please rerun this cell to show the HTML representation or trust the notebook. <br />On GitHub, the HTML representation is unable to render, please try loading this page with nbviewer.org.</b></div><div class=\"sk-container\" hidden><div class=\"sk-item\"><div class=\"sk-estimator sk-toggleable\"><input class=\"sk-toggleable__control sk-hidden--visually\" id=\"sk-estimator-id-8\" type=\"checkbox\" checked><label for=\"sk-estimator-id-8\" class=\"sk-toggleable__label sk-toggleable__label-arrow\">DecisionTreeClassifier</label><div class=\"sk-toggleable__content\"><pre>DecisionTreeClassifier(max_depth=18, min_samples_leaf=2, min_samples_split=19,\n",
       "                       random_state=2)</pre></div></div></div></div></div>"
      ],
      "text/plain": [
       "DecisionTreeClassifier(max_depth=18, min_samples_leaf=2, min_samples_split=19,\n",
       "                       random_state=2)"
      ]
     },
     "execution_count": 74,
     "metadata": {},
     "output_type": "execute_result"
    }
   ],
   "source": [
    "dt_model_hyp = rscv.best_estimator_\n",
    "dt_model_hyp.fit(x_train,y_train)"
   ]
  },
  {
   "cell_type": "code",
   "execution_count": 75,
   "id": "d6ca62ff",
   "metadata": {},
   "outputs": [
    {
     "name": "stdout",
     "output_type": "stream",
     "text": [
      "##################################################\n",
      "TESTING DATA EVALUATION\n",
      "Accuracy_Score = 0.9872727272727273\n",
      "Confusion Matrix = \n",
      "[[25  0  0  0  0  0  0  0  0  0  0  0  0  0  0  0  0  0  0  0  0  0]\n",
      " [ 0 25  0  0  0  0  0  0  0  0  0  0  0  0  0  0  0  0  0  0  0  0]\n",
      " [ 0  0 25  0  0  0  0  0  0  0  0  0  0  0  0  0  0  0  0  0  0  0]\n",
      " [ 0  0  0 25  0  0  0  0  0  0  0  0  0  0  0  0  0  0  0  0  0  0]\n",
      " [ 0  0  0  0 25  0  0  0  0  0  0  0  0  0  0  0  0  0  0  0  0  0]\n",
      " [ 0  0  1  0  0 24  0  0  0  0  0  0  0  0  0  0  0  0  0  0  0  0]\n",
      " [ 0  0  0  0  0  0 25  0  0  0  0  0  0  0  0  0  0  0  0  0  0  0]\n",
      " [ 0  0  0  0  0  0  0 25  0  0  0  0  0  0  0  0  0  0  0  0  0  0]\n",
      " [ 0  0  0  0  0  0  0  0 24  0  0  0  0  0  0  0  0  0  0  0  1  0]\n",
      " [ 0  0  0  0  0  0  0  0  0 25  0  0  0  0  0  0  0  0  0  0  0  0]\n",
      " [ 0  0  0  0  0  0  0  0  0  0 25  0  0  0  0  0  0  0  0  0  0  0]\n",
      " [ 0  0  0  0  0  0  1  0  0  0  0 24  0  0  0  0  0  0  0  0  0  0]\n",
      " [ 0  0  0  0  0  0  0  0  0  0  0  0 25  0  0  0  0  0  0  0  0  0]\n",
      " [ 0  0  1  0  0  0  0  0  0  0  1  0  0 23  0  0  0  0  0  0  0  0]\n",
      " [ 0  0  0  0  0  0  0  0  0  0  0  0  0  0 25  0  0  0  0  0  0  0]\n",
      " [ 0  0  0  0  0  0  0  0  0  0  0  0  0  0  0 25  0  0  0  0  0  0]\n",
      " [ 0  0  0  0  2  0  0  0  0  0  0  0  0  0  0  0 23  0  0  0  0  0]\n",
      " [ 0  0  0  0  0  0  0  0  0  0  0  0  0  0  0  0  0 25  0  0  0  0]\n",
      " [ 0  0  0  0  0  0  0  0  0  0  0  0  0  0  0  0  0  0 25  0  0  0]\n",
      " [ 0  0  0  0  0  0  0  0  0  0  0  0  0  0  0  0  0  0  0 25  0  0]\n",
      " [ 0  0  0  0  0  0  0  0  0  0  0  0  0  0  0  0  0  0  0  0 25  0]\n",
      " [ 0  0  0  0  0  0  0  0  0  0  0  0  0  0  0  0  0  0  0  0  0 25]]\n",
      "Classification Report = \n",
      "              precision    recall  f1-score   support\n",
      "\n",
      "           0       1.00      1.00      1.00        25\n",
      "           1       1.00      1.00      1.00        25\n",
      "           2       0.93      1.00      0.96        25\n",
      "           3       1.00      1.00      1.00        25\n",
      "           4       0.93      1.00      0.96        25\n",
      "           5       1.00      0.96      0.98        25\n",
      "           6       0.96      1.00      0.98        25\n",
      "           7       1.00      1.00      1.00        25\n",
      "           8       1.00      0.96      0.98        25\n",
      "           9       1.00      1.00      1.00        25\n",
      "          10       0.96      1.00      0.98        25\n",
      "          11       1.00      0.96      0.98        25\n",
      "          12       1.00      1.00      1.00        25\n",
      "          13       1.00      0.92      0.96        25\n",
      "          14       1.00      1.00      1.00        25\n",
      "          15       1.00      1.00      1.00        25\n",
      "          16       1.00      0.92      0.96        25\n",
      "          17       1.00      1.00      1.00        25\n",
      "          18       1.00      1.00      1.00        25\n",
      "          19       1.00      1.00      1.00        25\n",
      "          20       0.96      1.00      0.98        25\n",
      "          21       1.00      1.00      1.00        25\n",
      "\n",
      "    accuracy                           0.99       550\n",
      "   macro avg       0.99      0.99      0.99       550\n",
      "weighted avg       0.99      0.99      0.99       550\n",
      "\n",
      "##################################################\n",
      "TRAINING DATA EVALUATION\n",
      "\n",
      "\n",
      "Accuracy_Score = 0.9945454545454545\n",
      "Confusion Matrix = \n",
      "[[75  0  0  0  0  0  0  0  0  0  0  0  0  0  0  0  0  0  0  0  0  0]\n",
      " [ 0 75  0  0  0  0  0  0  0  0  0  0  0  0  0  0  0  0  0  0  0  0]\n",
      " [ 0  0 75  0  0  0  0  0  0  0  0  0  0  0  0  0  0  0  0  0  0  0]\n",
      " [ 0  0  0 75  0  0  0  0  0  0  0  0  0  0  0  0  0  0  0  0  0  0]\n",
      " [ 0  0  0  0 75  0  0  0  0  0  0  0  0  0  0  0  0  0  0  0  0  0]\n",
      " [ 0  0  0  0  0 75  0  0  0  0  0  0  0  0  0  0  0  0  0  0  0  0]\n",
      " [ 0  0  0  0  0  0 75  0  0  0  0  0  0  0  0  0  0  0  0  0  0  0]\n",
      " [ 0  0  0  0  0  0  0 75  0  0  0  0  0  0  0  0  0  0  0  0  0  0]\n",
      " [ 0  0  0  0  0  0  0  0 75  0  0  0  0  0  0  0  0  0  0  0  0  0]\n",
      " [ 0  0  0  0  0  0  0  0  0 75  0  0  0  0  0  0  0  0  0  0  0  0]\n",
      " [ 0  0  0  0  0  0  0  0  0  0 75  0  0  0  0  0  0  0  0  0  0  0]\n",
      " [ 0  0  1  0  0  0  0  0  0  0  0 74  0  0  0  0  0  0  0  0  0  0]\n",
      " [ 0  0  0  0  0  0  0  0  0  0  0  0 75  0  0  0  0  0  0  0  0  0]\n",
      " [ 0  0  0  0  0  0  0  0  0  0  1  0  0 74  0  0  0  0  0  0  0  0]\n",
      " [ 0  0  0  0  0  0  0  0  0  0  0  0  0  0 75  0  0  0  0  0  0  0]\n",
      " [ 0  0  0  0  0  0  0  0  0  0  0  0  0  0  0 75  0  0  0  0  0  0]\n",
      " [ 0  0  0  0  1  0  0  0  0  0  0  0  0  0  0  0 74  0  0  0  0  0]\n",
      " [ 0  0  0  0  0  0  0  0  0  0  0  0  0  0  0  0  0 75  0  0  0  0]\n",
      " [ 0  0  0  0  0  0  0  0  0  0  0  0  0  0  0  0  0  0 75  0  0  0]\n",
      " [ 0  0  0  0  0  0  0  0  0  0  0  0  0  0  0  0  0  0  0 75  0  0]\n",
      " [ 0  0  0  0  0  0  0  0  6  0  0  0  0  0  0  0  0  0  0  0 69  0]\n",
      " [ 0  0  0  0  0  0  0  0  0  0  0  0  0  0  0  0  0  0  0  0  0 75]]\n",
      "Classification Report = \n",
      "              precision    recall  f1-score   support\n",
      "\n",
      "           0       1.00      1.00      1.00        75\n",
      "           1       1.00      1.00      1.00        75\n",
      "           2       0.99      1.00      0.99        75\n",
      "           3       1.00      1.00      1.00        75\n",
      "           4       0.99      1.00      0.99        75\n",
      "           5       1.00      1.00      1.00        75\n",
      "           6       1.00      1.00      1.00        75\n",
      "           7       1.00      1.00      1.00        75\n",
      "           8       0.93      1.00      0.96        75\n",
      "           9       1.00      1.00      1.00        75\n",
      "          10       0.99      1.00      0.99        75\n",
      "          11       1.00      0.99      0.99        75\n",
      "          12       1.00      1.00      1.00        75\n",
      "          13       1.00      0.99      0.99        75\n",
      "          14       1.00      1.00      1.00        75\n",
      "          15       1.00      1.00      1.00        75\n",
      "          16       1.00      0.99      0.99        75\n",
      "          17       1.00      1.00      1.00        75\n",
      "          18       1.00      1.00      1.00        75\n",
      "          19       1.00      1.00      1.00        75\n",
      "          20       1.00      0.92      0.96        75\n",
      "          21       1.00      1.00      1.00        75\n",
      "\n",
      "    accuracy                           0.99      1650\n",
      "   macro avg       0.99      0.99      0.99      1650\n",
      "weighted avg       0.99      0.99      0.99      1650\n",
      "\n"
     ]
    },
    {
     "data": {
      "text/plain": [
       "'Success'"
      ]
     },
     "execution_count": 75,
     "metadata": {},
     "output_type": "execute_result"
    }
   ],
   "source": [
    "train_model(dt_model_hyp,x_train, x_test, y_train,y_test)"
   ]
  },
  {
   "cell_type": "markdown",
   "id": "6eddd730",
   "metadata": {},
   "source": [
    "## 4. Random Forest"
   ]
  },
  {
   "cell_type": "code",
   "execution_count": 76,
   "id": "17193e8f",
   "metadata": {},
   "outputs": [
    {
     "name": "stdout",
     "output_type": "stream",
     "text": [
      "##################################################\n",
      "TESTING DATA EVALUATION\n",
      "Accuracy_Score = 0.9963636363636363\n",
      "Confusion Matrix = \n",
      "[[25  0  0  0  0  0  0  0  0  0  0  0  0  0  0  0  0  0  0  0  0  0]\n",
      " [ 0 25  0  0  0  0  0  0  0  0  0  0  0  0  0  0  0  0  0  0  0  0]\n",
      " [ 0  0 25  0  0  0  0  0  0  0  0  0  0  0  0  0  0  0  0  0  0  0]\n",
      " [ 0  0  0 25  0  0  0  0  0  0  0  0  0  0  0  0  0  0  0  0  0  0]\n",
      " [ 0  0  0  0 25  0  0  0  0  0  0  0  0  0  0  0  0  0  0  0  0  0]\n",
      " [ 0  0  0  0  0 25  0  0  0  0  0  0  0  0  0  0  0  0  0  0  0  0]\n",
      " [ 0  0  0  0  0  0 25  0  0  0  0  0  0  0  0  0  0  0  0  0  0  0]\n",
      " [ 0  0  0  0  0  0  0 25  0  0  0  0  0  0  0  0  0  0  0  0  0  0]\n",
      " [ 0  0  0  0  0  0  0  0 23  0  0  0  0  0  0  0  0  0  0  0  2  0]\n",
      " [ 0  0  0  0  0  0  0  0  0 25  0  0  0  0  0  0  0  0  0  0  0  0]\n",
      " [ 0  0  0  0  0  0  0  0  0  0 25  0  0  0  0  0  0  0  0  0  0  0]\n",
      " [ 0  0  0  0  0  0  0  0  0  0  0 25  0  0  0  0  0  0  0  0  0  0]\n",
      " [ 0  0  0  0  0  0  0  0  0  0  0  0 25  0  0  0  0  0  0  0  0  0]\n",
      " [ 0  0  0  0  0  0  0  0  0  0  0  0  0 25  0  0  0  0  0  0  0  0]\n",
      " [ 0  0  0  0  0  0  0  0  0  0  0  0  0  0 25  0  0  0  0  0  0  0]\n",
      " [ 0  0  0  0  0  0  0  0  0  0  0  0  0  0  0 25  0  0  0  0  0  0]\n",
      " [ 0  0  0  0  0  0  0  0  0  0  0  0  0  0  0  0 25  0  0  0  0  0]\n",
      " [ 0  0  0  0  0  0  0  0  0  0  0  0  0  0  0  0  0 25  0  0  0  0]\n",
      " [ 0  0  0  0  0  0  0  0  0  0  0  0  0  0  0  0  0  0 25  0  0  0]\n",
      " [ 0  0  0  0  0  0  0  0  0  0  0  0  0  0  0  0  0  0  0 25  0  0]\n",
      " [ 0  0  0  0  0  0  0  0  0  0  0  0  0  0  0  0  0  0  0  0 25  0]\n",
      " [ 0  0  0  0  0  0  0  0  0  0  0  0  0  0  0  0  0  0  0  0  0 25]]\n",
      "Classification Report = \n",
      "              precision    recall  f1-score   support\n",
      "\n",
      "           0       1.00      1.00      1.00        25\n",
      "           1       1.00      1.00      1.00        25\n",
      "           2       1.00      1.00      1.00        25\n",
      "           3       1.00      1.00      1.00        25\n",
      "           4       1.00      1.00      1.00        25\n",
      "           5       1.00      1.00      1.00        25\n",
      "           6       1.00      1.00      1.00        25\n",
      "           7       1.00      1.00      1.00        25\n",
      "           8       1.00      0.92      0.96        25\n",
      "           9       1.00      1.00      1.00        25\n",
      "          10       1.00      1.00      1.00        25\n",
      "          11       1.00      1.00      1.00        25\n",
      "          12       1.00      1.00      1.00        25\n",
      "          13       1.00      1.00      1.00        25\n",
      "          14       1.00      1.00      1.00        25\n",
      "          15       1.00      1.00      1.00        25\n",
      "          16       1.00      1.00      1.00        25\n",
      "          17       1.00      1.00      1.00        25\n",
      "          18       1.00      1.00      1.00        25\n",
      "          19       1.00      1.00      1.00        25\n",
      "          20       0.93      1.00      0.96        25\n",
      "          21       1.00      1.00      1.00        25\n",
      "\n",
      "    accuracy                           1.00       550\n",
      "   macro avg       1.00      1.00      1.00       550\n",
      "weighted avg       1.00      1.00      1.00       550\n",
      "\n",
      "##################################################\n",
      "TRAINING DATA EVALUATION\n",
      "\n",
      "\n",
      "Accuracy_Score = 1.0\n",
      "Confusion Matrix = \n",
      "[[75  0  0  0  0  0  0  0  0  0  0  0  0  0  0  0  0  0  0  0  0  0]\n",
      " [ 0 75  0  0  0  0  0  0  0  0  0  0  0  0  0  0  0  0  0  0  0  0]\n",
      " [ 0  0 75  0  0  0  0  0  0  0  0  0  0  0  0  0  0  0  0  0  0  0]\n",
      " [ 0  0  0 75  0  0  0  0  0  0  0  0  0  0  0  0  0  0  0  0  0  0]\n",
      " [ 0  0  0  0 75  0  0  0  0  0  0  0  0  0  0  0  0  0  0  0  0  0]\n",
      " [ 0  0  0  0  0 75  0  0  0  0  0  0  0  0  0  0  0  0  0  0  0  0]\n",
      " [ 0  0  0  0  0  0 75  0  0  0  0  0  0  0  0  0  0  0  0  0  0  0]\n",
      " [ 0  0  0  0  0  0  0 75  0  0  0  0  0  0  0  0  0  0  0  0  0  0]\n",
      " [ 0  0  0  0  0  0  0  0 75  0  0  0  0  0  0  0  0  0  0  0  0  0]\n",
      " [ 0  0  0  0  0  0  0  0  0 75  0  0  0  0  0  0  0  0  0  0  0  0]\n",
      " [ 0  0  0  0  0  0  0  0  0  0 75  0  0  0  0  0  0  0  0  0  0  0]\n",
      " [ 0  0  0  0  0  0  0  0  0  0  0 75  0  0  0  0  0  0  0  0  0  0]\n",
      " [ 0  0  0  0  0  0  0  0  0  0  0  0 75  0  0  0  0  0  0  0  0  0]\n",
      " [ 0  0  0  0  0  0  0  0  0  0  0  0  0 75  0  0  0  0  0  0  0  0]\n",
      " [ 0  0  0  0  0  0  0  0  0  0  0  0  0  0 75  0  0  0  0  0  0  0]\n",
      " [ 0  0  0  0  0  0  0  0  0  0  0  0  0  0  0 75  0  0  0  0  0  0]\n",
      " [ 0  0  0  0  0  0  0  0  0  0  0  0  0  0  0  0 75  0  0  0  0  0]\n",
      " [ 0  0  0  0  0  0  0  0  0  0  0  0  0  0  0  0  0 75  0  0  0  0]\n",
      " [ 0  0  0  0  0  0  0  0  0  0  0  0  0  0  0  0  0  0 75  0  0  0]\n",
      " [ 0  0  0  0  0  0  0  0  0  0  0  0  0  0  0  0  0  0  0 75  0  0]\n",
      " [ 0  0  0  0  0  0  0  0  0  0  0  0  0  0  0  0  0  0  0  0 75  0]\n",
      " [ 0  0  0  0  0  0  0  0  0  0  0  0  0  0  0  0  0  0  0  0  0 75]]\n",
      "Classification Report = \n",
      "              precision    recall  f1-score   support\n",
      "\n",
      "           0       1.00      1.00      1.00        75\n",
      "           1       1.00      1.00      1.00        75\n",
      "           2       1.00      1.00      1.00        75\n",
      "           3       1.00      1.00      1.00        75\n",
      "           4       1.00      1.00      1.00        75\n",
      "           5       1.00      1.00      1.00        75\n",
      "           6       1.00      1.00      1.00        75\n",
      "           7       1.00      1.00      1.00        75\n",
      "           8       1.00      1.00      1.00        75\n",
      "           9       1.00      1.00      1.00        75\n",
      "          10       1.00      1.00      1.00        75\n",
      "          11       1.00      1.00      1.00        75\n",
      "          12       1.00      1.00      1.00        75\n",
      "          13       1.00      1.00      1.00        75\n",
      "          14       1.00      1.00      1.00        75\n",
      "          15       1.00      1.00      1.00        75\n",
      "          16       1.00      1.00      1.00        75\n",
      "          17       1.00      1.00      1.00        75\n",
      "          18       1.00      1.00      1.00        75\n",
      "          19       1.00      1.00      1.00        75\n",
      "          20       1.00      1.00      1.00        75\n",
      "          21       1.00      1.00      1.00        75\n",
      "\n",
      "    accuracy                           1.00      1650\n",
      "   macro avg       1.00      1.00      1.00      1650\n",
      "weighted avg       1.00      1.00      1.00      1650\n",
      "\n"
     ]
    },
    {
     "data": {
      "text/plain": [
       "'Success'"
      ]
     },
     "execution_count": 76,
     "metadata": {},
     "output_type": "execute_result"
    }
   ],
   "source": [
    "rf_model = RandomForestClassifier(random_state=5)\n",
    "train_model(rf_model,x_train, x_test, y_train,y_test)"
   ]
  },
  {
   "cell_type": "markdown",
   "id": "f526899e",
   "metadata": {},
   "source": [
    "### 4.1 Hyper Parameter - Random Forest"
   ]
  },
  {
   "cell_type": "code",
   "execution_count": 77,
   "id": "647afef0",
   "metadata": {},
   "outputs": [
    {
     "data": {
      "text/html": [
       "<style>#sk-container-id-5 {color: black;background-color: white;}#sk-container-id-5 pre{padding: 0;}#sk-container-id-5 div.sk-toggleable {background-color: white;}#sk-container-id-5 label.sk-toggleable__label {cursor: pointer;display: block;width: 100%;margin-bottom: 0;padding: 0.3em;box-sizing: border-box;text-align: center;}#sk-container-id-5 label.sk-toggleable__label-arrow:before {content: \"▸\";float: left;margin-right: 0.25em;color: #696969;}#sk-container-id-5 label.sk-toggleable__label-arrow:hover:before {color: black;}#sk-container-id-5 div.sk-estimator:hover label.sk-toggleable__label-arrow:before {color: black;}#sk-container-id-5 div.sk-toggleable__content {max-height: 0;max-width: 0;overflow: hidden;text-align: left;background-color: #f0f8ff;}#sk-container-id-5 div.sk-toggleable__content pre {margin: 0.2em;color: black;border-radius: 0.25em;background-color: #f0f8ff;}#sk-container-id-5 input.sk-toggleable__control:checked~div.sk-toggleable__content {max-height: 200px;max-width: 100%;overflow: auto;}#sk-container-id-5 input.sk-toggleable__control:checked~label.sk-toggleable__label-arrow:before {content: \"▾\";}#sk-container-id-5 div.sk-estimator input.sk-toggleable__control:checked~label.sk-toggleable__label {background-color: #d4ebff;}#sk-container-id-5 div.sk-label input.sk-toggleable__control:checked~label.sk-toggleable__label {background-color: #d4ebff;}#sk-container-id-5 input.sk-hidden--visually {border: 0;clip: rect(1px 1px 1px 1px);clip: rect(1px, 1px, 1px, 1px);height: 1px;margin: -1px;overflow: hidden;padding: 0;position: absolute;width: 1px;}#sk-container-id-5 div.sk-estimator {font-family: monospace;background-color: #f0f8ff;border: 1px dotted black;border-radius: 0.25em;box-sizing: border-box;margin-bottom: 0.5em;}#sk-container-id-5 div.sk-estimator:hover {background-color: #d4ebff;}#sk-container-id-5 div.sk-parallel-item::after {content: \"\";width: 100%;border-bottom: 1px solid gray;flex-grow: 1;}#sk-container-id-5 div.sk-label:hover label.sk-toggleable__label {background-color: #d4ebff;}#sk-container-id-5 div.sk-serial::before {content: \"\";position: absolute;border-left: 1px solid gray;box-sizing: border-box;top: 0;bottom: 0;left: 50%;z-index: 0;}#sk-container-id-5 div.sk-serial {display: flex;flex-direction: column;align-items: center;background-color: white;padding-right: 0.2em;padding-left: 0.2em;position: relative;}#sk-container-id-5 div.sk-item {position: relative;z-index: 1;}#sk-container-id-5 div.sk-parallel {display: flex;align-items: stretch;justify-content: center;background-color: white;position: relative;}#sk-container-id-5 div.sk-item::before, #sk-container-id-5 div.sk-parallel-item::before {content: \"\";position: absolute;border-left: 1px solid gray;box-sizing: border-box;top: 0;bottom: 0;left: 50%;z-index: -1;}#sk-container-id-5 div.sk-parallel-item {display: flex;flex-direction: column;z-index: 1;position: relative;background-color: white;}#sk-container-id-5 div.sk-parallel-item:first-child::after {align-self: flex-end;width: 50%;}#sk-container-id-5 div.sk-parallel-item:last-child::after {align-self: flex-start;width: 50%;}#sk-container-id-5 div.sk-parallel-item:only-child::after {width: 0;}#sk-container-id-5 div.sk-dashed-wrapped {border: 1px dashed gray;margin: 0 0.4em 0.5em 0.4em;box-sizing: border-box;padding-bottom: 0.4em;background-color: white;}#sk-container-id-5 div.sk-label label {font-family: monospace;font-weight: bold;display: inline-block;line-height: 1.2em;}#sk-container-id-5 div.sk-label-container {text-align: center;}#sk-container-id-5 div.sk-container {/* jupyter's `normalize.less` sets `[hidden] { display: none; }` but bootstrap.min.css set `[hidden] { display: none !important; }` so we also need the `!important` here to be able to override the default hidden behavior on the sphinx rendered scikit-learn.org. See: https://github.com/scikit-learn/scikit-learn/issues/21755 */display: inline-block !important;position: relative;}#sk-container-id-5 div.sk-text-repr-fallback {display: none;}</style><div id=\"sk-container-id-5\" class=\"sk-top-container\"><div class=\"sk-text-repr-fallback\"><pre>RandomizedSearchCV(cv=5, estimator=RandomForestClassifier(random_state=5),\n",
       "                   param_distributions={&#x27;criterion&#x27;: [&#x27;gini&#x27;, &#x27;entropy&#x27;],\n",
       "                                        &#x27;max_depth&#x27;: array([3, 4, 5, 6, 7, 8, 9]),\n",
       "                                        &#x27;min_samples_leaf&#x27;: array([2, 3, 4, 5, 6, 7, 8, 9]),\n",
       "                                        &#x27;min_samples_split&#x27;: array([ 2,  3,  4,  5,  6,  7,  8,  9, 10, 11, 12, 13, 14, 15, 16, 17, 18,\n",
       "       19]),\n",
       "                                        &#x27;n_estimators&#x27;: array([ 10,  20,  30,  40,  50,  60,  70,  80,  90, 100, 110, 120, 130,\n",
       "       140, 150, 160, 170, 180, 190, 200, 210, 220, 230, 240, 250, 260,\n",
       "       270, 280, 290, 300, 310, 320, 330, 340, 350, 360, 370, 380, 390])})</pre><b>In a Jupyter environment, please rerun this cell to show the HTML representation or trust the notebook. <br />On GitHub, the HTML representation is unable to render, please try loading this page with nbviewer.org.</b></div><div class=\"sk-container\" hidden><div class=\"sk-item sk-dashed-wrapped\"><div class=\"sk-label-container\"><div class=\"sk-label sk-toggleable\"><input class=\"sk-toggleable__control sk-hidden--visually\" id=\"sk-estimator-id-9\" type=\"checkbox\" ><label for=\"sk-estimator-id-9\" class=\"sk-toggleable__label sk-toggleable__label-arrow\">RandomizedSearchCV</label><div class=\"sk-toggleable__content\"><pre>RandomizedSearchCV(cv=5, estimator=RandomForestClassifier(random_state=5),\n",
       "                   param_distributions={&#x27;criterion&#x27;: [&#x27;gini&#x27;, &#x27;entropy&#x27;],\n",
       "                                        &#x27;max_depth&#x27;: array([3, 4, 5, 6, 7, 8, 9]),\n",
       "                                        &#x27;min_samples_leaf&#x27;: array([2, 3, 4, 5, 6, 7, 8, 9]),\n",
       "                                        &#x27;min_samples_split&#x27;: array([ 2,  3,  4,  5,  6,  7,  8,  9, 10, 11, 12, 13, 14, 15, 16, 17, 18,\n",
       "       19]),\n",
       "                                        &#x27;n_estimators&#x27;: array([ 10,  20,  30,  40,  50,  60,  70,  80,  90, 100, 110, 120, 130,\n",
       "       140, 150, 160, 170, 180, 190, 200, 210, 220, 230, 240, 250, 260,\n",
       "       270, 280, 290, 300, 310, 320, 330, 340, 350, 360, 370, 380, 390])})</pre></div></div></div><div class=\"sk-parallel\"><div class=\"sk-parallel-item\"><div class=\"sk-item\"><div class=\"sk-label-container\"><div class=\"sk-label sk-toggleable\"><input class=\"sk-toggleable__control sk-hidden--visually\" id=\"sk-estimator-id-10\" type=\"checkbox\" ><label for=\"sk-estimator-id-10\" class=\"sk-toggleable__label sk-toggleable__label-arrow\">estimator: RandomForestClassifier</label><div class=\"sk-toggleable__content\"><pre>RandomForestClassifier(random_state=5)</pre></div></div></div><div class=\"sk-serial\"><div class=\"sk-item\"><div class=\"sk-estimator sk-toggleable\"><input class=\"sk-toggleable__control sk-hidden--visually\" id=\"sk-estimator-id-11\" type=\"checkbox\" ><label for=\"sk-estimator-id-11\" class=\"sk-toggleable__label sk-toggleable__label-arrow\">RandomForestClassifier</label><div class=\"sk-toggleable__content\"><pre>RandomForestClassifier(random_state=5)</pre></div></div></div></div></div></div></div></div></div></div>"
      ],
      "text/plain": [
       "RandomizedSearchCV(cv=5, estimator=RandomForestClassifier(random_state=5),\n",
       "                   param_distributions={'criterion': ['gini', 'entropy'],\n",
       "                                        'max_depth': array([3, 4, 5, 6, 7, 8, 9]),\n",
       "                                        'min_samples_leaf': array([2, 3, 4, 5, 6, 7, 8, 9]),\n",
       "                                        'min_samples_split': array([ 2,  3,  4,  5,  6,  7,  8,  9, 10, 11, 12, 13, 14, 15, 16, 17, 18,\n",
       "       19]),\n",
       "                                        'n_estimators': array([ 10,  20,  30,  40,  50,  60,  70,  80,  90, 100, 110, 120, 130,\n",
       "       140, 150, 160, 170, 180, 190, 200, 210, 220, 230, 240, 250, 260,\n",
       "       270, 280, 290, 300, 310, 320, 330, 340, 350, 360, 370, 380, 390])})"
      ]
     },
     "execution_count": 77,
     "metadata": {},
     "output_type": "execute_result"
    }
   ],
   "source": [
    "hyp= {'criterion':[\"gini\",\"entropy\"],\n",
    "      \"n_estimators\": np.arange(10,400,10),\n",
    "     'max_depth':np.arange(3,10),\n",
    "     'min_samples_split':np.arange(2,20),\n",
    "     'min_samples_leaf':np.arange(2,10)\n",
    "     }\n",
    "\n",
    "rscv_rf = RandomizedSearchCV(rf_model,hyp, cv= 5)\n",
    "rscv_rf.fit(x_train,y_train)"
   ]
  },
  {
   "cell_type": "code",
   "execution_count": 78,
   "id": "3c1dca37",
   "metadata": {},
   "outputs": [
    {
     "data": {
      "text/html": [
       "<style>#sk-container-id-6 {color: black;background-color: white;}#sk-container-id-6 pre{padding: 0;}#sk-container-id-6 div.sk-toggleable {background-color: white;}#sk-container-id-6 label.sk-toggleable__label {cursor: pointer;display: block;width: 100%;margin-bottom: 0;padding: 0.3em;box-sizing: border-box;text-align: center;}#sk-container-id-6 label.sk-toggleable__label-arrow:before {content: \"▸\";float: left;margin-right: 0.25em;color: #696969;}#sk-container-id-6 label.sk-toggleable__label-arrow:hover:before {color: black;}#sk-container-id-6 div.sk-estimator:hover label.sk-toggleable__label-arrow:before {color: black;}#sk-container-id-6 div.sk-toggleable__content {max-height: 0;max-width: 0;overflow: hidden;text-align: left;background-color: #f0f8ff;}#sk-container-id-6 div.sk-toggleable__content pre {margin: 0.2em;color: black;border-radius: 0.25em;background-color: #f0f8ff;}#sk-container-id-6 input.sk-toggleable__control:checked~div.sk-toggleable__content {max-height: 200px;max-width: 100%;overflow: auto;}#sk-container-id-6 input.sk-toggleable__control:checked~label.sk-toggleable__label-arrow:before {content: \"▾\";}#sk-container-id-6 div.sk-estimator input.sk-toggleable__control:checked~label.sk-toggleable__label {background-color: #d4ebff;}#sk-container-id-6 div.sk-label input.sk-toggleable__control:checked~label.sk-toggleable__label {background-color: #d4ebff;}#sk-container-id-6 input.sk-hidden--visually {border: 0;clip: rect(1px 1px 1px 1px);clip: rect(1px, 1px, 1px, 1px);height: 1px;margin: -1px;overflow: hidden;padding: 0;position: absolute;width: 1px;}#sk-container-id-6 div.sk-estimator {font-family: monospace;background-color: #f0f8ff;border: 1px dotted black;border-radius: 0.25em;box-sizing: border-box;margin-bottom: 0.5em;}#sk-container-id-6 div.sk-estimator:hover {background-color: #d4ebff;}#sk-container-id-6 div.sk-parallel-item::after {content: \"\";width: 100%;border-bottom: 1px solid gray;flex-grow: 1;}#sk-container-id-6 div.sk-label:hover label.sk-toggleable__label {background-color: #d4ebff;}#sk-container-id-6 div.sk-serial::before {content: \"\";position: absolute;border-left: 1px solid gray;box-sizing: border-box;top: 0;bottom: 0;left: 50%;z-index: 0;}#sk-container-id-6 div.sk-serial {display: flex;flex-direction: column;align-items: center;background-color: white;padding-right: 0.2em;padding-left: 0.2em;position: relative;}#sk-container-id-6 div.sk-item {position: relative;z-index: 1;}#sk-container-id-6 div.sk-parallel {display: flex;align-items: stretch;justify-content: center;background-color: white;position: relative;}#sk-container-id-6 div.sk-item::before, #sk-container-id-6 div.sk-parallel-item::before {content: \"\";position: absolute;border-left: 1px solid gray;box-sizing: border-box;top: 0;bottom: 0;left: 50%;z-index: -1;}#sk-container-id-6 div.sk-parallel-item {display: flex;flex-direction: column;z-index: 1;position: relative;background-color: white;}#sk-container-id-6 div.sk-parallel-item:first-child::after {align-self: flex-end;width: 50%;}#sk-container-id-6 div.sk-parallel-item:last-child::after {align-self: flex-start;width: 50%;}#sk-container-id-6 div.sk-parallel-item:only-child::after {width: 0;}#sk-container-id-6 div.sk-dashed-wrapped {border: 1px dashed gray;margin: 0 0.4em 0.5em 0.4em;box-sizing: border-box;padding-bottom: 0.4em;background-color: white;}#sk-container-id-6 div.sk-label label {font-family: monospace;font-weight: bold;display: inline-block;line-height: 1.2em;}#sk-container-id-6 div.sk-label-container {text-align: center;}#sk-container-id-6 div.sk-container {/* jupyter's `normalize.less` sets `[hidden] { display: none; }` but bootstrap.min.css set `[hidden] { display: none !important; }` so we also need the `!important` here to be able to override the default hidden behavior on the sphinx rendered scikit-learn.org. See: https://github.com/scikit-learn/scikit-learn/issues/21755 */display: inline-block !important;position: relative;}#sk-container-id-6 div.sk-text-repr-fallback {display: none;}</style><div id=\"sk-container-id-6\" class=\"sk-top-container\"><div class=\"sk-text-repr-fallback\"><pre>RandomForestClassifier(max_depth=9, min_samples_leaf=4, min_samples_split=6,\n",
       "                       n_estimators=380, random_state=5)</pre><b>In a Jupyter environment, please rerun this cell to show the HTML representation or trust the notebook. <br />On GitHub, the HTML representation is unable to render, please try loading this page with nbviewer.org.</b></div><div class=\"sk-container\" hidden><div class=\"sk-item\"><div class=\"sk-estimator sk-toggleable\"><input class=\"sk-toggleable__control sk-hidden--visually\" id=\"sk-estimator-id-12\" type=\"checkbox\" checked><label for=\"sk-estimator-id-12\" class=\"sk-toggleable__label sk-toggleable__label-arrow\">RandomForestClassifier</label><div class=\"sk-toggleable__content\"><pre>RandomForestClassifier(max_depth=9, min_samples_leaf=4, min_samples_split=6,\n",
       "                       n_estimators=380, random_state=5)</pre></div></div></div></div></div>"
      ],
      "text/plain": [
       "RandomForestClassifier(max_depth=9, min_samples_leaf=4, min_samples_split=6,\n",
       "                       n_estimators=380, random_state=5)"
      ]
     },
     "execution_count": 78,
     "metadata": {},
     "output_type": "execute_result"
    }
   ],
   "source": [
    "rf_model_hyp = rscv_rf.best_estimator_\n",
    "rf_model_hyp.fit(x_train,y_train)"
   ]
  },
  {
   "cell_type": "code",
   "execution_count": 79,
   "id": "e2f0954b",
   "metadata": {},
   "outputs": [
    {
     "name": "stdout",
     "output_type": "stream",
     "text": [
      "##################################################\n",
      "TESTING DATA EVALUATION\n",
      "Accuracy_Score = 0.9927272727272727\n",
      "Confusion Matrix = \n",
      "[[25  0  0  0  0  0  0  0  0  0  0  0  0  0  0  0  0  0  0  0  0  0]\n",
      " [ 0 25  0  0  0  0  0  0  0  0  0  0  0  0  0  0  0  0  0  0  0  0]\n",
      " [ 0  0 25  0  0  0  0  0  0  0  0  0  0  0  0  0  0  0  0  0  0  0]\n",
      " [ 0  0  0 25  0  0  0  0  0  0  0  0  0  0  0  0  0  0  0  0  0  0]\n",
      " [ 0  0  0  0 25  0  0  0  0  0  0  0  0  0  0  0  0  0  0  0  0  0]\n",
      " [ 0  0  0  0  0 25  0  0  0  0  0  0  0  0  0  0  0  0  0  0  0  0]\n",
      " [ 0  0  0  0  0  0 25  0  0  0  0  0  0  0  0  0  0  0  0  0  0  0]\n",
      " [ 0  0  0  0  0  0  0 25  0  0  0  0  0  0  0  0  0  0  0  0  0  0]\n",
      " [ 0  0  0  0  0  0  0  0 23  0  0  0  0  0  0  0  0  0  0  0  2  0]\n",
      " [ 0  0  0  0  0  0  0  0  0 25  0  0  0  0  0  0  0  0  0  0  0  0]\n",
      " [ 0  0  0  0  0  0  0  0  0  0 25  0  0  0  0  0  0  0  0  0  0  0]\n",
      " [ 0  0  0  0  0  0  1  0  0  0  0 24  0  0  0  0  0  0  0  0  0  0]\n",
      " [ 0  0  0  0  0  0  0  0  0  0  0  0 25  0  0  0  0  0  0  0  0  0]\n",
      " [ 0  0  0  0  0  0  0  0  0  0  1  0  0 24  0  0  0  0  0  0  0  0]\n",
      " [ 0  0  0  0  0  0  0  0  0  0  0  0  0  0 25  0  0  0  0  0  0  0]\n",
      " [ 0  0  0  0  0  0  0  0  0  0  0  0  0  0  0 25  0  0  0  0  0  0]\n",
      " [ 0  0  0  0  0  0  0  0  0  0  0  0  0  0  0  0 25  0  0  0  0  0]\n",
      " [ 0  0  0  0  0  0  0  0  0  0  0  0  0  0  0  0  0 25  0  0  0  0]\n",
      " [ 0  0  0  0  0  0  0  0  0  0  0  0  0  0  0  0  0  0 25  0  0  0]\n",
      " [ 0  0  0  0  0  0  0  0  0  0  0  0  0  0  0  0  0  0  0 25  0  0]\n",
      " [ 0  0  0  0  0  0  0  0  0  0  0  0  0  0  0  0  0  0  0  0 25  0]\n",
      " [ 0  0  0  0  0  0  0  0  0  0  0  0  0  0  0  0  0  0  0  0  0 25]]\n",
      "Classification Report = \n",
      "              precision    recall  f1-score   support\n",
      "\n",
      "           0       1.00      1.00      1.00        25\n",
      "           1       1.00      1.00      1.00        25\n",
      "           2       1.00      1.00      1.00        25\n",
      "           3       1.00      1.00      1.00        25\n",
      "           4       1.00      1.00      1.00        25\n",
      "           5       1.00      1.00      1.00        25\n",
      "           6       0.96      1.00      0.98        25\n",
      "           7       1.00      1.00      1.00        25\n",
      "           8       1.00      0.92      0.96        25\n",
      "           9       1.00      1.00      1.00        25\n",
      "          10       0.96      1.00      0.98        25\n",
      "          11       1.00      0.96      0.98        25\n",
      "          12       1.00      1.00      1.00        25\n",
      "          13       1.00      0.96      0.98        25\n",
      "          14       1.00      1.00      1.00        25\n",
      "          15       1.00      1.00      1.00        25\n",
      "          16       1.00      1.00      1.00        25\n",
      "          17       1.00      1.00      1.00        25\n",
      "          18       1.00      1.00      1.00        25\n",
      "          19       1.00      1.00      1.00        25\n",
      "          20       0.93      1.00      0.96        25\n",
      "          21       1.00      1.00      1.00        25\n",
      "\n",
      "    accuracy                           0.99       550\n",
      "   macro avg       0.99      0.99      0.99       550\n",
      "weighted avg       0.99      0.99      0.99       550\n",
      "\n",
      "##################################################\n",
      "TRAINING DATA EVALUATION\n",
      "\n",
      "\n",
      "Accuracy_Score = 0.996969696969697\n",
      "Confusion Matrix = \n",
      "[[75  0  0  0  0  0  0  0  0  0  0  0  0  0  0  0  0  0  0  0  0  0]\n",
      " [ 0 75  0  0  0  0  0  0  0  0  0  0  0  0  0  0  0  0  0  0  0  0]\n",
      " [ 0  0 74  0  0  0  0  0  0  0  0  1  0  0  0  0  0  0  0  0  0  0]\n",
      " [ 0  0  0 75  0  0  0  0  0  0  0  0  0  0  0  0  0  0  0  0  0  0]\n",
      " [ 0  0  0  0 75  0  0  0  0  0  0  0  0  0  0  0  0  0  0  0  0  0]\n",
      " [ 0  0  0  0  0 75  0  0  0  0  0  0  0  0  0  0  0  0  0  0  0  0]\n",
      " [ 0  0  0  0  0  0 75  0  0  0  0  0  0  0  0  0  0  0  0  0  0  0]\n",
      " [ 0  0  0  0  0  0  0 75  0  0  0  0  0  0  0  0  0  0  0  0  0  0]\n",
      " [ 0  0  0  0  0  0  0  0 75  0  0  0  0  0  0  0  0  0  0  0  0  0]\n",
      " [ 0  0  0  0  0  0  0  0  0 75  0  0  0  0  0  0  0  0  0  0  0  0]\n",
      " [ 0  0  0  0  0  0  0  0  0  0 75  0  0  0  0  0  0  0  0  0  0  0]\n",
      " [ 0  0  0  0  0  0  0  0  0  0  0 75  0  0  0  0  0  0  0  0  0  0]\n",
      " [ 0  0  0  0  0  0  0  0  0  0  0  0 75  0  0  0  0  0  0  0  0  0]\n",
      " [ 0  0  0  0  0  0  0  0  0  0  0  0  0 75  0  0  0  0  0  0  0  0]\n",
      " [ 0  0  0  0  0  0  0  0  0  0  0  0  0  0 75  0  0  0  0  0  0  0]\n",
      " [ 0  0  0  0  0  0  0  0  0  0  0  0  0  0  0 75  0  0  0  0  0  0]\n",
      " [ 0  0  0  0  0  0  0  0  0  0  0  0  0  0  0  0 75  0  0  0  0  0]\n",
      " [ 0  0  0  0  0  0  0  0  0  0  0  0  0  0  0  0  0 75  0  0  0  0]\n",
      " [ 0  0  0  0  0  0  0  0  0  0  0  0  0  0  0  0  0  0 75  0  0  0]\n",
      " [ 0  0  0  0  0  0  0  0  0  0  0  0  0  0  0  0  0  0  0 75  0  0]\n",
      " [ 0  0  0  0  0  0  0  0  4  0  0  0  0  0  0  0  0  0  0  0 71  0]\n",
      " [ 0  0  0  0  0  0  0  0  0  0  0  0  0  0  0  0  0  0  0  0  0 75]]\n",
      "Classification Report = \n",
      "              precision    recall  f1-score   support\n",
      "\n",
      "           0       1.00      1.00      1.00        75\n",
      "           1       1.00      1.00      1.00        75\n",
      "           2       1.00      0.99      0.99        75\n",
      "           3       1.00      1.00      1.00        75\n",
      "           4       1.00      1.00      1.00        75\n",
      "           5       1.00      1.00      1.00        75\n",
      "           6       1.00      1.00      1.00        75\n",
      "           7       1.00      1.00      1.00        75\n",
      "           8       0.95      1.00      0.97        75\n",
      "           9       1.00      1.00      1.00        75\n",
      "          10       1.00      1.00      1.00        75\n",
      "          11       0.99      1.00      0.99        75\n",
      "          12       1.00      1.00      1.00        75\n",
      "          13       1.00      1.00      1.00        75\n",
      "          14       1.00      1.00      1.00        75\n",
      "          15       1.00      1.00      1.00        75\n",
      "          16       1.00      1.00      1.00        75\n",
      "          17       1.00      1.00      1.00        75\n",
      "          18       1.00      1.00      1.00        75\n",
      "          19       1.00      1.00      1.00        75\n",
      "          20       1.00      0.95      0.97        75\n",
      "          21       1.00      1.00      1.00        75\n",
      "\n",
      "    accuracy                           1.00      1650\n",
      "   macro avg       1.00      1.00      1.00      1650\n",
      "weighted avg       1.00      1.00      1.00      1650\n",
      "\n"
     ]
    },
    {
     "data": {
      "text/plain": [
       "'Success'"
      ]
     },
     "execution_count": 79,
     "metadata": {},
     "output_type": "execute_result"
    }
   ],
   "source": [
    "train_model(rf_model_hyp,x_train, x_test, y_train,y_test)"
   ]
  },
  {
   "cell_type": "markdown",
   "id": "9b4a0351",
   "metadata": {},
   "source": [
    "### 5. Support Vector Machine"
   ]
  },
  {
   "cell_type": "code",
   "execution_count": 80,
   "id": "dd2f5a19",
   "metadata": {},
   "outputs": [
    {
     "name": "stdout",
     "output_type": "stream",
     "text": [
      "##################################################\n",
      "TESTING DATA EVALUATION\n",
      "Accuracy_Score = 0.9781818181818182\n",
      "Confusion Matrix = \n",
      "[[25  0  0  0  0  0  0  0  0  0  0  0  0  0  0  0  0  0  0  0  0  0]\n",
      " [ 0 25  0  0  0  0  0  0  0  0  0  0  0  0  0  0  0  0  0  0  0  0]\n",
      " [ 0  0 25  0  0  0  0  0  0  0  0  0  0  0  0  0  0  0  0  0  0  0]\n",
      " [ 0  0  0 25  0  0  0  0  0  0  0  0  0  0  0  0  0  0  0  0  0  0]\n",
      " [ 0  0  0  0 25  0  0  0  0  0  0  0  0  0  0  0  0  0  0  0  0  0]\n",
      " [ 0  0  0  0  0 25  0  0  0  0  0  0  0  0  0  0  0  0  0  0  0  0]\n",
      " [ 0  0  0  0  0  0 25  0  0  0  0  0  0  0  0  0  0  0  0  0  0  0]\n",
      " [ 0  0  0  0  0  0  0 25  0  0  0  0  0  0  0  0  0  0  0  0  0  0]\n",
      " [ 0  0  0  0  0  0  0  0 25  0  0  0  0  0  0  0  0  0  0  0  0  0]\n",
      " [ 0  0  0  0  0  0  0  0  0 25  0  0  0  0  0  0  0  0  0  0  0  0]\n",
      " [ 0  0  0  0  0  0  0  0  0  0 24  0  0  1  0  0  0  0  0  0  0  0]\n",
      " [ 0  0  0  0  0  0  1  0  0  0  0 24  0  0  0  0  0  0  0  0  0  0]\n",
      " [ 0  0  0  0  0  0  0  0  0  0  0  0 25  0  0  0  0  0  0  0  0  0]\n",
      " [ 0  0  1  0  0  0  0  0  0  0  1  0  0 23  0  0  0  0  0  0  0  0]\n",
      " [ 0  0  0  0  0  0  0  0  0  0  0  0  0  0 25  0  0  0  0  0  0  0]\n",
      " [ 0  0  0  0  0  0  0  0  0  0  0  0  0  0  0 25  0  0  0  0  0  0]\n",
      " [ 0  0  0  0  0  0  0  0  0  0  0  0  0  0  0  0 25  0  0  0  0  0]\n",
      " [ 0  0  0  0  0  0  0  0  1  0  0  0  0  0  0  0  0 23  0  0  1  0]\n",
      " [ 0  0  1  0  0  0  0  0  0  2  0  0  0  0  0  0  0  0 22  0  0  0]\n",
      " [ 0  0  0  0  0  0  0  0  0  0  0  0  0  0  0  0  0  0  0 25  0  0]\n",
      " [ 0  0  0  0  0  0  0  0  3  0  0  0  0  0  0  0  0  0  0  0 22  0]\n",
      " [ 0  0  0  0  0  0  0  0  0  0  0  0  0  0  0  0  0  0  0  0  0 25]]\n",
      "Classification Report = \n",
      "              precision    recall  f1-score   support\n",
      "\n",
      "           0       1.00      1.00      1.00        25\n",
      "           1       1.00      1.00      1.00        25\n",
      "           2       0.93      1.00      0.96        25\n",
      "           3       1.00      1.00      1.00        25\n",
      "           4       1.00      1.00      1.00        25\n",
      "           5       1.00      1.00      1.00        25\n",
      "           6       0.96      1.00      0.98        25\n",
      "           7       1.00      1.00      1.00        25\n",
      "           8       0.86      1.00      0.93        25\n",
      "           9       0.93      1.00      0.96        25\n",
      "          10       0.96      0.96      0.96        25\n",
      "          11       1.00      0.96      0.98        25\n",
      "          12       1.00      1.00      1.00        25\n",
      "          13       0.96      0.92      0.94        25\n",
      "          14       1.00      1.00      1.00        25\n",
      "          15       1.00      1.00      1.00        25\n",
      "          16       1.00      1.00      1.00        25\n",
      "          17       1.00      0.92      0.96        25\n",
      "          18       1.00      0.88      0.94        25\n",
      "          19       1.00      1.00      1.00        25\n",
      "          20       0.96      0.88      0.92        25\n",
      "          21       1.00      1.00      1.00        25\n",
      "\n",
      "    accuracy                           0.98       550\n",
      "   macro avg       0.98      0.98      0.98       550\n",
      "weighted avg       0.98      0.98      0.98       550\n",
      "\n",
      "##################################################\n",
      "TRAINING DATA EVALUATION\n",
      "\n",
      "\n",
      "Accuracy_Score = 0.9781818181818182\n",
      "Confusion Matrix = \n",
      "[[75  0  0  0  0  0  0  0  0  0  0  0  0  0  0  0  0  0  0  0  0  0]\n",
      " [ 0 75  0  0  0  0  0  0  0  0  0  0  0  0  0  0  0  0  0  0  0  0]\n",
      " [ 0  0 75  0  0  0  0  0  0  0  0  0  0  0  0  0  0  0  0  0  0  0]\n",
      " [ 0  0  0 75  0  0  0  0  0  0  0  0  0  0  0  0  0  0  0  0  0  0]\n",
      " [ 0  0  0  0 75  0  0  0  0  0  0  0  0  0  0  0  0  0  0  0  0  0]\n",
      " [ 0  0  0  0  0 74  0  0  1  0  0  0  0  0  0  0  0  0  0  0  0  0]\n",
      " [ 0  0  0  0  0  0 75  0  0  0  0  0  0  0  0  0  0  0  0  0  0  0]\n",
      " [ 0  0  0  0  0  0  0 75  0  0  0  0  0  0  0  0  0  0  0  0  0  0]\n",
      " [ 0  0  0  0  0  0  0  0 75  0  0  0  0  0  0  0  0  0  0  0  0  0]\n",
      " [ 0  0  0  0  0  0  0  0  0 75  0  0  0  0  0  0  0  0  0  0  0  0]\n",
      " [ 0  0  0  0  0  0  0  0  0  0 75  0  0  0  0  0  0  0  0  0  0  0]\n",
      " [ 0  0  0  0  0  0  3  0  0  0  0 72  0  0  0  0  0  0  0  0  0  0]\n",
      " [ 0  0  0  0  0  0  0  0  0  0  0  0 75  0  0  0  0  0  0  0  0  0]\n",
      " [ 0  0  2  0  0  0  0  0  0  0  2  0  0 71  0  0  0  0  0  0  0  0]\n",
      " [ 0  0  0  0  0  0  0  0  0  0  0  0  0  0 75  0  0  0  0  0  0  0]\n",
      " [ 0  0  0  0  0  0  0  0  0  0  0  0  0  0  0 75  0  0  0  0  0  0]\n",
      " [ 0  0  0  0  0  0  0  0  0  0  0  0  0  0  0  0 75  0  0  0  0  0]\n",
      " [ 0  0  0  0  0  0  0  0  1  0  0  0  0  0  0  0  0 74  0  0  0  0]\n",
      " [ 0  0  0  0  0  0  0  0  0  5  0  0  0  0  0  0  0  0 70  0  0  0]\n",
      " [ 0  0  0  0  0  0  0  0  0  0  0  0  0  0  0  0  0  0  0 75  0  0]\n",
      " [ 0  0  0  0  0  0  0  0 22  0  0  0  0  0  0  0  0  0  0  0 53  0]\n",
      " [ 0  0  0  0  0  0  0  0  0  0  0  0  0  0  0  0  0  0  0  0  0 75]]\n",
      "Classification Report = \n",
      "              precision    recall  f1-score   support\n",
      "\n",
      "           0       1.00      1.00      1.00        75\n",
      "           1       1.00      1.00      1.00        75\n",
      "           2       0.97      1.00      0.99        75\n",
      "           3       1.00      1.00      1.00        75\n",
      "           4       1.00      1.00      1.00        75\n",
      "           5       1.00      0.99      0.99        75\n",
      "           6       0.96      1.00      0.98        75\n",
      "           7       1.00      1.00      1.00        75\n",
      "           8       0.76      1.00      0.86        75\n",
      "           9       0.94      1.00      0.97        75\n",
      "          10       0.97      1.00      0.99        75\n",
      "          11       1.00      0.96      0.98        75\n",
      "          12       1.00      1.00      1.00        75\n",
      "          13       1.00      0.95      0.97        75\n",
      "          14       1.00      1.00      1.00        75\n",
      "          15       1.00      1.00      1.00        75\n",
      "          16       1.00      1.00      1.00        75\n",
      "          17       1.00      0.99      0.99        75\n",
      "          18       1.00      0.93      0.97        75\n",
      "          19       1.00      1.00      1.00        75\n",
      "          20       1.00      0.71      0.83        75\n",
      "          21       1.00      1.00      1.00        75\n",
      "\n",
      "    accuracy                           0.98      1650\n",
      "   macro avg       0.98      0.98      0.98      1650\n",
      "weighted avg       0.98      0.98      0.98      1650\n",
      "\n"
     ]
    },
    {
     "data": {
      "text/plain": [
       "'Success'"
      ]
     },
     "execution_count": 80,
     "metadata": {},
     "output_type": "execute_result"
    }
   ],
   "source": [
    "svc_model = SVC(random_state=5)\n",
    "train_model(svc_model,x_train, x_test, y_train,y_test)"
   ]
  },
  {
   "cell_type": "markdown",
   "id": "c0092ea4",
   "metadata": {},
   "source": [
    "## Final Model Selection"
   ]
  },
  {
   "cell_type": "code",
   "execution_count": 81,
   "id": "a359ef32",
   "metadata": {},
   "outputs": [
    {
     "name": "stdout",
     "output_type": "stream",
     "text": [
      "##################################################\n",
      "TESTING DATA EVALUATION\n",
      "Accuracy_Score = 0.9690909090909091\n",
      "Confusion Matrix = \n",
      "[[25  0  0  0  0  0  0  0  0  0  0  0  0  0  0  0  0  0  0  0  0  0]\n",
      " [ 0 25  0  0  0  0  0  0  0  0  0  0  0  0  0  0  0  0  0  0  0  0]\n",
      " [ 0  0 24  0  0  0  0  0  0  0  0  0  0  1  0  0  0  0  0  0  0  0]\n",
      " [ 0  0  0 25  0  0  0  0  0  0  0  0  0  0  0  0  0  0  0  0  0  0]\n",
      " [ 0  0  0  0 25  0  0  0  0  0  0  0  0  0  0  0  0  0  0  0  0  0]\n",
      " [ 0  0  0  0  0 25  0  0  0  0  0  0  0  0  0  0  0  0  0  0  0  0]\n",
      " [ 0  0  0  0  0  0 22  0  0  0  0  3  0  0  0  0  0  0  0  0  0  0]\n",
      " [ 0  0  0  0  0  0  0 25  0  0  0  0  0  0  0  0  0  0  0  0  0  0]\n",
      " [ 0  0  0  0  0  0  0  0 21  0  0  0  0  0  0  0  0  0  0  0  4  0]\n",
      " [ 0  0  0  0  0  0  0  0  0 25  0  0  0  0  0  0  0  0  0  0  0  0]\n",
      " [ 0  0  0  0  0  0  0  0  0  0 25  0  0  0  0  0  0  0  0  0  0  0]\n",
      " [ 0  0  0  0  0  0  3  0  0  0  0 22  0  0  0  0  0  0  0  0  0  0]\n",
      " [ 0  0  0  0  0  0  0  0  0  0  0  0 25  0  0  0  0  0  0  0  0  0]\n",
      " [ 0  0  1  0  0  0  0  0  0  0  0  0  0 24  0  0  0  0  0  0  0  0]\n",
      " [ 0  0  0  0  0  0  0  0  0  0  0  0  0  0 25  0  0  0  0  0  0  0]\n",
      " [ 0  0  0  0  0  0  0  0  0  0  0  0  0  0  0 25  0  0  0  0  0  0]\n",
      " [ 0  0  0  0  0  0  0  0  0  0  0  0  0  0  0  0 25  0  0  0  0  0]\n",
      " [ 0  0  0  0  0  0  0  0  1  0  0  0  0  0  1  0  0 22  0  0  1  0]\n",
      " [ 0  0  1  0  0  0  0  0  0  0  0  0  0  0  0  0  0  0 24  0  0  0]\n",
      " [ 0  0  0  0  0  0  0  0  0  0  0  0  0  0  0  0  0  0  0 25  0  0]\n",
      " [ 0  0  0  0  0  0  0  0  1  0  0  0  0  0  0  0  0  0  0  0 24  0]\n",
      " [ 0  0  0  0  0  0  0  0  0  0  0  0  0  0  0  0  0  0  0  0  0 25]]\n",
      "Classification Report = \n",
      "              precision    recall  f1-score   support\n",
      "\n",
      "           0       1.00      1.00      1.00        25\n",
      "           1       1.00      1.00      1.00        25\n",
      "           2       0.92      0.96      0.94        25\n",
      "           3       1.00      1.00      1.00        25\n",
      "           4       1.00      1.00      1.00        25\n",
      "           5       1.00      1.00      1.00        25\n",
      "           6       0.88      0.88      0.88        25\n",
      "           7       1.00      1.00      1.00        25\n",
      "           8       0.91      0.84      0.87        25\n",
      "           9       1.00      1.00      1.00        25\n",
      "          10       1.00      1.00      1.00        25\n",
      "          11       0.88      0.88      0.88        25\n",
      "          12       1.00      1.00      1.00        25\n",
      "          13       0.96      0.96      0.96        25\n",
      "          14       0.96      1.00      0.98        25\n",
      "          15       1.00      1.00      1.00        25\n",
      "          16       1.00      1.00      1.00        25\n",
      "          17       1.00      0.88      0.94        25\n",
      "          18       1.00      0.96      0.98        25\n",
      "          19       1.00      1.00      1.00        25\n",
      "          20       0.83      0.96      0.89        25\n",
      "          21       1.00      1.00      1.00        25\n",
      "\n",
      "    accuracy                           0.97       550\n",
      "   macro avg       0.97      0.97      0.97       550\n",
      "weighted avg       0.97      0.97      0.97       550\n",
      "\n",
      "##################################################\n",
      "TRAINING DATA EVALUATION\n",
      "\n",
      "\n",
      "Accuracy_Score = 0.98\n",
      "Confusion Matrix = \n",
      "[[75  0  0  0  0  0  0  0  0  0  0  0  0  0  0  0  0  0  0  0  0  0]\n",
      " [ 0 75  0  0  0  0  0  0  0  0  0  0  0  0  0  0  0  0  0  0  0  0]\n",
      " [ 0  0 69  0  0  0  0  0  0  0  1  0  0  5  0  0  0  0  0  0  0  0]\n",
      " [ 0  0  0 75  0  0  0  0  0  0  0  0  0  0  0  0  0  0  0  0  0  0]\n",
      " [ 0  0  0  0 75  0  0  0  0  0  0  0  0  0  0  0  0  0  0  0  0  0]\n",
      " [ 0  0  0  0  0 75  0  0  0  0  0  0  0  0  0  0  0  0  0  0  0  0]\n",
      " [ 0  0  0  0  0  0 73  0  0  0  0  2  0  0  0  0  0  0  0  0  0  0]\n",
      " [ 0  0  0  0  0  0  0 75  0  0  0  0  0  0  0  0  0  0  0  0  0  0]\n",
      " [ 0  0  0  0  0  1  0  0 71  0  0  0  0  0  0  0  0  0  0  0  3  0]\n",
      " [ 0  0  0  0  0  0  0  0  0 75  0  0  0  0  0  0  0  0  0  0  0  0]\n",
      " [ 0  0  1  0  0  0  0  0  0  0 72  0  0  2  0  0  0  0  0  0  0  0]\n",
      " [ 0  0  0  0  0  0  4  0  0  0  0 71  0  0  0  0  0  0  0  0  0  0]\n",
      " [ 0  0  0  0  0  0  0  0  0  0  0  0 75  0  0  0  0  0  0  0  0  0]\n",
      " [ 0  0  4  0  0  0  0  0  0  0  1  0  0 70  0  0  0  0  0  0  0  0]\n",
      " [ 0  0  0  0  0  0  0  0  0  0  0  0  0  0 75  0  0  0  0  0  0  0]\n",
      " [ 0  0  0  0  0  0  0  0  0  0  0  0  0  0  0 75  0  0  0  0  0  0]\n",
      " [ 0  0  0  0  0  0  0  0  0  0  0  0  0  0  0  0 75  0  0  0  0  0]\n",
      " [ 0  0  0  0  0  0  0  0  0  0  0  0  0  0  0  0  0 75  0  0  0  0]\n",
      " [ 0  0  0  0  0  0  0  0  0  0  0  0  0  0  0  0  0  0 75  0  0  0]\n",
      " [ 0  0  0  0  0  0  0  0  0  0  0  0  0  0  0  0  0  0  0 75  0  0]\n",
      " [ 0  0  0  0  0  0  0  0  9  0  0  0  0  0  0  0  0  0  0  0 66  0]\n",
      " [ 0  0  0  0  0  0  0  0  0  0  0  0  0  0  0  0  0  0  0  0  0 75]]\n",
      "Classification Report = \n",
      "              precision    recall  f1-score   support\n",
      "\n",
      "           0       1.00      1.00      1.00        75\n",
      "           1       1.00      1.00      1.00        75\n",
      "           2       0.93      0.92      0.93        75\n",
      "           3       1.00      1.00      1.00        75\n",
      "           4       1.00      1.00      1.00        75\n",
      "           5       0.99      1.00      0.99        75\n",
      "           6       0.95      0.97      0.96        75\n",
      "           7       1.00      1.00      1.00        75\n",
      "           8       0.89      0.95      0.92        75\n",
      "           9       1.00      1.00      1.00        75\n",
      "          10       0.97      0.96      0.97        75\n",
      "          11       0.97      0.95      0.96        75\n",
      "          12       1.00      1.00      1.00        75\n",
      "          13       0.91      0.93      0.92        75\n",
      "          14       1.00      1.00      1.00        75\n",
      "          15       1.00      1.00      1.00        75\n",
      "          16       1.00      1.00      1.00        75\n",
      "          17       1.00      1.00      1.00        75\n",
      "          18       1.00      1.00      1.00        75\n",
      "          19       1.00      1.00      1.00        75\n",
      "          20       0.96      0.88      0.92        75\n",
      "          21       1.00      1.00      1.00        75\n",
      "\n",
      "    accuracy                           0.98      1650\n",
      "   macro avg       0.98      0.98      0.98      1650\n",
      "weighted avg       0.98      0.98      0.98      1650\n",
      "\n"
     ]
    },
    {
     "data": {
      "text/plain": [
       "'Success'"
      ]
     },
     "execution_count": 81,
     "metadata": {},
     "output_type": "execute_result"
    }
   ],
   "source": [
    "train_model(lgr_model,x_train, x_test, y_train,y_test)"
   ]
  },
  {
   "cell_type": "code",
   "execution_count": 82,
   "id": "eb0b8339",
   "metadata": {},
   "outputs": [],
   "source": [
    "import pickle\n",
    "model = pickle.dump(lgr_model,open('model.pkl','wb'))"
   ]
  },
  {
   "cell_type": "markdown",
   "id": "d4358920",
   "metadata": {},
   "source": [
    "## User Define Function"
   ]
  },
  {
   "cell_type": "code",
   "execution_count": 83,
   "id": "632399d1",
   "metadata": {},
   "outputs": [],
   "source": [
    "def prediction(user_input_data):\n",
    "\n",
    "    result = lgr_model.predict([user_input_data])\n",
    "    class_list = encoder.classes_\n",
    "    return (f\"Crop Name = {class_list[result[0]]}\")"
   ]
  },
  {
   "cell_type": "code",
   "execution_count": 84,
   "id": "126c3f2c",
   "metadata": {},
   "outputs": [
    {
     "data": {
      "text/plain": [
       "N               30.000000\n",
       "P               60.000000\n",
       "K               21.000000\n",
       "temperature     28.876676\n",
       "humidity        62.490121\n",
       "ph               5.457871\n",
       "rainfall       182.268818\n",
       "Name: 467, dtype: float64"
      ]
     },
     "execution_count": 84,
     "metadata": {},
     "output_type": "execute_result"
    }
   ],
   "source": [
    "user_input_data = x_test.iloc[90][::] # 90th row of x_test\n",
    "user_input_data"
   ]
  },
  {
   "cell_type": "code",
   "execution_count": 85,
   "id": "30a9bc83",
   "metadata": {},
   "outputs": [
    {
     "data": {
      "text/plain": [
       "'Crop Name = pigeonpeas'"
      ]
     },
     "execution_count": 85,
     "metadata": {},
     "output_type": "execute_result"
    }
   ],
   "source": [
    "prediction(user_input_data)"
   ]
  },
  {
   "cell_type": "code",
   "execution_count": 86,
   "id": "d07fab2b",
   "metadata": {},
   "outputs": [
    {
     "data": {
      "text/plain": [
       "'Crop Name = pigeonpeas'"
      ]
     },
     "execution_count": 86,
     "metadata": {},
     "output_type": "execute_result"
    }
   ],
   "source": [
    "prediction([30,60,21,28.87,62.49,5.46,182.27])"
   ]
  },
  {
   "cell_type": "code",
   "execution_count": 87,
   "id": "c28aa40a",
   "metadata": {},
   "outputs": [
    {
     "data": {
      "text/plain": [
       "'Crop Name = coffee'"
      ]
     },
     "execution_count": 87,
     "metadata": {},
     "output_type": "execute_result"
    }
   ],
   "source": [
    "prediction([81,18,50,28.87,62.49,5.46,182.27])"
   ]
  },
  {
   "cell_type": "code",
   "execution_count": 88,
   "id": "f875d549",
   "metadata": {},
   "outputs": [
    {
     "data": {
      "text/html": [
       "<div>\n",
       "<style scoped>\n",
       "    .dataframe tbody tr th:only-of-type {\n",
       "        vertical-align: middle;\n",
       "    }\n",
       "\n",
       "    .dataframe tbody tr th {\n",
       "        vertical-align: top;\n",
       "    }\n",
       "\n",
       "    .dataframe thead th {\n",
       "        text-align: right;\n",
       "    }\n",
       "</style>\n",
       "<table border=\"1\" class=\"dataframe\">\n",
       "  <thead>\n",
       "    <tr style=\"text-align: right;\">\n",
       "      <th></th>\n",
       "      <th>N</th>\n",
       "      <th>P</th>\n",
       "      <th>K</th>\n",
       "      <th>temperature</th>\n",
       "      <th>humidity</th>\n",
       "      <th>ph</th>\n",
       "      <th>rainfall</th>\n",
       "    </tr>\n",
       "  </thead>\n",
       "  <tbody>\n",
       "    <tr>\n",
       "      <th>1377</th>\n",
       "      <td>81</td>\n",
       "      <td>18</td>\n",
       "      <td>50</td>\n",
       "      <td>26.440195</td>\n",
       "      <td>80.919343</td>\n",
       "      <td>6.507111</td>\n",
       "      <td>47.818476</td>\n",
       "    </tr>\n",
       "    <tr>\n",
       "      <th>2089</th>\n",
       "      <td>71</td>\n",
       "      <td>52</td>\n",
       "      <td>43</td>\n",
       "      <td>26.475495</td>\n",
       "      <td>73.961646</td>\n",
       "      <td>6.732826</td>\n",
       "      <td>180.251360</td>\n",
       "    </tr>\n",
       "    <tr>\n",
       "      <th>1213</th>\n",
       "      <td>16</td>\n",
       "      <td>139</td>\n",
       "      <td>203</td>\n",
       "      <td>17.828037</td>\n",
       "      <td>80.960934</td>\n",
       "      <td>6.275641</td>\n",
       "      <td>65.847488</td>\n",
       "    </tr>\n",
       "    <tr>\n",
       "      <th>958</th>\n",
       "      <td>4</td>\n",
       "      <td>19</td>\n",
       "      <td>43</td>\n",
       "      <td>18.071330</td>\n",
       "      <td>93.145549</td>\n",
       "      <td>5.779427</td>\n",
       "      <td>106.360202</td>\n",
       "    </tr>\n",
       "    <tr>\n",
       "      <th>2151</th>\n",
       "      <td>112</td>\n",
       "      <td>17</td>\n",
       "      <td>28</td>\n",
       "      <td>27.629755</td>\n",
       "      <td>61.260026</td>\n",
       "      <td>6.777418</td>\n",
       "      <td>196.649266</td>\n",
       "    </tr>\n",
       "    <tr>\n",
       "      <th>...</th>\n",
       "      <td>...</td>\n",
       "      <td>...</td>\n",
       "      <td>...</td>\n",
       "      <td>...</td>\n",
       "      <td>...</td>\n",
       "      <td>...</td>\n",
       "      <td>...</td>\n",
       "    </tr>\n",
       "    <tr>\n",
       "      <th>7</th>\n",
       "      <td>94</td>\n",
       "      <td>53</td>\n",
       "      <td>40</td>\n",
       "      <td>20.277744</td>\n",
       "      <td>82.894086</td>\n",
       "      <td>5.718627</td>\n",
       "      <td>241.974195</td>\n",
       "    </tr>\n",
       "    <tr>\n",
       "      <th>157</th>\n",
       "      <td>77</td>\n",
       "      <td>58</td>\n",
       "      <td>19</td>\n",
       "      <td>22.805603</td>\n",
       "      <td>56.507689</td>\n",
       "      <td>5.791650</td>\n",
       "      <td>101.595279</td>\n",
       "    </tr>\n",
       "    <tr>\n",
       "      <th>1349</th>\n",
       "      <td>98</td>\n",
       "      <td>25</td>\n",
       "      <td>52</td>\n",
       "      <td>25.280137</td>\n",
       "      <td>83.153937</td>\n",
       "      <td>6.224066</td>\n",
       "      <td>49.294566</td>\n",
       "    </tr>\n",
       "    <tr>\n",
       "      <th>1520</th>\n",
       "      <td>35</td>\n",
       "      <td>128</td>\n",
       "      <td>205</td>\n",
       "      <td>21.072734</td>\n",
       "      <td>93.565860</td>\n",
       "      <td>6.041054</td>\n",
       "      <td>107.873701</td>\n",
       "    </tr>\n",
       "    <tr>\n",
       "      <th>467</th>\n",
       "      <td>30</td>\n",
       "      <td>60</td>\n",
       "      <td>21</td>\n",
       "      <td>28.876676</td>\n",
       "      <td>62.490121</td>\n",
       "      <td>5.457871</td>\n",
       "      <td>182.268818</td>\n",
       "    </tr>\n",
       "  </tbody>\n",
       "</table>\n",
       "<p>91 rows × 7 columns</p>\n",
       "</div>"
      ],
      "text/plain": [
       "        N    P    K  temperature   humidity        ph    rainfall\n",
       "1377   81   18   50    26.440195  80.919343  6.507111   47.818476\n",
       "2089   71   52   43    26.475495  73.961646  6.732826  180.251360\n",
       "1213   16  139  203    17.828037  80.960934  6.275641   65.847488\n",
       "958     4   19   43    18.071330  93.145549  5.779427  106.360202\n",
       "2151  112   17   28    27.629755  61.260026  6.777418  196.649266\n",
       "...   ...  ...  ...          ...        ...       ...         ...\n",
       "7      94   53   40    20.277744  82.894086  5.718627  241.974195\n",
       "157    77   58   19    22.805603  56.507689  5.791650  101.595279\n",
       "1349   98   25   52    25.280137  83.153937  6.224066   49.294566\n",
       "1520   35  128  205    21.072734  93.565860  6.041054  107.873701\n",
       "467    30   60   21    28.876676  62.490121  5.457871  182.268818\n",
       "\n",
       "[91 rows x 7 columns]"
      ]
     },
     "execution_count": 88,
     "metadata": {},
     "output_type": "execute_result"
    }
   ],
   "source": [
    "x_test.head(91)"
   ]
  },
  {
   "cell_type": "code",
   "execution_count": 89,
   "id": "d66daa6e",
   "metadata": {},
   "outputs": [
    {
     "data": {
      "text/html": [
       "<div>\n",
       "<style scoped>\n",
       "    .dataframe tbody tr th:only-of-type {\n",
       "        vertical-align: middle;\n",
       "    }\n",
       "\n",
       "    .dataframe tbody tr th {\n",
       "        vertical-align: top;\n",
       "    }\n",
       "\n",
       "    .dataframe thead th {\n",
       "        text-align: right;\n",
       "    }\n",
       "</style>\n",
       "<table border=\"1\" class=\"dataframe\">\n",
       "  <thead>\n",
       "    <tr style=\"text-align: right;\">\n",
       "      <th></th>\n",
       "      <th>N</th>\n",
       "      <th>P</th>\n",
       "      <th>K</th>\n",
       "      <th>temperature</th>\n",
       "      <th>humidity</th>\n",
       "      <th>ph</th>\n",
       "      <th>rainfall</th>\n",
       "      <th>label</th>\n",
       "    </tr>\n",
       "  </thead>\n",
       "  <tbody>\n",
       "    <tr>\n",
       "      <th>0</th>\n",
       "      <td>90</td>\n",
       "      <td>42</td>\n",
       "      <td>43</td>\n",
       "      <td>20.879744</td>\n",
       "      <td>82.002744</td>\n",
       "      <td>6.502985</td>\n",
       "      <td>202.935536</td>\n",
       "      <td>rice</td>\n",
       "    </tr>\n",
       "    <tr>\n",
       "      <th>1</th>\n",
       "      <td>85</td>\n",
       "      <td>58</td>\n",
       "      <td>41</td>\n",
       "      <td>21.770462</td>\n",
       "      <td>80.319644</td>\n",
       "      <td>7.038096</td>\n",
       "      <td>226.655537</td>\n",
       "      <td>rice</td>\n",
       "    </tr>\n",
       "    <tr>\n",
       "      <th>2</th>\n",
       "      <td>60</td>\n",
       "      <td>55</td>\n",
       "      <td>44</td>\n",
       "      <td>23.004459</td>\n",
       "      <td>82.320763</td>\n",
       "      <td>7.840207</td>\n",
       "      <td>263.964248</td>\n",
       "      <td>rice</td>\n",
       "    </tr>\n",
       "    <tr>\n",
       "      <th>3</th>\n",
       "      <td>74</td>\n",
       "      <td>35</td>\n",
       "      <td>40</td>\n",
       "      <td>26.491096</td>\n",
       "      <td>80.158363</td>\n",
       "      <td>6.980401</td>\n",
       "      <td>242.864034</td>\n",
       "      <td>rice</td>\n",
       "    </tr>\n",
       "    <tr>\n",
       "      <th>4</th>\n",
       "      <td>78</td>\n",
       "      <td>42</td>\n",
       "      <td>42</td>\n",
       "      <td>20.130175</td>\n",
       "      <td>81.604873</td>\n",
       "      <td>7.628473</td>\n",
       "      <td>262.717340</td>\n",
       "      <td>rice</td>\n",
       "    </tr>\n",
       "    <tr>\n",
       "      <th>...</th>\n",
       "      <td>...</td>\n",
       "      <td>...</td>\n",
       "      <td>...</td>\n",
       "      <td>...</td>\n",
       "      <td>...</td>\n",
       "      <td>...</td>\n",
       "      <td>...</td>\n",
       "      <td>...</td>\n",
       "    </tr>\n",
       "    <tr>\n",
       "      <th>463</th>\n",
       "      <td>14</td>\n",
       "      <td>75</td>\n",
       "      <td>24</td>\n",
       "      <td>24.547578</td>\n",
       "      <td>57.341448</td>\n",
       "      <td>6.436160</td>\n",
       "      <td>118.360656</td>\n",
       "      <td>pigeonpeas</td>\n",
       "    </tr>\n",
       "    <tr>\n",
       "      <th>464</th>\n",
       "      <td>36</td>\n",
       "      <td>80</td>\n",
       "      <td>21</td>\n",
       "      <td>33.647696</td>\n",
       "      <td>48.414901</td>\n",
       "      <td>7.066087</td>\n",
       "      <td>100.467328</td>\n",
       "      <td>pigeonpeas</td>\n",
       "    </tr>\n",
       "    <tr>\n",
       "      <th>465</th>\n",
       "      <td>7</td>\n",
       "      <td>77</td>\n",
       "      <td>18</td>\n",
       "      <td>20.559126</td>\n",
       "      <td>60.548807</td>\n",
       "      <td>6.655918</td>\n",
       "      <td>191.089511</td>\n",
       "      <td>pigeonpeas</td>\n",
       "    </tr>\n",
       "    <tr>\n",
       "      <th>466</th>\n",
       "      <td>29</td>\n",
       "      <td>78</td>\n",
       "      <td>25</td>\n",
       "      <td>19.959917</td>\n",
       "      <td>59.331578</td>\n",
       "      <td>5.982855</td>\n",
       "      <td>195.787103</td>\n",
       "      <td>pigeonpeas</td>\n",
       "    </tr>\n",
       "    <tr>\n",
       "      <th>467</th>\n",
       "      <td>30</td>\n",
       "      <td>60</td>\n",
       "      <td>21</td>\n",
       "      <td>28.876676</td>\n",
       "      <td>62.490121</td>\n",
       "      <td>5.457871</td>\n",
       "      <td>182.268818</td>\n",
       "      <td>pigeonpeas</td>\n",
       "    </tr>\n",
       "  </tbody>\n",
       "</table>\n",
       "<p>468 rows × 8 columns</p>\n",
       "</div>"
      ],
      "text/plain": [
       "      N   P   K  temperature   humidity        ph    rainfall       label\n",
       "0    90  42  43    20.879744  82.002744  6.502985  202.935536        rice\n",
       "1    85  58  41    21.770462  80.319644  7.038096  226.655537        rice\n",
       "2    60  55  44    23.004459  82.320763  7.840207  263.964248        rice\n",
       "3    74  35  40    26.491096  80.158363  6.980401  242.864034        rice\n",
       "4    78  42  42    20.130175  81.604873  7.628473  262.717340        rice\n",
       "..   ..  ..  ..          ...        ...       ...         ...         ...\n",
       "463  14  75  24    24.547578  57.341448  6.436160  118.360656  pigeonpeas\n",
       "464  36  80  21    33.647696  48.414901  7.066087  100.467328  pigeonpeas\n",
       "465   7  77  18    20.559126  60.548807  6.655918  191.089511  pigeonpeas\n",
       "466  29  78  25    19.959917  59.331578  5.982855  195.787103  pigeonpeas\n",
       "467  30  60  21    28.876676  62.490121  5.457871  182.268818  pigeonpeas\n",
       "\n",
       "[468 rows x 8 columns]"
      ]
     },
     "execution_count": 89,
     "metadata": {},
     "output_type": "execute_result"
    }
   ],
   "source": [
    "df.head(468)"
   ]
  },
  {
   "cell_type": "code",
   "execution_count": 90,
   "id": "da22b885",
   "metadata": {},
   "outputs": [
    {
     "data": {
      "text/plain": [
       "(550, 7)"
      ]
     },
     "execution_count": 90,
     "metadata": {},
     "output_type": "execute_result"
    }
   ],
   "source": [
    "x_test.shape"
   ]
  },
  {
   "cell_type": "code",
   "execution_count": 91,
   "id": "569d4b88",
   "metadata": {},
   "outputs": [
    {
     "name": "stdout",
     "output_type": "stream",
     "text": [
      "7\n"
     ]
    }
   ],
   "source": [
    "columns = x_test.columns.to_list()\n",
    "print(len(columns))"
   ]
  },
  {
   "cell_type": "code",
   "execution_count": 92,
   "id": "db56a7cc",
   "metadata": {},
   "outputs": [
    {
     "data": {
      "text/plain": [
       "{'col_name': ['N', 'P', 'K', 'temperature', 'humidity', 'ph', 'rainfall']}"
      ]
     },
     "execution_count": 92,
     "metadata": {},
     "output_type": "execute_result"
    }
   ],
   "source": [
    "columns_dict = {\"col_name\": columns}\n",
    "columns_dict"
   ]
  },
  {
   "cell_type": "code",
   "execution_count": 93,
   "id": "cc9a86b4",
   "metadata": {},
   "outputs": [],
   "source": [
    "import json"
   ]
  },
  {
   "cell_type": "code",
   "execution_count": 94,
   "id": "52f553ac",
   "metadata": {},
   "outputs": [],
   "source": [
    "with open('columns_name.json','w') as json_file:\n",
    "    json.dump(columns_dict,json_file)"
   ]
  },
  {
   "cell_type": "code",
   "execution_count": null,
   "id": "2dc8c274",
   "metadata": {},
   "outputs": [],
   "source": []
  }
 ],
 "metadata": {
  "kernelspec": {
   "display_name": "Python 3 (ipykernel)",
   "language": "python",
   "name": "python3"
  },
  "language_info": {
   "codemirror_mode": {
    "name": "ipython",
    "version": 3
   },
   "file_extension": ".py",
   "mimetype": "text/x-python",
   "name": "python",
   "nbconvert_exporter": "python",
   "pygments_lexer": "ipython3",
   "version": "3.10.2"
  }
 },
 "nbformat": 4,
 "nbformat_minor": 5
}
